{
 "cells": [
  {
   "cell_type": "markdown",
   "id": "fa060c87",
   "metadata": {},
   "source": [
    "# Fáza 2"
   ]
  },
  {
   "cell_type": "markdown",
   "id": "875e7bda",
   "metadata": {},
   "source": [
    "**Michaela Gubovská, Jakub Hajdu**"
   ]
  },
  {
   "cell_type": "markdown",
   "id": "5b0bd618",
   "metadata": {},
   "source": [
    "V tejto fáze zealizujeme predspracovanie údajov pre strojové učenie."
   ]
  },
  {
   "cell_type": "code",
   "execution_count": null,
   "id": "d1301959",
   "metadata": {},
   "outputs": [],
   "source": [
    "import pandas as pd\n",
    "import seaborn as sns\n",
    "import matplotlib.pyplot as plt\n",
    "import statsmodels.api as sm\n",
    "import scipy.stats as stats\n",
    "import statsmodels.stats.api as sms\n",
    "import numpy as np\n",
    "from datetime import datetime\n",
    "from sklearn.impute import SimpleImputer, KNNImputer\n",
    "from copy import deepcopy\n",
    "\n",
    "filename_p = \"data/profiles.csv\"\n",
    "dfp = pd.read_csv(filename_p, sep='\\t')\n",
    "\n",
    "filename_l = \"data/labor.csv\"\n",
    "dfl = pd.read_csv(filename_l, sep='\\t')"
   ]
  },
  {
   "cell_type": "markdown",
   "id": "5ba33b2f",
   "metadata": {},
   "source": [
    "Pôvodné neočistené dáta vyzerajú napríklad nasledovne:"
   ]
  },
  {
   "cell_type": "code",
   "execution_count": null,
   "id": "a79a0ae7",
   "metadata": {},
   "outputs": [],
   "source": [
    "dfp.head()"
   ]
  },
  {
   "cell_type": "code",
   "execution_count": null,
   "id": "42525d7c",
   "metadata": {},
   "outputs": [],
   "source": [
    "dfl.head()"
   ]
  },
  {
   "cell_type": "markdown",
   "id": "b8275b0a",
   "metadata": {},
   "source": [
    "Ako prvé vykonáme základné úpravy dát z prvej fázy (EDA). Konkrétne očistíme tabuľky od nepotrebného stĺpca \"Unnamed\", zjednotíme hodnoty vo vybraných stĺpcoch (yes/no a pod.), upravíme stĺpec \"birthdate\" na iba rok narodenia a odstránime duplikáty z druhej tabuľky, nakoľko z EDA vieme, že v prvej sa duplikáty nenachádzajú."
   ]
  },
  {
   "cell_type": "code",
   "execution_count": null,
   "id": "6cde4c73",
   "metadata": {},
   "outputs": [],
   "source": [
    "dfp.drop('Unnamed: 0', axis=1, inplace=True)\n",
    "dfp['race'] = dfp['race'].str.replace('white','White')\n",
    "dfp['race'] = dfp['race'].str.replace('black','Black')\n",
    "dfp['race'] = dfp['race'].str.replace('blsck','Black')\n",
    "dfp['birthdate'] = (pd.to_datetime(dfp.birthdate)).dt.year\n",
    "\n",
    "\n",
    "dfl.drop('Unnamed: 0', axis=1, inplace=True)\n",
    "dfl = dfl.drop_duplicates()\n",
    "dfl['smoker'] = dfl['smoker'].str.replace('N','no')\n",
    "dfl['smoker'] = dfl['smoker'].str.replace('Y','yes')"
   ]
  },
  {
   "cell_type": "markdown",
   "id": "7e26e476",
   "metadata": {},
   "source": [
    "Po týchto úpravách už vyzerajú naše dáta takto:"
   ]
  },
  {
   "cell_type": "code",
   "execution_count": null,
   "id": "d6ed5d47",
   "metadata": {},
   "outputs": [],
   "source": [
    "dfp.head()"
   ]
  },
  {
   "cell_type": "code",
   "execution_count": null,
   "id": "183c8b45",
   "metadata": {
    "scrolled": true
   },
   "outputs": [],
   "source": [
    "dfl.head()"
   ]
  },
  {
   "cell_type": "markdown",
   "id": "fc525cf9",
   "metadata": {},
   "source": [
    "Pre ďalšie úpravy dát si tieto 2 tabuľky spojíme do jednej."
   ]
  },
  {
   "cell_type": "code",
   "execution_count": null,
   "id": "dcaa31cf",
   "metadata": {
    "scrolled": true
   },
   "outputs": [],
   "source": [
    "df = pd.merge(dfp, dfl, how=\"left\", on=[\"ssn\"])\n",
    "df.head()"
   ]
  },
  {
   "cell_type": "markdown",
   "id": "60051ed9",
   "metadata": {},
   "source": [
    "Odstránime stĺpce, ktoré ďalej nebudeme používať - stĺpce mená, adresy, zamestnanie, a rodinný stav. Tieto stĺpce sú nám pre ďalšiu fázu strojového učenia zbytočné, nakoľko podľa nás nemajú vplyv na indikátor."
   ]
  },
  {
   "cell_type": "markdown",
   "id": "855b22cd",
   "metadata": {},
   "source": [
    "Odstránime aj stĺpce \"blood_group\" a \"race\", pretože sme zistili, že nemajú vplyv na indikátor, keďže pri každej skupine je pomer indikátora 0 a 1 približne rovnaký."
   ]
  },
  {
   "cell_type": "code",
   "execution_count": null,
   "id": "80eacbdb",
   "metadata": {},
   "outputs": [],
   "source": [
    "df.groupby(['blood_group', 'indicator']).size()"
   ]
  },
  {
   "cell_type": "code",
   "execution_count": null,
   "id": "251e3417",
   "metadata": {},
   "outputs": [],
   "source": [
    "df.groupby(['race', 'indicator']).size()"
   ]
  },
  {
   "cell_type": "code",
   "execution_count": null,
   "id": "76a9c12f",
   "metadata": {},
   "outputs": [],
   "source": [
    "df.drop('name_x', axis=1, inplace=True)\n",
    "df.drop('name_y', axis=1, inplace=True)\n",
    "df.drop('job', axis=1, inplace=True)\n",
    "df.drop('address', axis=1, inplace=True)\n",
    "df.drop('residence', axis=1, inplace=True)\n",
    "df.drop('relationship', axis=1, inplace=True)\n",
    "df.drop('blood_group', axis=1, inplace=True)\n",
    "df.drop('race', axis=1, inplace=True)\n",
    "df.head()"
   ]
  },
  {
   "cell_type": "markdown",
   "id": "e54369e6",
   "metadata": {},
   "source": [
    "## 1. Integrácia a čistenie dát"
   ]
  },
  {
   "cell_type": "markdown",
   "id": "3b80a2bc",
   "metadata": {},
   "source": [
    "Ďalším dôležitým krokom je identifikácia outlierov a chýbajúcich hodnôt. V tejto časti si ukážeme viaceré spôsoby na úpravu vychýlených a chýbajúcich hodnôt. Tento krok je dôležitý pre ďalšiu fázu machine learningu, aby sme mali pre vybraný algoritmus vhodný model."
   ]
  },
  {
   "cell_type": "markdown",
   "id": "34676daf",
   "metadata": {},
   "source": [
    "### Chýbajúce hodnoty"
   ]
  },
  {
   "cell_type": "markdown",
   "id": "6c2d6ea9",
   "metadata": {},
   "source": [
    "Ako prvé sa pozrieme, koľko záznamov v našej tabuľke obsahuje aspoň jednu chýbajúcu (NaN) hodnotu. Toto vieme zistiť pomocou funkcie .dropna(), ktorá vráti dataframe očistený od záznamov obsahujúcich aspoň jednu chýbajúcu hodnotu."
   ]
  },
  {
   "cell_type": "code",
   "execution_count": null,
   "id": "a192126c",
   "metadata": {},
   "outputs": [],
   "source": [
    "len(df) - len(df.dropna())"
   ]
  },
  {
   "cell_type": "markdown",
   "id": "ea237049",
   "metadata": {},
   "source": [
    "Vidíme, že celkový počet záznamov s nejakou chýbajucou hodnotou je 324, čo predstavuje približne 3.2% záznamov. Nakoľko je táto hodnota menšia ako 5% (podľa prednášky odporúčaná hranica po ktorú je možné odstrániť takéto záznamy z datasetu), problém s chýbajúcimi hodnotami by sme mohli jednoducho vyriešiť odstránením záznamov s aspoň jednou chýbajúcou hodnotou príkazom ```df = df.dropna()```."
   ]
  },
  {
   "cell_type": "markdown",
   "id": "dc686918",
   "metadata": {},
   "source": [
    "Iným postupom je nahradenie chýbajúcich hodnôt. Pozrieme sa, v ktorých stĺpcoch sa nachádzajú chýbajúce hodnoty.\n",
    "\n",
    "Vidíme, že sa nachádzajú iba v stĺpcoch s číselnými hodnotami, čo nám vyhovuje, nakoľko v ďalších krokoch budeme používať SimpleImputer, ktorý vie pre chýbajúcu hodnotu podľa zvolenej stratégie vypočítať jej novú hodnotu na základe ostatných číselných hodnôt v danom stĺpci."
   ]
  },
  {
   "cell_type": "code",
   "execution_count": null,
   "id": "b3b5a4a6",
   "metadata": {
    "scrolled": true
   },
   "outputs": [],
   "source": [
    "df.isnull().sum()"
   ]
  },
  {
   "cell_type": "code",
   "execution_count": null,
   "id": "e7eb277d",
   "metadata": {
    "scrolled": true
   },
   "outputs": [],
   "source": [
    "nan_columns = df.columns[df.isna().any()].tolist()\n",
    "nan_columns"
   ]
  },
  {
   "cell_type": "markdown",
   "id": "c8baf47b",
   "metadata": {},
   "source": [
    "Pre neskoršie porovnávanie nahradených hodnôt rôznymi stratégiami si zapamätáme indexy záznamov, ktoré majú v stĺpci \"leukocyty\" chýbajúcu hodnotu."
   ]
  },
  {
   "cell_type": "code",
   "execution_count": null,
   "id": "8fed605c",
   "metadata": {},
   "outputs": [],
   "source": [
    "nan_values_leukocyty = df[(df['leukocyty'].isna() == True)].index.values.astype(int)\n",
    "nan_values_leukocyty"
   ]
  },
  {
   "cell_type": "markdown",
   "id": "5b68d030",
   "metadata": {},
   "source": [
    "**Nahradenie chýbajúcich hodnôt mediánom**"
   ]
  },
  {
   "cell_type": "code",
   "execution_count": null,
   "id": "ffa1dd1c",
   "metadata": {
    "scrolled": true
   },
   "outputs": [],
   "source": [
    "# imputer\n",
    "temp_median = deepcopy(df)\n",
    "imp_median = SimpleImputer(strategy='median', missing_values=np.nan)\n",
    "imp_median = imp_median.fit(temp_median[nan_columns])\n",
    "temp_median[nan_columns] = imp_median.transform(temp_median[nan_columns])\n",
    "\n",
    "print(\"Medián neupravených hodnôt leukocytov: \", df['leukocyty'].median())\n",
    "temp_median.loc[nan_values_leukocyty].head()"
   ]
  },
  {
   "cell_type": "markdown",
   "id": "8337eaae",
   "metadata": {},
   "source": [
    "Nahradili sme chýbajúce hodnoty mediánom hodnôt v danom stĺpci. V príklade tabuľky vyššie môžeme vidieť nahradené chýbajúce hodnoty leukocytov hodnotou mediána stĺpca \"leukocyty\".\n",
    "\n",
    "Pre kontrolu si môžeme pozrieť, či sa v našej tabuľke už naozaj v žiadnom stĺpci nenachádzajú chýbajúce hodnoty."
   ]
  },
  {
   "cell_type": "code",
   "execution_count": null,
   "id": "0e3dd46e",
   "metadata": {},
   "outputs": [],
   "source": [
    "temp_median.isnull().sum()"
   ]
  },
  {
   "cell_type": "markdown",
   "id": "818ed13d",
   "metadata": {},
   "source": [
    "**Nahradenie chýbajúcich hodnôt priemerom**"
   ]
  },
  {
   "cell_type": "code",
   "execution_count": null,
   "id": "8fcdecf5",
   "metadata": {
    "scrolled": false
   },
   "outputs": [],
   "source": [
    "# imputer\n",
    "temp_mean = deepcopy(df)\n",
    "imp_mean = SimpleImputer(strategy='mean', missing_values=np.nan)\n",
    "imp_mean = imp_mean.fit(temp_mean[nan_columns])\n",
    "temp_mean[nan_columns] = imp_mean.transform(temp_mean[nan_columns])\n",
    "\n",
    "print(\"Priemer neupravených hodnôt leukocytov: \", df['leukocyty'].mean())\n",
    "temp_mean.loc[nan_values_leukocyty].head()"
   ]
  },
  {
   "cell_type": "markdown",
   "id": "aadd0b70",
   "metadata": {},
   "source": [
    "Nahradili sme chýbajúce hodnoty priemerom hodnôt v danom stĺpci. V príklade tabuľky vyššie môžeme vidieť nahradené chýbajúce hodnoty leukocytov priemernou hodnotou stĺpca \"leukocyty\".\n",
    "\n",
    "Pre kontrolu si môžeme pozrieť, či sa v našej tabuľke už naozaj v žiadnom stĺpci nenachádzajú chýbajúce hodnoty."
   ]
  },
  {
   "cell_type": "code",
   "execution_count": null,
   "id": "61c3d3db",
   "metadata": {
    "scrolled": true
   },
   "outputs": [],
   "source": [
    "temp_mean.isnull().sum()"
   ]
  },
  {
   "cell_type": "markdown",
   "id": "02e64490",
   "metadata": {},
   "source": [
    "**Nahradenie chýbajúcich hodnôt pomerom ku korelovanému atribútu**"
   ]
  },
  {
   "cell_type": "markdown",
   "id": "85ccfa8a",
   "metadata": {},
   "source": [
    "**Nahradenie chýbajúcich hodnôt pomocou kNN algoritmu**"
   ]
  },
  {
   "cell_type": "markdown",
   "id": "be0e5e12",
   "metadata": {},
   "source": [
    "Ako posledné sa pozrieme na stratégiu nahradenia chýbajúcich hodnôt pomocou kNN algoritmu. Pre každú chýbajúcu hodnotu sa zvolí 5 najbližších (najpodobnejších) záznamov s nie-NaN hodnotami v danom stĺpci, spriemeruje ich a túto hodnotu priradí. Túto stratégiu aplikujeme na celý dataframe, nakoľko ju považujeme za najpresnejší spôsob nahradenia chýbajúcej hodnoty, keďže berie pri výpočte novej hodnoty do úvahy podobné záznamy."
   ]
  },
  {
   "cell_type": "code",
   "execution_count": null,
   "id": "c1eef5c6",
   "metadata": {
    "scrolled": true
   },
   "outputs": [],
   "source": [
    "# imputer\n",
    "imp_knn = KNNImputer(n_neighbors=5, weights='uniform', metric='nan_euclidean')\n",
    "imp_knn.fit(df[nan_columns])\n",
    "df[nan_columns] = imp_knn.transform(df[nan_columns])\n",
    "\n",
    "df.loc[nan_values_leukocyty].head()"
   ]
  },
  {
   "cell_type": "markdown",
   "id": "a87c0b50",
   "metadata": {},
   "source": [
    "Nahradili sme chýbajúce hodnoty hodnotami získanými kNN algoritmom podľa 5 najpodobnejších záznamov. V príklade tabuľky vyššie môžeme vidieť nahradené chýbajúce hodnoty leukocytov. Hodnoty sa líšia, keďže pre každý záznam sa počítajú na základe iných piatich susedov.\n",
    "Pre kontrolu si môžeme pozrieť, či sa v našej tabuľke už naozaj v žiadnom stĺpci nenachádzajú chýbajúce hodnoty."
   ]
  },
  {
   "cell_type": "code",
   "execution_count": null,
   "id": "6413334f",
   "metadata": {},
   "outputs": [],
   "source": [
    "df.isnull().sum()"
   ]
  },
  {
   "cell_type": "code",
   "execution_count": null,
   "id": "10bfe07e",
   "metadata": {},
   "outputs": [],
   "source": [
    "df.weight.describe()"
   ]
  },
  {
   "cell_type": "markdown",
   "id": "22d8e1f4",
   "metadata": {},
   "source": [
    "### Vychýlené hodnoty"
   ]
  },
  {
   "cell_type": "code",
   "execution_count": null,
   "id": "9b58793a",
   "metadata": {},
   "outputs": [],
   "source": [
    "##funkcia na detekciu outlierov\n",
    "def identify_outliers(a):\n",
    "    lower = a.quantile(0.25) - 1.5 * stats.iqr(a)\n",
    "    upper = a.quantile(0.75) + 1.5 * stats.iqr(a)\n",
    "    \n",
    "    return a[(a > upper) | (a < lower)]"
   ]
  },
  {
   "cell_type": "markdown",
   "id": "3e38bea7",
   "metadata": {},
   "source": [
    "**Odstránenie vychýlených pozorovaní**"
   ]
  },
  {
   "cell_type": "markdown",
   "id": "5d5f2d0d",
   "metadata": {},
   "source": [
    "Ako prvé si identifikujeme vychýlené hodnoty naprieč stĺpcami v našom dataframe. Tieto nájdené hodnoty následne odstránime."
   ]
  },
  {
   "cell_type": "code",
   "execution_count": null,
   "id": "73dcd3c6",
   "metadata": {},
   "outputs": [],
   "source": [
    "df.head()"
   ]
  },
  {
   "cell_type": "code",
   "execution_count": null,
   "id": "a544837e",
   "metadata": {},
   "outputs": [],
   "source": [
    "temp_df = deepcopy(df)\n",
    "outliers = []\n",
    "d = {}\n",
    "for col in nan_columns + ['birthdate', 'weight']:\n",
    "    x = identify_outliers(temp_df[col]).index.values.astype(int)\n",
    "    d[col] = x\n",
    "    for element in x:\n",
    "        if element not in outliers:\n",
    "            outliers.append(element)\n",
    "\n",
    "\n",
    "print(len(outliers))\n",
    "# outliers['leukocyty'] = identify_outliers(temp_df['leukocyty'])\n",
    "# outliers['hemoglobin'] = identify_outliers(temp_df['hemoglobin'])\n",
    "# outliers['trombocyty'] = identify_outliers(temp_df['trombocyty'])\n",
    "# outliers['alt'] = identify_outliers(temp_df['alt'])\n",
    "# outliers['weight'] = identify_outliers(temp_df['weight'])\n",
    "# outliers['ast'] = identify_outliers(temp_df['ast'])\n",
    "# outliers['alp'] = identify_outliers(temp_df['alp'])\n",
    "# outliers['hematokrit'] = identify_outliers(temp_df['hematokrit'])\n",
    "# outliers['hbver'] = identify_outliers(temp_df['hbver'])\n",
    "# outliers['etytr'] = identify_outliers(temp_df['etytr'])\n",
    "# outliers['er-cv'] = identify_outliers(temp_df['er-cv'])\n",
    "# outliers['erytrocyty'] = identify_outliers(temp_df['erytrocyty'])"
   ]
  },
  {
   "cell_type": "markdown",
   "id": "a9dbb36e",
   "metadata": {},
   "source": [
    "Nakoľko sme zistili, že počet záznamov patriacich medzi outlierov aspoň jedného atribútu je 734, čo pri celkovom počte pozorovaní predstavuje približne 7.4%. Nakoľko sa podľa prednášok neodporúča odstraňovať vychýlené hodnoty, ktorých počet presahuje 5% z celkového počtu záznamov, nepovažujeme za správne odstránenie záznamov obsahujúcich tieto vychýlené hodnoty. V prípade, že by ich počet bol <= 5% všetkých pozorovaní, odstránili by sme ich pomocou ```temp_df.drop(outliers, inplace=True)```"
   ]
  },
  {
   "cell_type": "markdown",
   "id": "5099ead8",
   "metadata": {},
   "source": [
    "**Nahradenie vychýlenej hodnoty hraničnými hodnotami rozdelenia**"
   ]
  },
  {
   "cell_type": "markdown",
   "id": "6cd3806a",
   "metadata": {},
   "source": [
    "Pre zachovanie počtu záznamov nahradíme vychýlené hodnoty hraničnými hodnotami daného stĺpca. Konkrétne outlierov za maximom nahradíme hodnotou 95. percentilu a outlierov za minimom nahradíme hodnotou 5. percentilu."
   ]
  },
  {
   "cell_type": "code",
   "execution_count": null,
   "id": "34ca0ccd",
   "metadata": {},
   "outputs": [],
   "source": [
    "##funkcia na detekciu outlierov, vrati oddelene zoznamy indexov prilis vysokych a prilis nizkych hodnot\n",
    "def identify_outliers_low_up(a):\n",
    "    lower = a.quantile(0.25) - 1.5 * stats.iqr(a)\n",
    "    upper = a.quantile(0.75) + 1.5 * stats.iqr(a)\n",
    "    \n",
    "    return a[(a < lower)].index.values.astype(int), a[(a > upper)].index.values.astype(int)"
   ]
  },
  {
   "cell_type": "code",
   "execution_count": null,
   "id": "1c209d09",
   "metadata": {},
   "outputs": [],
   "source": [
    "##nahradenie hodnot outlierov hodnotami 5. a 95. percentilom rozlozenia\n",
    "for col in nan_columns + ['birthdate', 'weight']:\n",
    "    #print('\\n', col) # nazov stlpca pre kontrolny vypis\n",
    "    low, up = identify_outliers_low_up(df[col])\n",
    "    #if (len(low) > 0): print('low[0]: ', df.loc[low[0], col]) ##prvy nizky outlier pre kontrolny vypis\n",
    "    #if (len(up) > 0): print('up[0]: ', df.loc[up[0], col]) ##prvy vysoky outlier pre kontrolny vypis\n",
    "    #print('0.05: ', df[col].quantile(0.05)) ##hodnota 5. percentilu, ktorou sa nahradzaju nizki outlieri\n",
    "    #print('0.95: ', df[col].quantile(0.95)) ##hodnota 95. percentilu, ktorou sa nahradzaju vysoki outlieri\n",
    "    df.loc[low, col] = df[col].quantile(0.05)\n",
    "    df.loc[up, col] = df[col].quantile(0.95)\n",
    "    #if (len(low) > 0): print('low[0]: ', df.loc[low[0], col]) ##prvy nizky outlier po nahradeni pre kontrolny vypis\n",
    "    #if (len(up) > 0): print('up[0]: ', df.loc[up[0], col]) ##prvy vysoky outlier po nahradeni pre kontrolny vypis"
   ]
  },
  {
   "cell_type": "markdown",
   "id": "71fd6d51",
   "metadata": {},
   "source": [
    "## 2. Realizácia predspracovania dát"
   ]
  },
  {
   "cell_type": "markdown",
   "id": "f3c12828",
   "metadata": {},
   "source": [
    "## 3. Výber atribútov pre strojové učenie"
   ]
  },
  {
   "cell_type": "markdown",
   "id": "2d24df0b",
   "metadata": {},
   "source": [
    "## 4. Replikovateľnosť predspracovania"
   ]
  },
  {
   "cell_type": "code",
   "execution_count": null,
   "id": "39c59a6f",
   "metadata": {},
   "outputs": [],
   "source": []
  }
 ],
 "metadata": {
  "kernelspec": {
   "display_name": "Python 3 (ipykernel)",
   "language": "python",
   "name": "python3"
  },
  "language_info": {
   "codemirror_mode": {
    "name": "ipython",
    "version": 3
   },
   "file_extension": ".py",
   "mimetype": "text/x-python",
   "name": "python",
   "nbconvert_exporter": "python",
   "pygments_lexer": "ipython3",
   "version": "3.9.1"
  }
 },
 "nbformat": 4,
 "nbformat_minor": 5
}
