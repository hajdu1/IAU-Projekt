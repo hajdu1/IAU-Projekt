{
 "cells": [
  {
   "cell_type": "markdown",
   "id": "459db6ec",
   "metadata": {},
   "source": [
    "# Fáza 1 (EDA)"
   ]
  },
  {
   "cell_type": "markdown",
   "id": "53724857",
   "metadata": {},
   "source": [
    "Zdroje informácií o údajoch: https://www.ncbi.nlm.nih.gov/pmc/articles/PMC7219181/"
   ]
  },
  {
   "cell_type": "code",
   "execution_count": 1,
   "id": "a3b8f6d3",
   "metadata": {},
   "outputs": [],
   "source": [
    "import pandas as pd\n",
    "import seaborn as sb\n",
    "import matplotlib.pyplot as plt"
   ]
  },
  {
   "cell_type": "markdown",
   "id": "1d053bc7",
   "metadata": {},
   "source": [
    "## Profiles\n",
    "\n",
    "Najskôr si načítame dáta z \"profiles.csv\" do data frame."
   ]
  },
  {
   "cell_type": "code",
   "execution_count": 2,
   "id": "7ec6cfdb",
   "metadata": {},
   "outputs": [],
   "source": [
    "filename_p = \"data/profiles.csv\"\n",
    "dfp = pd.read_csv(filename_p, sep='\\t')\n",
    "## separátorom dát je znak tabulátora"
   ]
  },
  {
   "cell_type": "markdown",
   "id": "532d5498",
   "metadata": {},
   "source": [
    "Počet záznamov:"
   ]
  },
  {
   "cell_type": "code",
   "execution_count": null,
   "id": "c3f6c74c",
   "metadata": {},
   "outputs": [],
   "source": [
    "len(dfp)"
   ]
  },
  {
   "cell_type": "markdown",
   "id": "ee061806",
   "metadata": {},
   "source": [
    "Počet atribútov:"
   ]
  },
  {
   "cell_type": "code",
   "execution_count": null,
   "id": "d9c3edfe",
   "metadata": {},
   "outputs": [],
   "source": [
    "len(dfp.columns.values)"
   ]
  },
  {
   "cell_type": "markdown",
   "id": "18f4f072",
   "metadata": {},
   "source": [
    "Jednotlivé atribúty a ich typy:"
   ]
  },
  {
   "cell_type": "code",
   "execution_count": null,
   "id": "cd25982e",
   "metadata": {},
   "outputs": [],
   "source": [
    "dfp.dtypes"
   ]
  },
  {
   "cell_type": "code",
   "execution_count": null,
   "id": "db7a1366",
   "metadata": {},
   "outputs": [],
   "source": [
    "dfp[['blood_group', 'race', 'sex']].describe()"
   ]
  },
  {
   "cell_type": "code",
   "execution_count": null,
   "id": "b4f25f0e",
   "metadata": {},
   "outputs": [],
   "source": [
    "sb.histplot(data=dfp['blood_group'])"
   ]
  },
  {
   "cell_type": "code",
   "execution_count": null,
   "id": "ed0ee0c1",
   "metadata": {},
   "outputs": [],
   "source": [
    "sb.histplot(data=dfp['race'])"
   ]
  },
  {
   "cell_type": "code",
   "execution_count": null,
   "id": "b655d2ce",
   "metadata": {},
   "outputs": [],
   "source": [
    "sb.histplot(data=dfp['sex'])\n"
   ]
  },
  {
   "cell_type": "markdown",
   "id": "b46bda0f",
   "metadata": {},
   "source": [
    "Overíme, či sa v dátach nevyskytujú NaN (chýbajúce hodnoty):"
   ]
  },
  {
   "cell_type": "code",
   "execution_count": null,
   "id": "a1c20ec5",
   "metadata": {},
   "outputs": [],
   "source": [
    "dfp.isnull().sum()"
   ]
  },
  {
   "cell_type": "markdown",
   "id": "dd0f49be",
   "metadata": {},
   "source": [
    "Vypíšeme si začiatok dát. Už z výpisu atribútov bolo vidieť zvláštny stĺpec \"Unnamed: 0\"."
   ]
  },
  {
   "cell_type": "code",
   "execution_count": null,
   "id": "e2e84d25",
   "metadata": {},
   "outputs": [],
   "source": [
    "dfp.head()"
   ]
  },
  {
   "cell_type": "markdown",
   "id": "0ad5cbf0",
   "metadata": {},
   "source": [
    "Ako prvý problém vidíme nepotrebný index stĺpec s názvom \"Unnamed: 0\", ktorý môžme odstrániť."
   ]
  },
  {
   "cell_type": "code",
   "execution_count": null,
   "id": "54f56a67",
   "metadata": {},
   "outputs": [],
   "source": [
    "dfp.drop('Unnamed: 0', axis=1, inplace=True)\n",
    "dfp.head()"
   ]
  },
  {
   "cell_type": "markdown",
   "id": "0d122f35",
   "metadata": {},
   "source": [
    "Ďalší problém dát je nejednotný formát hodnôt v stĺpci \"race\":"
   ]
  },
  {
   "cell_type": "code",
   "execution_count": null,
   "id": "6ee5dd47",
   "metadata": {},
   "outputs": [],
   "source": [
    "dfp.race.unique()"
   ]
  },
  {
   "cell_type": "markdown",
   "id": "b7565761",
   "metadata": {},
   "source": [
    "Po úprave sú hodnoty v konzistentnom formáte."
   ]
  },
  {
   "cell_type": "code",
   "execution_count": null,
   "id": "5287270f",
   "metadata": {},
   "outputs": [],
   "source": [
    "dfp['race'] = dfp['race'].str.replace('white','White')\n",
    "dfp['race'] = dfp['race'].str.replace('black','Black')\n",
    "dfp['race'] = dfp['race'].str.replace('blsck','Black')\n",
    "dfp.race.unique()"
   ]
  },
  {
   "cell_type": "code",
   "execution_count": null,
   "id": "2047a795",
   "metadata": {},
   "outputs": [],
   "source": [
    "dfp.groupby(['blood_group', 'sex']).size()        ## snudi pokus"
   ]
  },
  {
   "cell_type": "markdown",
   "id": "68310f6c",
   "metadata": {},
   "source": [
    "Ako ďalší problém si môžeme všimnúť rôzne formáty dátumov v stĺpci \"birthdate\". Tieto dátumy preto upravíme na jednotný formát yy-mm-dd."
   ]
  },
  {
   "cell_type": "code",
   "execution_count": null,
   "id": "22baa9c5",
   "metadata": {},
   "outputs": [],
   "source": [
    "dfp['birthdate'] = pd.to_datetime(dfp.birthdate)\n",
    "\n",
    "dfp['birthdate'] = dfp['birthdate'].dt.strftime('%Y-%m-%d')\n",
    "dfp.head()"
   ]
  },
  {
   "cell_type": "code",
   "execution_count": null,
   "id": "fc40bbcb",
   "metadata": {},
   "outputs": [],
   "source": [
    "dfp[dfp['ssn'] == '157-32-2908']"
   ]
  },
  {
   "cell_type": "markdown",
   "id": "9cd309ac",
   "metadata": {},
   "source": [
    "## Labor"
   ]
  },
  {
   "cell_type": "code",
   "execution_count": 4,
   "id": "24e5254a",
   "metadata": {},
   "outputs": [
    {
     "data": {
      "text/html": [
       "<div>\n",
       "<style scoped>\n",
       "    .dataframe tbody tr th:only-of-type {\n",
       "        vertical-align: middle;\n",
       "    }\n",
       "\n",
       "    .dataframe tbody tr th {\n",
       "        vertical-align: top;\n",
       "    }\n",
       "\n",
       "    .dataframe thead th {\n",
       "        text-align: right;\n",
       "    }\n",
       "</style>\n",
       "<table border=\"1\" class=\"dataframe\">\n",
       "  <thead>\n",
       "    <tr style=\"text-align: right;\">\n",
       "      <th></th>\n",
       "      <th>Unnamed: 0</th>\n",
       "      <th>leukocyty</th>\n",
       "      <th>ssn</th>\n",
       "      <th>name</th>\n",
       "      <th>smoker</th>\n",
       "      <th>hemoglobin</th>\n",
       "      <th>trombocyty</th>\n",
       "      <th>indicator</th>\n",
       "      <th>alt</th>\n",
       "      <th>relationship</th>\n",
       "      <th>weight</th>\n",
       "      <th>ast</th>\n",
       "      <th>alp</th>\n",
       "      <th>hematokrit</th>\n",
       "      <th>hbver</th>\n",
       "      <th>etytr</th>\n",
       "      <th>er-cv</th>\n",
       "      <th>erytrocyty</th>\n",
       "    </tr>\n",
       "  </thead>\n",
       "  <tbody>\n",
       "    <tr>\n",
       "      <th>0</th>\n",
       "      <td>0</td>\n",
       "      <td>5.90289</td>\n",
       "      <td>513-95-7625</td>\n",
       "      <td>Andrew Jacobs</td>\n",
       "      <td>no</td>\n",
       "      <td>7.54279</td>\n",
       "      <td>5.83096</td>\n",
       "      <td>1.0</td>\n",
       "      <td>17.60670</td>\n",
       "      <td>widowed</td>\n",
       "      <td>8.09544</td>\n",
       "      <td>42.92870</td>\n",
       "      <td>60.77098</td>\n",
       "      <td>6.50802</td>\n",
       "      <td>5.54259</td>\n",
       "      <td>6.57020</td>\n",
       "      <td>47.78400</td>\n",
       "      <td>5.46395</td>\n",
       "    </tr>\n",
       "    <tr>\n",
       "      <th>1</th>\n",
       "      <td>1</td>\n",
       "      <td>5.56403</td>\n",
       "      <td>025-71-2115</td>\n",
       "      <td>Ian Harrison</td>\n",
       "      <td>Y</td>\n",
       "      <td>7.87747</td>\n",
       "      <td>NaN</td>\n",
       "      <td>1.0</td>\n",
       "      <td>17.78037</td>\n",
       "      <td>single</td>\n",
       "      <td>73.58725</td>\n",
       "      <td>50.25507</td>\n",
       "      <td>47.14780</td>\n",
       "      <td>3.49169</td>\n",
       "      <td>3.52227</td>\n",
       "      <td>4.82276</td>\n",
       "      <td>55.62479</td>\n",
       "      <td>5.37924</td>\n",
       "    </tr>\n",
       "    <tr>\n",
       "      <th>2</th>\n",
       "      <td>2</td>\n",
       "      <td>6.24057</td>\n",
       "      <td>824-63-0108</td>\n",
       "      <td>Matthew Williams</td>\n",
       "      <td>no</td>\n",
       "      <td>4.72650</td>\n",
       "      <td>7.83234</td>\n",
       "      <td>1.0</td>\n",
       "      <td>25.25152</td>\n",
       "      <td>single</td>\n",
       "      <td>129.45079</td>\n",
       "      <td>25.15943</td>\n",
       "      <td>48.53570</td>\n",
       "      <td>8.65913</td>\n",
       "      <td>8.25976</td>\n",
       "      <td>5.64422</td>\n",
       "      <td>48.44629</td>\n",
       "      <td>6.52365</td>\n",
       "    </tr>\n",
       "    <tr>\n",
       "      <th>3</th>\n",
       "      <td>3</td>\n",
       "      <td>5.48374</td>\n",
       "      <td>157-32-2908</td>\n",
       "      <td>Charles Chavez</td>\n",
       "      <td>no</td>\n",
       "      <td>5.43079</td>\n",
       "      <td>5.36911</td>\n",
       "      <td>1.0</td>\n",
       "      <td>18.32802</td>\n",
       "      <td>divoced</td>\n",
       "      <td>18.61698</td>\n",
       "      <td>45.02094</td>\n",
       "      <td>73.77687</td>\n",
       "      <td>9.30190</td>\n",
       "      <td>6.26535</td>\n",
       "      <td>6.23014</td>\n",
       "      <td>50.48872</td>\n",
       "      <td>4.33766</td>\n",
       "    </tr>\n",
       "    <tr>\n",
       "      <th>4</th>\n",
       "      <td>4</td>\n",
       "      <td>6.04784</td>\n",
       "      <td>545-96-1267</td>\n",
       "      <td>Allen Chung MD</td>\n",
       "      <td>yes</td>\n",
       "      <td>8.85943</td>\n",
       "      <td>6.76682</td>\n",
       "      <td>1.0</td>\n",
       "      <td>11.03841</td>\n",
       "      <td>divoced</td>\n",
       "      <td>78.83355</td>\n",
       "      <td>59.06392</td>\n",
       "      <td>17.65112</td>\n",
       "      <td>4.47835</td>\n",
       "      <td>2.28488</td>\n",
       "      <td>7.83874</td>\n",
       "      <td>38.74892</td>\n",
       "      <td>5.17704</td>\n",
       "    </tr>\n",
       "  </tbody>\n",
       "</table>\n",
       "</div>"
      ],
      "text/plain": [
       "   Unnamed: 0  leukocyty          ssn              name smoker  hemoglobin  \\\n",
       "0           0    5.90289  513-95-7625     Andrew Jacobs     no     7.54279   \n",
       "1           1    5.56403  025-71-2115      Ian Harrison      Y     7.87747   \n",
       "2           2    6.24057  824-63-0108  Matthew Williams     no     4.72650   \n",
       "3           3    5.48374  157-32-2908    Charles Chavez     no     5.43079   \n",
       "4           4    6.04784  545-96-1267    Allen Chung MD    yes     8.85943   \n",
       "\n",
       "   trombocyty  indicator       alt relationship     weight       ast  \\\n",
       "0     5.83096        1.0  17.60670      widowed    8.09544  42.92870   \n",
       "1         NaN        1.0  17.78037       single   73.58725  50.25507   \n",
       "2     7.83234        1.0  25.25152       single  129.45079  25.15943   \n",
       "3     5.36911        1.0  18.32802      divoced   18.61698  45.02094   \n",
       "4     6.76682        1.0  11.03841      divoced   78.83355  59.06392   \n",
       "\n",
       "        alp  hematokrit    hbver    etytr     er-cv  erytrocyty  \n",
       "0  60.77098     6.50802  5.54259  6.57020  47.78400     5.46395  \n",
       "1  47.14780     3.49169  3.52227  4.82276  55.62479     5.37924  \n",
       "2  48.53570     8.65913  8.25976  5.64422  48.44629     6.52365  \n",
       "3  73.77687     9.30190  6.26535  6.23014  50.48872     4.33766  \n",
       "4  17.65112     4.47835  2.28488  7.83874  38.74892     5.17704  "
      ]
     },
     "execution_count": 4,
     "metadata": {},
     "output_type": "execute_result"
    }
   ],
   "source": [
    "filename_l = \"data/labor.csv\"\n",
    "dfl = pd.read_csv(filename_l, sep='\\t')\n",
    "dfl.head()"
   ]
  },
  {
   "cell_type": "markdown",
   "id": "10b7d077",
   "metadata": {},
   "source": [
    "Počet záznamov:"
   ]
  },
  {
   "cell_type": "code",
   "execution_count": null,
   "id": "e431e161",
   "metadata": {
    "scrolled": true
   },
   "outputs": [],
   "source": [
    "len(dfl)"
   ]
  },
  {
   "cell_type": "markdown",
   "id": "d23fa04d",
   "metadata": {},
   "source": [
    "Počet atribútov:"
   ]
  },
  {
   "cell_type": "code",
   "execution_count": null,
   "id": "593862dd",
   "metadata": {},
   "outputs": [],
   "source": [
    "len(dfl.columns.values)"
   ]
  },
  {
   "cell_type": "markdown",
   "id": "c344c2e1",
   "metadata": {},
   "source": [
    "Jednotlivé atribúty a ich typy:"
   ]
  },
  {
   "cell_type": "code",
   "execution_count": null,
   "id": "842a7cd2",
   "metadata": {},
   "outputs": [],
   "source": [
    "dfl.dtypes"
   ]
  },
  {
   "cell_type": "code",
   "execution_count": null,
   "id": "5a7c50c7",
   "metadata": {},
   "outputs": [],
   "source": [
    "dfl[['weight', 'leukocyty', 'hemoglobin', 'trombocyty', 'alt', 'ast', 'alp', 'hematokrit', 'hbver', 'etytr', \n",
    "     'er-cv', 'erytrocyty']].describe()"
   ]
  },
  {
   "cell_type": "markdown",
   "id": "3e863ceb",
   "metadata": {},
   "source": [
    "Ako prvý problém znova vidíme nepotrebný index stĺpec s názvom \"Unnamed: 0\", ktorý môžeme odstrániť."
   ]
  },
  {
   "cell_type": "code",
   "execution_count": 5,
   "id": "962b3675",
   "metadata": {},
   "outputs": [
    {
     "data": {
      "text/html": [
       "<div>\n",
       "<style scoped>\n",
       "    .dataframe tbody tr th:only-of-type {\n",
       "        vertical-align: middle;\n",
       "    }\n",
       "\n",
       "    .dataframe tbody tr th {\n",
       "        vertical-align: top;\n",
       "    }\n",
       "\n",
       "    .dataframe thead th {\n",
       "        text-align: right;\n",
       "    }\n",
       "</style>\n",
       "<table border=\"1\" class=\"dataframe\">\n",
       "  <thead>\n",
       "    <tr style=\"text-align: right;\">\n",
       "      <th></th>\n",
       "      <th>leukocyty</th>\n",
       "      <th>ssn</th>\n",
       "      <th>name</th>\n",
       "      <th>smoker</th>\n",
       "      <th>hemoglobin</th>\n",
       "      <th>trombocyty</th>\n",
       "      <th>indicator</th>\n",
       "      <th>alt</th>\n",
       "      <th>relationship</th>\n",
       "      <th>weight</th>\n",
       "      <th>ast</th>\n",
       "      <th>alp</th>\n",
       "      <th>hematokrit</th>\n",
       "      <th>hbver</th>\n",
       "      <th>etytr</th>\n",
       "      <th>er-cv</th>\n",
       "      <th>erytrocyty</th>\n",
       "    </tr>\n",
       "  </thead>\n",
       "  <tbody>\n",
       "    <tr>\n",
       "      <th>0</th>\n",
       "      <td>5.90289</td>\n",
       "      <td>513-95-7625</td>\n",
       "      <td>Andrew Jacobs</td>\n",
       "      <td>no</td>\n",
       "      <td>7.54279</td>\n",
       "      <td>5.83096</td>\n",
       "      <td>1.0</td>\n",
       "      <td>17.60670</td>\n",
       "      <td>widowed</td>\n",
       "      <td>8.09544</td>\n",
       "      <td>42.92870</td>\n",
       "      <td>60.77098</td>\n",
       "      <td>6.50802</td>\n",
       "      <td>5.54259</td>\n",
       "      <td>6.57020</td>\n",
       "      <td>47.78400</td>\n",
       "      <td>5.46395</td>\n",
       "    </tr>\n",
       "    <tr>\n",
       "      <th>1</th>\n",
       "      <td>5.56403</td>\n",
       "      <td>025-71-2115</td>\n",
       "      <td>Ian Harrison</td>\n",
       "      <td>Y</td>\n",
       "      <td>7.87747</td>\n",
       "      <td>NaN</td>\n",
       "      <td>1.0</td>\n",
       "      <td>17.78037</td>\n",
       "      <td>single</td>\n",
       "      <td>73.58725</td>\n",
       "      <td>50.25507</td>\n",
       "      <td>47.14780</td>\n",
       "      <td>3.49169</td>\n",
       "      <td>3.52227</td>\n",
       "      <td>4.82276</td>\n",
       "      <td>55.62479</td>\n",
       "      <td>5.37924</td>\n",
       "    </tr>\n",
       "    <tr>\n",
       "      <th>2</th>\n",
       "      <td>6.24057</td>\n",
       "      <td>824-63-0108</td>\n",
       "      <td>Matthew Williams</td>\n",
       "      <td>no</td>\n",
       "      <td>4.72650</td>\n",
       "      <td>7.83234</td>\n",
       "      <td>1.0</td>\n",
       "      <td>25.25152</td>\n",
       "      <td>single</td>\n",
       "      <td>129.45079</td>\n",
       "      <td>25.15943</td>\n",
       "      <td>48.53570</td>\n",
       "      <td>8.65913</td>\n",
       "      <td>8.25976</td>\n",
       "      <td>5.64422</td>\n",
       "      <td>48.44629</td>\n",
       "      <td>6.52365</td>\n",
       "    </tr>\n",
       "    <tr>\n",
       "      <th>3</th>\n",
       "      <td>5.48374</td>\n",
       "      <td>157-32-2908</td>\n",
       "      <td>Charles Chavez</td>\n",
       "      <td>no</td>\n",
       "      <td>5.43079</td>\n",
       "      <td>5.36911</td>\n",
       "      <td>1.0</td>\n",
       "      <td>18.32802</td>\n",
       "      <td>divoced</td>\n",
       "      <td>18.61698</td>\n",
       "      <td>45.02094</td>\n",
       "      <td>73.77687</td>\n",
       "      <td>9.30190</td>\n",
       "      <td>6.26535</td>\n",
       "      <td>6.23014</td>\n",
       "      <td>50.48872</td>\n",
       "      <td>4.33766</td>\n",
       "    </tr>\n",
       "    <tr>\n",
       "      <th>4</th>\n",
       "      <td>6.04784</td>\n",
       "      <td>545-96-1267</td>\n",
       "      <td>Allen Chung MD</td>\n",
       "      <td>yes</td>\n",
       "      <td>8.85943</td>\n",
       "      <td>6.76682</td>\n",
       "      <td>1.0</td>\n",
       "      <td>11.03841</td>\n",
       "      <td>divoced</td>\n",
       "      <td>78.83355</td>\n",
       "      <td>59.06392</td>\n",
       "      <td>17.65112</td>\n",
       "      <td>4.47835</td>\n",
       "      <td>2.28488</td>\n",
       "      <td>7.83874</td>\n",
       "      <td>38.74892</td>\n",
       "      <td>5.17704</td>\n",
       "    </tr>\n",
       "  </tbody>\n",
       "</table>\n",
       "</div>"
      ],
      "text/plain": [
       "   leukocyty          ssn              name smoker  hemoglobin  trombocyty  \\\n",
       "0    5.90289  513-95-7625     Andrew Jacobs     no     7.54279     5.83096   \n",
       "1    5.56403  025-71-2115      Ian Harrison      Y     7.87747         NaN   \n",
       "2    6.24057  824-63-0108  Matthew Williams     no     4.72650     7.83234   \n",
       "3    5.48374  157-32-2908    Charles Chavez     no     5.43079     5.36911   \n",
       "4    6.04784  545-96-1267    Allen Chung MD    yes     8.85943     6.76682   \n",
       "\n",
       "   indicator       alt relationship     weight       ast       alp  \\\n",
       "0        1.0  17.60670      widowed    8.09544  42.92870  60.77098   \n",
       "1        1.0  17.78037       single   73.58725  50.25507  47.14780   \n",
       "2        1.0  25.25152       single  129.45079  25.15943  48.53570   \n",
       "3        1.0  18.32802      divoced   18.61698  45.02094  73.77687   \n",
       "4        1.0  11.03841      divoced   78.83355  59.06392  17.65112   \n",
       "\n",
       "   hematokrit    hbver    etytr     er-cv  erytrocyty  \n",
       "0     6.50802  5.54259  6.57020  47.78400     5.46395  \n",
       "1     3.49169  3.52227  4.82276  55.62479     5.37924  \n",
       "2     8.65913  8.25976  5.64422  48.44629     6.52365  \n",
       "3     9.30190  6.26535  6.23014  50.48872     4.33766  \n",
       "4     4.47835  2.28488  7.83874  38.74892     5.17704  "
      ]
     },
     "execution_count": 5,
     "metadata": {},
     "output_type": "execute_result"
    }
   ],
   "source": [
    "dfl.drop('Unnamed: 0', axis=1, inplace=True)\n",
    "dfl.head()"
   ]
  },
  {
   "cell_type": "code",
   "execution_count": null,
   "id": "0ba0e430",
   "metadata": {},
   "outputs": [],
   "source": [
    "len(dfl.drop_duplicates()) ## 99 duplicitnych zaznamov"
   ]
  },
  {
   "cell_type": "code",
   "execution_count": 6,
   "id": "f05bf9ac",
   "metadata": {},
   "outputs": [
    {
     "data": {
      "text/plain": [
       "9918"
      ]
     },
     "execution_count": 6,
     "metadata": {},
     "output_type": "execute_result"
    }
   ],
   "source": [
    "dfl = dfl.drop_duplicates() ## odstranene duplicitne zaznamy\n",
    "len(dfl)"
   ]
  },
  {
   "cell_type": "code",
   "execution_count": null,
   "id": "42823588",
   "metadata": {},
   "outputs": [],
   "source": [
    "sb.boxplot(data=dfl[['weight', 'alp']])"
   ]
  },
  {
   "cell_type": "code",
   "execution_count": null,
   "id": "68fb4792",
   "metadata": {},
   "outputs": [],
   "source": [
    "sb.histplot(data=dfl['weight'])  ## co s tymto?"
   ]
  },
  {
   "cell_type": "code",
   "execution_count": null,
   "id": "3ba99f62",
   "metadata": {},
   "outputs": [],
   "source": [
    "dfl.isnull().sum()"
   ]
  },
  {
   "cell_type": "code",
   "execution_count": null,
   "id": "4c26cd7c",
   "metadata": {},
   "outputs": [],
   "source": [
    "len(dfl[dfl.isnull().any(axis=1)])"
   ]
  },
  {
   "cell_type": "code",
   "execution_count": null,
   "id": "574176e8",
   "metadata": {},
   "outputs": [],
   "source": [
    "dfl.smoker.unique()"
   ]
  },
  {
   "cell_type": "code",
   "execution_count": null,
   "id": "ea5ea179",
   "metadata": {},
   "outputs": [],
   "source": [
    "len(dfl.loc[dfl['smoker'].isin(['Y', 'N'])])"
   ]
  },
  {
   "cell_type": "code",
   "execution_count": null,
   "id": "54184d6c",
   "metadata": {},
   "outputs": [],
   "source": [
    "len(dfl.loc[dfl['smoker'].isin(['yes', 'no'])])"
   ]
  },
  {
   "cell_type": "code",
   "execution_count": 7,
   "id": "0bfe4165",
   "metadata": {},
   "outputs": [
    {
     "data": {
      "text/plain": [
       "array(['no', 'yes'], dtype=object)"
      ]
     },
     "execution_count": 7,
     "metadata": {},
     "output_type": "execute_result"
    }
   ],
   "source": [
    "dfl['smoker'] = dfl['smoker'].str.replace('N','no')\n",
    "dfl['smoker'] = dfl['smoker'].str.replace('Y','yes')\n",
    "dfl.smoker.unique()"
   ]
  },
  {
   "cell_type": "code",
   "execution_count": null,
   "id": "71d62dad",
   "metadata": {
    "scrolled": true
   },
   "outputs": [],
   "source": [
    "sb.histplot(data=dfl['alp']) ## su tieto data zle? co s nimi?"
   ]
  },
  {
   "cell_type": "markdown",
   "id": "671bfe59",
   "metadata": {},
   "source": [
    "## Hypotézy"
   ]
  },
  {
   "cell_type": "markdown",
   "id": "b56eff7d",
   "metadata": {},
   "source": [
    "1. Pacienti potrebujúci ďalšie laboratórne vyšetrenie sú prevažne fajčiari."
   ]
  },
  {
   "cell_type": "code",
   "execution_count": 14,
   "id": "fbdefd57",
   "metadata": {},
   "outputs": [
    {
     "data": {
      "text/plain": [
       "smoker  indicator\n",
       "no      0.0          2125\n",
       "        1.0          3747\n",
       "yes     0.0          1398\n",
       "        1.0          2648\n",
       "dtype: int64"
      ]
     },
     "execution_count": 14,
     "metadata": {},
     "output_type": "execute_result"
    }
   ],
   "source": [
    "dfl.groupby(['smoker', 'indicator']).size()"
   ]
  },
  {
   "cell_type": "code",
   "execution_count": 17,
   "id": "befeb7c2",
   "metadata": {},
   "outputs": [
    {
     "data": {
      "text/plain": [
       "([<matplotlib.patches.Wedge at 0x194d6bf3100>,\n",
       "  <matplotlib.patches.Wedge at 0x194d6bf3640>],\n",
       " [Text(0.31370284974639834, 1.0543199334457207, 'Smokers'),\n",
       "  Text(-0.3137028497463982, -1.0543199334457207, 'Non-smokers')])"
      ]
     },
     "execution_count": 17,
     "metadata": {},
     "output_type": "execute_result"
    },
    {
     "data": {
      "image/png": "[encoded data removed]",
      "text/plain": [
       "<Figure size 432x288 with 1 Axes>"
      ]
     },
     "metadata": {},
     "output_type": "display_data"
    }
   ],
   "source": [
    "labels = ['Smokers', 'Non-smokers']\n",
    "plt.pie([len(dfl[dfl['smoker'] == 'yes']), len(dfl[dfl['smoker'] == 'no'])], labels = labels)"
   ]
  },
  {
   "cell_type": "code",
   "execution_count": 18,
   "id": "32b43a51",
   "metadata": {},
   "outputs": [
    {
     "data": {
      "text/plain": [
       "([<matplotlib.patches.Wedge at 0x194d6c3f310>,\n",
       "  <matplotlib.patches.Wedge at 0x194d6c3f850>],\n",
       " [Text(-0.513114253894348, 0.9729921697785892, 'Smokers'),\n",
       "  Text(0.5131142538943474, -0.9729921697785895, 'Non-smokers')])"
      ]
     },
     "execution_count": 18,
     "metadata": {},
     "output_type": "execute_result"
    },
    {
     "data": {
      "image/png": "[encoded data removed]",
      "text/plain": [
       "<Figure size 432x288 with 1 Axes>"
      ]
     },
     "metadata": {},
     "output_type": "display_data"
    }
   ],
   "source": [
    "labels = ['Smokers', 'Non-smokers']\n",
    "plt.pie([len(dfl[(dfl['smoker'] == 'yes') & (dfl['indicator'] == 1)]), len(dfl[(dfl['smoker'] == 'yes') & (dfl['indicator'] == 0)])], labels = labels)"
   ]
  },
  {
   "cell_type": "code",
   "execution_count": 19,
   "id": "1327bf8d",
   "metadata": {},
   "outputs": [
    {
     "data": {
      "text/plain": [
       "([<matplotlib.patches.Wedge at 0x194d6c75400>,\n",
       "  <matplotlib.patches.Wedge at 0x194d6c759a0>],\n",
       " [Text(-0.4624489001704605, 0.9980686422942721, 'Smokers'),\n",
       "  Text(0.46244890017046036, -0.9980686422942722, 'Non-smokers')])"
      ]
     },
     "execution_count": 19,
     "metadata": {},
     "output_type": "execute_result"
    },
    {
     "data": {
      "image/png": "[encoded data removed]",
      "text/plain": [
       "<Figure size 432x288 with 1 Axes>"
      ]
     },
     "metadata": {},
     "output_type": "display_data"
    }
   ],
   "source": [
    "labels = ['Smokers', 'Non-smokers']\n",
    "plt.pie([len(dfl[(dfl['smoker'] == 'no') & (dfl['indicator'] == 1)]), len(dfl[(dfl['smoker'] == 'no') & (dfl['indicator'] == 0)])], labels = labels)"
   ]
  },
  {
   "cell_type": "markdown",
   "id": "3bb2600b",
   "metadata": {},
   "source": [
    "2. Pacienti nevyžadujúci ďalšie laboratórne vyšetrenie majú vyšší počet trombocytov ako pacienti vyžadujúci ďalšie laboratórne vyšetrenia."
   ]
  },
  {
   "cell_type": "code",
   "execution_count": null,
   "id": "ce006f4c",
   "metadata": {},
   "outputs": [],
   "source": [
    "dfl[dfl['indicator'] == 0]['hemoglobin'].mean()"
   ]
  },
  {
   "cell_type": "code",
   "execution_count": null,
   "id": "0bfdb3cf",
   "metadata": {},
   "outputs": [],
   "source": [
    "dfl[dfl['indicator'] == 1]['hemoglobin'].mean()"
   ]
  },
  {
   "cell_type": "code",
   "execution_count": 26,
   "id": "3e467473",
   "metadata": {},
   "outputs": [
    {
     "data": {
      "text/plain": [
       "<AxesSubplot:ylabel='Density'>"
      ]
     },
     "execution_count": 26,
     "metadata": {},
     "output_type": "execute_result"
    },
    {
     "data": {
      "image/png": "[encoded data removed]",
      "text/plain": [
       "<Figure size 432x288 with 1 Axes>"
      ]
     },
     "metadata": {
      "needs_background": "light"
     },
     "output_type": "display_data"
    }
   ],
   "source": [
    "d = {'0': dfl[dfl['indicator'] == 0]['hemoglobin'], '1': dfl[dfl['indicator'] == 1]['hemoglobin']}\n",
    "df = pd.DataFrame(data=d)\n",
    "sb.kdeplot(data=df, fill = True, alpha = 0.5)"
   ]
  },
  {
   "cell_type": "markdown",
   "id": "ec43691e",
   "metadata": {},
   "source": [
    "**Záver:** Hypotéza sa približne potvrdila?????"
   ]
  },
  {
   "cell_type": "code",
   "execution_count": null,
   "id": "a8920125",
   "metadata": {},
   "outputs": [],
   "source": []
  }
 ],
 "metadata": {
  "kernelspec": {
   "display_name": "Python 3 (ipykernel)",
   "language": "python",
   "name": "python3"
  },
  "language_info": {
   "codemirror_mode": {
    "name": "ipython",
    "version": 3
   },
   "file_extension": ".py",
   "mimetype": "text/x-python",
   "name": "python",
   "nbconvert_exporter": "python",
   "pygments_lexer": "ipython3",
   "version": "3.9.1"
  }
 },
 "nbformat": 4,
 "nbformat_minor": 5
}
