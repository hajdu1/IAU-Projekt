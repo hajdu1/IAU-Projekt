{
 "cells": [
  {
   "cell_type": "markdown",
   "id": "459db6ec",
   "metadata": {},
   "source": [
    "# Fáza 1\n",
    "\n",
    "**Michaela Gubovská a Jakub Hajdu**"
   ]
  },
  {
   "cell_type": "code",
   "execution_count": null,
   "id": "a3b8f6d3",
   "metadata": {},
   "outputs": [],
   "source": [
    "import pandas as pd\n",
    "import seaborn as sns\n",
    "import statsmodels.api as sm\n",
    "import scipy.stats as stats\n",
    "import statsmodels.stats.api as sms"
   ]
  },
  {
   "cell_type": "markdown",
   "id": "79438631",
   "metadata": {},
   "source": [
    "## Základný opis dát a ich charakteristika - dáta zo súboru profiles.csv"
   ]
  },
  {
   "cell_type": "markdown",
   "id": "4afccf00",
   "metadata": {},
   "source": [
    "Najskôr si načítame dáta z \"profiles.csv\" do data frame."
   ]
  },
  {
   "cell_type": "code",
   "execution_count": null,
   "id": "7ec6cfdb",
   "metadata": {},
   "outputs": [],
   "source": [
    "filename_p = \"data/profiles.csv\"\n",
    "dfp = pd.read_csv(filename_p, sep='\\t')\n",
    "## separátorom dát je znak tabulátora"
   ]
  },
  {
   "cell_type": "markdown",
   "id": "532d5498",
   "metadata": {},
   "source": [
    "Počet záznamov:"
   ]
  },
  {
   "cell_type": "code",
   "execution_count": null,
   "id": "c3f6c74c",
   "metadata": {},
   "outputs": [],
   "source": [
    "len(dfp)"
   ]
  },
  {
   "cell_type": "markdown",
   "id": "ee061806",
   "metadata": {},
   "source": [
    "Počet atribútov:"
   ]
  },
  {
   "cell_type": "code",
   "execution_count": null,
   "id": "d9c3edfe",
   "metadata": {},
   "outputs": [],
   "source": [
    "len(dfp.columns.values)"
   ]
  },
  {
   "cell_type": "markdown",
   "id": "18f4f072",
   "metadata": {},
   "source": [
    "Jednotlivé atribúty a ich typy:"
   ]
  },
  {
   "cell_type": "code",
   "execution_count": null,
   "id": "cd25982e",
   "metadata": {},
   "outputs": [],
   "source": [
    "dfp.dtypes"
   ]
  },
  {
   "cell_type": "code",
   "execution_count": null,
   "id": "db7a1366",
   "metadata": {},
   "outputs": [],
   "source": [
    "dfp[['blood_group', 'race', 'sex']].describe()"
   ]
  },
  {
   "cell_type": "code",
   "execution_count": null,
   "id": "b4f25f0e",
   "metadata": {},
   "outputs": [],
   "source": [
    "sns.histplot(data=dfp['blood_group'])"
   ]
  },
  {
   "cell_type": "code",
   "execution_count": null,
   "id": "2047a795",
   "metadata": {
    "scrolled": false
   },
   "outputs": [],
   "source": [
    "dfp.groupby(['blood_group', 'sex']).size()"
   ]
  },
  {
   "cell_type": "code",
   "execution_count": null,
   "id": "ed0ee0c1",
   "metadata": {},
   "outputs": [],
   "source": [
    "sns.histplot(data=dfp['race'])"
   ]
  },
  {
   "cell_type": "code",
   "execution_count": null,
   "id": "b655d2ce",
   "metadata": {},
   "outputs": [],
   "source": [
    "sns.histplot(data=dfp['sex'])\n"
   ]
  },
  {
   "cell_type": "markdown",
   "id": "b46bda0f",
   "metadata": {},
   "source": [
    "Overíme, či sa v dátach nevyskytujú chýbajúce hodnoty:"
   ]
  },
  {
   "cell_type": "code",
   "execution_count": null,
   "id": "a1c20ec5",
   "metadata": {},
   "outputs": [],
   "source": [
    "dfp.isnull().sum()"
   ]
  },
  {
   "cell_type": "markdown",
   "id": "dd0f49be",
   "metadata": {},
   "source": [
    "Vypíšeme si začiatok dát. Už z výpisu atribútov bolo vidieť zvláštny stĺpec \"Unnamed: 0\"."
   ]
  },
  {
   "cell_type": "code",
   "execution_count": null,
   "id": "e2e84d25",
   "metadata": {},
   "outputs": [],
   "source": [
    "dfp.head()"
   ]
  },
  {
   "cell_type": "markdown",
   "id": "0ad5cbf0",
   "metadata": {},
   "source": [
    "## Identifikácia problémov dát zo súboru profiles.csv s navrhnutým riešením\n",
    "\n",
    "Ako prvý problém vidíme nepotrebný index stĺpec s názvom \"Unnamed: 0\", ktorý môžme odstrániť."
   ]
  },
  {
   "cell_type": "code",
   "execution_count": null,
   "id": "54f56a67",
   "metadata": {},
   "outputs": [],
   "source": [
    "dfp.drop('Unnamed: 0', axis=1, inplace=True)\n",
    "dfp.head()"
   ]
  },
  {
   "cell_type": "markdown",
   "id": "0d122f35",
   "metadata": {},
   "source": [
    "Ďalší problém dát je nejednotný formát hodnôt v stĺpci \"race\":"
   ]
  },
  {
   "cell_type": "code",
   "execution_count": null,
   "id": "6ee5dd47",
   "metadata": {},
   "outputs": [],
   "source": [
    "dfp.race.unique()"
   ]
  },
  {
   "cell_type": "markdown",
   "id": "b7565761",
   "metadata": {},
   "source": [
    "Po úprave sú hodnoty v konzistentnom formáte."
   ]
  },
  {
   "cell_type": "code",
   "execution_count": null,
   "id": "5287270f",
   "metadata": {},
   "outputs": [],
   "source": [
    "dfp['race'] = dfp['race'].str.replace('white','White')\n",
    "dfp['race'] = dfp['race'].str.replace('black','Black')\n",
    "dfp['race'] = dfp['race'].str.replace('blsck','Black')\n",
    "dfp.race.unique()"
   ]
  },
  {
   "cell_type": "markdown",
   "id": "68310f6c",
   "metadata": {},
   "source": [
    "Ako ďalší problém si môžeme všimnúť rôzne formáty dátumov v stĺpci \"birthdate\". Tieto dátumy preto upravíme na jednotný formát yy-mm-dd."
   ]
  },
  {
   "cell_type": "code",
   "execution_count": null,
   "id": "22baa9c5",
   "metadata": {
    "scrolled": true
   },
   "outputs": [],
   "source": [
    "dfp['birthdate'] = pd.to_datetime(dfp.birthdate)\n",
    "\n",
    "dfp['birthdate'] = dfp['birthdate'].dt.strftime('%Y-%m-%d')\n",
    "dfp.head()"
   ]
  },
  {
   "cell_type": "markdown",
   "id": "9cd309ac",
   "metadata": {},
   "source": [
    "## Základný opis dát a ich charakteristika - dáta zo súboru labor.csv"
   ]
  },
  {
   "cell_type": "code",
   "execution_count": null,
   "id": "24e5254a",
   "metadata": {},
   "outputs": [],
   "source": [
    "filename_l = \"data/labor.csv\"\n",
    "dfl = pd.read_csv(filename_l, sep='\\t')\n",
    "dfl.head()"
   ]
  },
  {
   "cell_type": "markdown",
   "id": "10b7d077",
   "metadata": {},
   "source": [
    "Počet záznamov:"
   ]
  },
  {
   "cell_type": "code",
   "execution_count": null,
   "id": "e431e161",
   "metadata": {
    "scrolled": true
   },
   "outputs": [],
   "source": [
    "len(dfl)"
   ]
  },
  {
   "cell_type": "markdown",
   "id": "d23fa04d",
   "metadata": {},
   "source": [
    "Počet atribútov:"
   ]
  },
  {
   "cell_type": "code",
   "execution_count": null,
   "id": "593862dd",
   "metadata": {},
   "outputs": [],
   "source": [
    "len(dfl.columns.values)"
   ]
  },
  {
   "cell_type": "markdown",
   "id": "c344c2e1",
   "metadata": {},
   "source": [
    "Jednotlivé atribúty a ich typy:"
   ]
  },
  {
   "cell_type": "code",
   "execution_count": null,
   "id": "842a7cd2",
   "metadata": {},
   "outputs": [],
   "source": [
    "dfl.dtypes"
   ]
  },
  {
   "cell_type": "code",
   "execution_count": null,
   "id": "5a7c50c7",
   "metadata": {
    "scrolled": true
   },
   "outputs": [],
   "source": [
    "dfl[['weight', 'leukocyty', 'hemoglobin', 'trombocyty', 'alt', 'ast', 'alp', 'hematokrit', 'hbver', 'etytr', \n",
    "     'er-cv', 'erytrocyty']].describe()"
   ]
  },
  {
   "cell_type": "code",
   "execution_count": null,
   "id": "4f2d8d95",
   "metadata": {},
   "outputs": [],
   "source": [
    "sns.histplot(data=dfl.hemoglobin)"
   ]
  },
  {
   "cell_type": "code",
   "execution_count": null,
   "id": "75ed341b",
   "metadata": {},
   "outputs": [],
   "source": [
    "sns.histplot(data=dfl.hematokrit)"
   ]
  },
  {
   "cell_type": "code",
   "execution_count": null,
   "id": "fd4a793f",
   "metadata": {
    "scrolled": true
   },
   "outputs": [],
   "source": [
    "sns.histplot(data=dfl.erytrocyty)"
   ]
  },
  {
   "cell_type": "code",
   "execution_count": null,
   "id": "bf36c6dc",
   "metadata": {},
   "outputs": [],
   "source": [
    "sns.histplot(data=dfl.leukocyty)"
   ]
  },
  {
   "cell_type": "code",
   "execution_count": null,
   "id": "87ad6502",
   "metadata": {},
   "outputs": [],
   "source": [
    "sns.histplot(data=dfl.trombocyty)"
   ]
  },
  {
   "cell_type": "markdown",
   "id": "5add3252",
   "metadata": {},
   "source": [
    "## Identifikácia problémov dát zo súboru labor.csv s navrhnutým riešením"
   ]
  },
  {
   "cell_type": "markdown",
   "id": "3e863ceb",
   "metadata": {},
   "source": [
    "Ako prvý problém znova vidíme nepotrebný index stĺpec s názvom \"Unnamed: 0\", ktorý môžeme odstrániť."
   ]
  },
  {
   "cell_type": "code",
   "execution_count": null,
   "id": "962b3675",
   "metadata": {},
   "outputs": [],
   "source": [
    "dfl.drop('Unnamed: 0', axis=1, inplace=True)\n",
    "dfl.head()"
   ]
  },
  {
   "cell_type": "markdown",
   "id": "8f5b2d8f",
   "metadata": {},
   "source": [
    "V dátach sa nachádzajú duplicitné záznamy."
   ]
  },
  {
   "cell_type": "code",
   "execution_count": null,
   "id": "0ba0e430",
   "metadata": {},
   "outputs": [],
   "source": [
    "len(dfl) - len(dfl.drop_duplicates()) ## 99 duplicitnych zaznamov"
   ]
  },
  {
   "cell_type": "code",
   "execution_count": null,
   "id": "f05bf9ac",
   "metadata": {},
   "outputs": [],
   "source": [
    "dfl = dfl.drop_duplicates() ## odstranene duplicitne zaznamy\n",
    "len(dfl)"
   ]
  },
  {
   "cell_type": "markdown",
   "id": "c22a183e",
   "metadata": {},
   "source": [
    "Identifikovali sme problém s dátami vo forme zlých hodnôt (prípadne rozdelenia hodnôt) hmotnosti. Možným riešením by bolo odstránenie záznamov s hmotnosťou <= 0, keďže takýchto záznamov je z celkového počtu približne 2,3%."
   ]
  },
  {
   "cell_type": "code",
   "execution_count": null,
   "id": "03c47c41",
   "metadata": {},
   "outputs": [],
   "source": [
    "len(dfl[dfl.weight <= 0]) / len(dfl) * 100"
   ]
  },
  {
   "cell_type": "code",
   "execution_count": null,
   "id": "68fb4792",
   "metadata": {},
   "outputs": [],
   "source": [
    "sns.histplot(data=dfl['weight'])"
   ]
  },
  {
   "cell_type": "markdown",
   "id": "c1a0b595",
   "metadata": {},
   "source": [
    "Takisto sa v dátach vyskytujú chýbajúce hodnoty. Vzhľadom na ich relatívne nízku početnosť v porovnaní s celkovým počtom záznamov by možným riešením bolo nahradenie chýbajúcich hodnôt priemernými hodnotami daného atribútu (berúc do úvahy zistenie, že chýbajúce hodnoty sa vyskytujú len a práve pri číselných atribútoch, ktoré sú výsledkom samotného vyšetrenia/merania)."
   ]
  },
  {
   "cell_type": "code",
   "execution_count": null,
   "id": "3ba99f62",
   "metadata": {},
   "outputs": [],
   "source": [
    "dfl.isnull().sum()"
   ]
  },
  {
   "cell_type": "code",
   "execution_count": null,
   "id": "4c26cd7c",
   "metadata": {},
   "outputs": [],
   "source": [
    "len(dfl[dfl.isnull().any(axis=1)])"
   ]
  },
  {
   "cell_type": "markdown",
   "id": "dd1d1c43",
   "metadata": {},
   "source": [
    "Ďalším problémom je nekonzistentné vyplnenie stĺpca smoker. Tento problém už teraz vieme jednoducho opraviť."
   ]
  },
  {
   "cell_type": "code",
   "execution_count": null,
   "id": "574176e8",
   "metadata": {},
   "outputs": [],
   "source": [
    "dfl.smoker.unique()"
   ]
  },
  {
   "cell_type": "code",
   "execution_count": null,
   "id": "0bfe4165",
   "metadata": {},
   "outputs": [],
   "source": [
    "dfl['smoker'] = dfl['smoker'].str.replace('N','no')\n",
    "dfl['smoker'] = dfl['smoker'].str.replace('Y','yes')\n",
    "dfl.smoker.unique()"
   ]
  },
  {
   "cell_type": "markdown",
   "id": "af156328",
   "metadata": {},
   "source": [
    "## Párová analýza dát"
   ]
  },
  {
   "cell_type": "markdown",
   "id": "96dbdc76",
   "metadata": {},
   "source": [
    "Pre rýchle približné zistenie závislostí medzi dvojicami atribútov si najskôr vykreslíme pairplot všetkých z nich."
   ]
  },
  {
   "cell_type": "code",
   "execution_count": null,
   "id": "2b130ffc",
   "metadata": {
    "scrolled": false
   },
   "outputs": [],
   "source": [
    "sns.pairplot(dfl[['weight', 'leukocyty', 'hemoglobin', 'trombocyty', 'alt', 'ast', 'alp', 'hematokrit', 'hbver', 'etytr', \n",
    "     'er-cv', 'erytrocyty']])"
   ]
  },
  {
   "cell_type": "markdown",
   "id": "030d5c9e",
   "metadata": {},
   "source": [
    "Väčšina z dvojíc atribútov medzi sebou nemá závislosť a ich grafy vyzerajú podobne ako tento príklad:"
   ]
  },
  {
   "cell_type": "code",
   "execution_count": null,
   "id": "1e4f238b",
   "metadata": {
    "scrolled": false
   },
   "outputs": [],
   "source": [
    "sns.pairplot(dfl[['hemoglobin', 'trombocyty']])"
   ]
  },
  {
   "cell_type": "markdown",
   "id": "67edafbf",
   "metadata": {},
   "source": [
    "Dvojica, ktorá sa podľa grafu vizuálne najviac približuje závislosti, je *alt* (alanín transmináza) a *erytrocyty*. S vyššou hodnotou erytrocytov sa zvyšuje aj hodnota alt. Krivka však nemá príliš blízko k tvaru priamky y=x, pripomína skôr exponenciálnu funkciu (resp. logaritmickú, podľa zvolenia osí)."
   ]
  },
  {
   "cell_type": "code",
   "execution_count": null,
   "id": "2ca16e99",
   "metadata": {
    "scrolled": false
   },
   "outputs": [],
   "source": [
    "sns.pairplot(dfl[['erytrocyty', 'alt']])"
   ]
  },
  {
   "cell_type": "markdown",
   "id": "f53ddca5",
   "metadata": {},
   "source": [
    "**Závislosti jednotlivých atribútov od predikovanej premennej**"
   ]
  },
  {
   "cell_type": "markdown",
   "id": "5d08e7c0",
   "metadata": {},
   "source": [
    "Predikovaná premenná (indikátor) nám dáta rozdeľuje na dve skupiny (hodota indikátora 0 a 1). Pomocou grafov si môžeme vykresľovať distribúcie jednotlibých premenných rozdelené podľa indikátora a následne tieto dve skupiny porovnávať. Pri väčšine atribútov sme nepozorovali takmer žiaden rozdiel v závislosti od hodnoty indikátora, ako vidíme na nasledujúcom príklade:"
   ]
  },
  {
   "cell_type": "code",
   "execution_count": null,
   "id": "3923b1b8",
   "metadata": {},
   "outputs": [],
   "source": [
    "sns.boxplot(data=[dfl[dfl['indicator'] == 0]['ast'], dfl[dfl['indicator'] == 1]['ast']])"
   ]
  },
  {
   "cell_type": "markdown",
   "id": "422e4f9c",
   "metadata": {},
   "source": [
    "Tri atribúty v grafoch vizuálne preukázali rozdiel vzhľadom na indikátor: *hemoglobín*, *alp (alkalická fosfatáza)* a *hematokrit*. Aby bol rozdiel lepšie viditeľný, vykreslili sme závislosť týchto atribútov od indikátora okrem box-plotu aj cez joint-plot a kde-plot."
   ]
  },
  {
   "cell_type": "code",
   "execution_count": null,
   "id": "b9d8ee06",
   "metadata": {},
   "outputs": [],
   "source": [
    "sns.boxplot(data=[dfl[dfl['indicator'] == 0]['hemoglobin'], dfl[dfl['indicator'] == 1]['hemoglobin']])"
   ]
  },
  {
   "cell_type": "code",
   "execution_count": null,
   "id": "8d4d4b90",
   "metadata": {
    "scrolled": false
   },
   "outputs": [],
   "source": [
    "sns.jointplot(x='indicator', y='hemoglobin', data=dfl).plot_joint(sns.kdeplot, n_levels=10)"
   ]
  },
  {
   "cell_type": "markdown",
   "id": "2a6c5bd2",
   "metadata": {},
   "source": [
    "Z grafu môžeme pozorovať hustejší výskyt vyšších hodnôt hemoglobínu pri indikátore s hodnotou 1. Hodnoty hemoglobínu sú výrazne nižšie v prípade indikátora s hodnotou 0. "
   ]
  },
  {
   "cell_type": "code",
   "execution_count": null,
   "id": "31d4a356",
   "metadata": {},
   "outputs": [],
   "source": [
    "sns.boxplot(data=[dfl[dfl['indicator'] == 0]['alp'], dfl[dfl['indicator'] == 1]['alp']])"
   ]
  },
  {
   "cell_type": "code",
   "execution_count": null,
   "id": "5193d6f6",
   "metadata": {},
   "outputs": [],
   "source": [
    "sns.jointplot(x='indicator', y='alp', data=dfl).plot_joint(sns.kdeplot, n_levels=10)"
   ]
  },
  {
   "cell_type": "markdown",
   "id": "07f9d810",
   "metadata": {},
   "source": [
    "Z grafu môžeme pozorovať výrazne väčší výskyt vysokých hodnôt alp pri indikátore s hodnotou 1."
   ]
  },
  {
   "cell_type": "code",
   "execution_count": null,
   "id": "832dfc08",
   "metadata": {},
   "outputs": [],
   "source": [
    "sns.boxplot(data=[dfl[dfl['indicator'] == 0]['hematokrit'], dfl[dfl['indicator'] == 1]['hematokrit']])"
   ]
  },
  {
   "cell_type": "code",
   "execution_count": null,
   "id": "866a31cd",
   "metadata": {},
   "outputs": [],
   "source": [
    "sns.jointplot(x='indicator', y='hematokrit', data=dfl).plot_joint(sns.kdeplot, n_levels=10)"
   ]
  },
  {
   "cell_type": "markdown",
   "id": "3b532a2e",
   "metadata": {},
   "source": [
    "Z grafu môžeme pozorovať výrazne väčší počet nízkych hodnôt hematokritu ak je hodnota indikátora rovná 1. "
   ]
  },
  {
   "cell_type": "markdown",
   "id": "671bfe59",
   "metadata": {},
   "source": [
    "## Formulácia a štatistické overenie hypotéz o dátach"
   ]
  },
  {
   "cell_type": "markdown",
   "id": "3bb2600b",
   "metadata": {},
   "source": [
    "**Prvá hypotéza**\n",
    "\n",
    "**Chceme overiť, či má hladina hemoglobínu vplyv na indikátor.**\n",
    "\n",
    "Určíme si naše hypotézy nasledovne:\n",
    "\n",
    "**$H_0$ (nulová hypotéza)**: Hladina hemoglobínu pacientov s indikátorom 0 **je** v priemere **rovnaká** ako hladina hemoglobínu pacientov s indikátorom 1.\n",
    "\n",
    "**$H_1 = H_A$ (alternatívna hypotéza)**: Hladina hemoglobínu pacientov s indikátorom 0 **je** v priemere **iná/väčšia/menšia** ako hladina hemoglobínu pacientov s indikátorom 1."
   ]
  },
  {
   "cell_type": "markdown",
   "id": "7443eaf4",
   "metadata": {},
   "source": [
    "Rozdelíme si hladiny hemoglobínu na dve skupiny podľa indikátora (odstránime NaN, ktorých bolo dokopy len 30)."
   ]
  },
  {
   "cell_type": "code",
   "execution_count": null,
   "id": "65f62cd3",
   "metadata": {},
   "outputs": [],
   "source": [
    "hemo_0 = dfl[dfl['indicator'] == 0]['hemoglobin'].dropna()\n",
    "hemo_1 = dfl[dfl['indicator'] == 1]['hemoglobin'].dropna()"
   ]
  },
  {
   "cell_type": "code",
   "execution_count": null,
   "id": "05ea28e1",
   "metadata": {
    "scrolled": true
   },
   "outputs": [],
   "source": [
    "sns.boxplot(data=[hemo_0, hemo_1])"
   ]
  },
  {
   "cell_type": "code",
   "execution_count": null,
   "id": "3e467473",
   "metadata": {},
   "outputs": [],
   "source": [
    "d = {'0': hemo_0, '1': hemo_1}\n",
    "df = pd.DataFrame(data=d)\n",
    "sns.kdeplot(data=df, fill = True, alpha = 0.5)"
   ]
  },
  {
   "cell_type": "markdown",
   "id": "1171b7e3",
   "metadata": {},
   "source": [
    "Z prvotných grafov sa vizuálne zdá, že rozdiel existuje. Musíme však zistiť, či je štatisticky signifikantný. Na to sa často používa **Studentov t-test**, pre ktorý ale musia skupiny dát spĺňať určité podmienky. Prvou je, že obe skupiny musia pochádzať z normálneho rozdelenia."
   ]
  },
  {
   "cell_type": "code",
   "execution_count": null,
   "id": "a8920125",
   "metadata": {
    "scrolled": true
   },
   "outputs": [],
   "source": [
    "sns.histplot(data=hemo_0)"
   ]
  },
  {
   "cell_type": "code",
   "execution_count": null,
   "id": "3f15c165",
   "metadata": {},
   "outputs": [],
   "source": [
    "sns.histplot(data=hemo_1)"
   ]
  },
  {
   "cell_type": "markdown",
   "id": "ec43691e",
   "metadata": {},
   "source": [
    "Prvotne sa môže zdať, že obe supiny majú normálne rozdelenie. Tento predpoklad si však musíme lepšie overiť."
   ]
  },
  {
   "cell_type": "code",
   "execution_count": null,
   "id": "76030da1",
   "metadata": {},
   "outputs": [],
   "source": [
    "##funkcia na detekciu outlierov\n",
    "def identify_outliers(a):\n",
    "    lower = a.quantile(0.25) - 1.5 * stats.iqr(a)\n",
    "    upper = a.quantile(0.75) + 1.5 * stats.iqr(a)\n",
    "    \n",
    "    return a[(a > upper) | (a < lower)]"
   ]
  },
  {
   "cell_type": "code",
   "execution_count": null,
   "id": "a0dc622b",
   "metadata": {},
   "outputs": [],
   "source": [
    "hemo_0_out = identify_outliers(hemo_0)\n",
    "hemo_1_out = identify_outliers(hemo_1)\n",
    "print(len(hemo_0_out))\n",
    "print(len(hemo_1_out))"
   ]
  },
  {
   "cell_type": "markdown",
   "id": "33400f5b",
   "metadata": {},
   "source": [
    "Obe skupiny obsahujú outlierov, preto ich odstránime:"
   ]
  },
  {
   "cell_type": "code",
   "execution_count": null,
   "id": "8a758e5e",
   "metadata": {},
   "outputs": [],
   "source": [
    "hemo_0 = hemo_0.drop(hemo_0_out.index)\n",
    "hemo_1 = hemo_1.drop(hemo_1_out.index)"
   ]
  },
  {
   "cell_type": "code",
   "execution_count": null,
   "id": "9a116585",
   "metadata": {},
   "outputs": [],
   "source": [
    "_ = sm.ProbPlot(hemo_0, fit=True).qqplot(line='45')"
   ]
  },
  {
   "cell_type": "code",
   "execution_count": null,
   "id": "509f25d4",
   "metadata": {
    "scrolled": true
   },
   "outputs": [],
   "source": [
    "_ = sm.ProbPlot(hemo_1, fit=True).qqplot(line='45')"
   ]
  },
  {
   "cell_type": "markdown",
   "id": "a5cdcffa",
   "metadata": {},
   "source": [
    "Z QQ-plotu sa javí, že skupiny nepochádzajú z normálneho rozdelenia, ale ich rozdelenia sa na seba podobajú. "
   ]
  },
  {
   "cell_type": "code",
   "execution_count": null,
   "id": "2ce363a8",
   "metadata": {},
   "outputs": [],
   "source": [
    "stats.kurtosis(hemo_0)"
   ]
  },
  {
   "cell_type": "code",
   "execution_count": null,
   "id": "3b2667d0",
   "metadata": {},
   "outputs": [],
   "source": [
    "stats.kurtosis(hemo_1)"
   ]
  },
  {
   "cell_type": "code",
   "execution_count": null,
   "id": "8bde0f94",
   "metadata": {},
   "outputs": [],
   "source": [
    "stats.skew(hemo_0)"
   ]
  },
  {
   "cell_type": "code",
   "execution_count": null,
   "id": "fb88e33c",
   "metadata": {},
   "outputs": [],
   "source": [
    "stats.skew(hemo_1)"
   ]
  },
  {
   "cell_type": "markdown",
   "id": "171e72e4",
   "metadata": {},
   "source": [
    "Rozdelenia našich skupín majú podobné vlastnosti asymetrie (skew) aj špičatosti (kurtosis)."
   ]
  },
  {
   "cell_type": "markdown",
   "id": "e07dfdc3",
   "metadata": {},
   "source": [
    "Či naozaj nepochádzajú z normálneho rozdelenia môžeme overiť **Shapiro-Wilkovým testom**."
   ]
  },
  {
   "cell_type": "code",
   "execution_count": null,
   "id": "7786b3a6",
   "metadata": {},
   "outputs": [],
   "source": [
    "stats.shapiro(hemo_0)"
   ]
  },
  {
   "cell_type": "code",
   "execution_count": null,
   "id": "1bbf7480",
   "metadata": {},
   "outputs": [],
   "source": [
    "stats.shapiro(hemo_1)"
   ]
  },
  {
   "cell_type": "markdown",
   "id": "8e298ca9",
   "metadata": {},
   "source": [
    "Testovali sme nulovú hypotézu $H_0$, že dáta pochádzajú z normálneho rozdelenia. Ak je $p < 0,05$, nulovú hypotézu $H_0$ zamietame a dáta pravdepodobne pochádzajú z iného ako normálneho rozdelenia. Ak je $p > 0,05$, nulovú hypotézu $H_0$ nezamietame, teda na základe dát nemôžeme prehlásiť, že by dáta pochádzali z iného, ako normálneho rozdelenia.\n",
    "\n",
    "Pre rozdelenia oboch skupín nám vyšla hodnota $p < 0,05$, nulovú hypotézu teda $H_0$ zamietame a dáta pravdepodobne pochádzajú z iného ako normálneho rozdelenia. Mali by sme teda použiť neparametrickú verziu t-testu, t. j. **Mann-Whitneyho U-test**\n",
    "\n",
    "**Studentov t-test** vyžaduje tiež, aby rozdelenia oboch skupín mali podobnú varianciu. Môžme si ukázať tiež **Levenov test**, ktorý na overenie tejto podmienky slúži, aj keď už z predošlých testov je jasné, že Studentov t-test nemôžeme použiť. Levenov test testuje nulovú hypotézu $H_0$, že všetky vstupné vzorky pochádzajú z rozdelení s rovnakými varianciami. Ak $H_0$ nezamietame ($p > 0,05$), znamená to, že na základe dát nemôžeme prehlásiť, že by vzorky pochádzali z distribúcií s rôznymi varianciami."
   ]
  },
  {
   "cell_type": "code",
   "execution_count": null,
   "id": "4ecc5161",
   "metadata": {},
   "outputs": [],
   "source": [
    "stats.levene(hemo_0, hemo_1)"
   ]
  },
  {
   "cell_type": "markdown",
   "id": "3fb82dde",
   "metadata": {},
   "source": [
    "p-value je blížiaci sa k nule, to znamená, že rozdelenia našich skupín nemajú ani podobné variancie.\n",
    "\n",
    "Nebol teda splnený ani jeden z predpokladov na použitie t-testu, preto spustíme **Mann-Whitneyho U-test**."
   ]
  },
  {
   "cell_type": "code",
   "execution_count": null,
   "id": "f1518c04",
   "metadata": {},
   "outputs": [],
   "source": [
    "stats.mannwhitneyu(hemo_0, hemo_1)"
   ]
  },
  {
   "cell_type": "markdown",
   "id": "c0727fd5",
   "metadata": {},
   "source": [
    "Keďže $p < 0,001$, pravdepodobnosť chyby 1. rádu (že $H_0$ je pravdivá a my ju zamietame) je menej ako 1 promile. Našu nulovú hypotézu $H_0$ teda zamietame v prospech alternatívnej hypotézy $H_A$. Rozdiel v priemernej hladine hemoglobínu medzi pacientami s indikátorom 0 a indikátorom 1 je štatisticky signifikantný.\n",
    "\n",
    "Môžeme si vizualizovať rozdiel medzi dvoma priemermi spolu s intervalmi spoľahlivosti, ktoré nám hovoria, že s N% pravdepodobnosťou (najčastejšie sa používa 95) sa skutočná hodnota priemeru bude nachádzať niekde v danom intervale."
   ]
  },
  {
   "cell_type": "code",
   "execution_count": null,
   "id": "c33ce10a",
   "metadata": {},
   "outputs": [],
   "source": [
    "sms.DescrStatsW(hemo_0).tconfint_mean()"
   ]
  },
  {
   "cell_type": "code",
   "execution_count": null,
   "id": "3f5dabdc",
   "metadata": {},
   "outputs": [],
   "source": [
    "sms.DescrStatsW(hemo_1).tconfint_mean()"
   ]
  },
  {
   "cell_type": "code",
   "execution_count": null,
   "id": "89c92703",
   "metadata": {},
   "outputs": [],
   "source": [
    "sns.barplot(x='indicator', y='hemoglobin', data=dfl[(dfl.indicator == 0) | (dfl.indicator == 1)].dropna(), \n",
    "            capsize=0.1, errwidth=2, palette=sns.color_palette(\"Greens\"))"
   ]
  },
  {
   "cell_type": "markdown",
   "id": "cdc91f1a",
   "metadata": {},
   "source": [
    "**Záver:** hypotézu $H_0$, že priemerná hladina hemoglobínu u pacientov s indikátorom 0 a pacientov s indikátorom 1 je rovnaká, sme zamietli v prospech alternatívnej hypotézy $H_A$. Priemerná hladina hemoglobínu u pacientov s indikátorom 0 je nižšia ako u pacientov s indikátorom 1 a tento rozdiel je štatisticky signifikantný."
   ]
  },
  {
   "cell_type": "markdown",
   "id": "972d87e5",
   "metadata": {},
   "source": [
    "**Druhá hypotéza**\n",
    "\n",
    "**Chceme overiť, či má hodnota hematokritu vplyv na indikátor.**\n",
    "\n",
    "Určíme si naše hypotézy nasledovne:\n",
    "\n",
    "**$H_0$ (nulová hypotéza)**: Hodnota hematokritu pacientov s indikátorom 0 **je** v priemere **rovnaká** ako hodnota hematokritu pacientov s indikátorom 1.\n",
    "\n",
    "**$H_1 = H_A$ (alternatívna hypotéza)**: Hodnota hematokritu pacientov s indikátorom 0 **je** v priemere **iná/väčšia/menšia** ako hodnota hematokritu pacientov s indikátorom 1."
   ]
  },
  {
   "cell_type": "markdown",
   "id": "86019c9c",
   "metadata": {},
   "source": [
    "Rozdelíme si hodnoty hematokritu na dve skupiny podľa indikátora (odstránime NaN, ktorých bolo dokopy len 30)."
   ]
  },
  {
   "cell_type": "code",
   "execution_count": null,
   "id": "2fe9306b",
   "metadata": {},
   "outputs": [],
   "source": [
    "hema_0 = dfl[dfl['indicator'] == 0]['hematokrit'].dropna()\n",
    "hema_1 = dfl[dfl['indicator'] == 1]['hematokrit'].dropna()"
   ]
  },
  {
   "cell_type": "code",
   "execution_count": null,
   "id": "dea9c09b",
   "metadata": {
    "scrolled": false
   },
   "outputs": [],
   "source": [
    "sns.boxplot(data=[hema_0, hema_1])"
   ]
  },
  {
   "cell_type": "markdown",
   "id": "b46db72c",
   "metadata": {},
   "source": [
    "Z prvotného grafu sa vizuálne zdá, že rozdiel existuje. Musíme však zistiť, či je štatisticky signifikantný. Na to sa často používa **Studentov t-test**, pre ktorý ale musia skupiny dát spĺňať určité podmienky. Prvou je, že obe skupiny musia pochádzať z normálneho rozdelenia."
   ]
  },
  {
   "cell_type": "code",
   "execution_count": null,
   "id": "f20eecc5",
   "metadata": {
    "scrolled": true
   },
   "outputs": [],
   "source": [
    "sns.histplot(data=hema_0)"
   ]
  },
  {
   "cell_type": "code",
   "execution_count": null,
   "id": "6f27906c",
   "metadata": {
    "scrolled": true
   },
   "outputs": [],
   "source": [
    "sns.histplot(data=hema_1)"
   ]
  },
  {
   "cell_type": "markdown",
   "id": "6df09556",
   "metadata": {},
   "source": [
    "Prvotne sa môže zdať, že skupina s indikátorom 0 má normálne rozdelenie a skupina s indikátorom 1 nie je z normálneho rozdelenia. Tento predpoklad si však musíme lepšie overiť."
   ]
  },
  {
   "cell_type": "code",
   "execution_count": null,
   "id": "99ce4212",
   "metadata": {},
   "outputs": [],
   "source": [
    "hema_0_out = identify_outliers(hema_0)\n",
    "hema_1_out = identify_outliers(hema_1)\n",
    "print(len(hema_0_out))\n",
    "print(len(hema_1_out))"
   ]
  },
  {
   "cell_type": "markdown",
   "id": "56f53063",
   "metadata": {},
   "source": [
    "Obe skupiny obsahujú outlierov, preto ich odstránime:"
   ]
  },
  {
   "cell_type": "code",
   "execution_count": null,
   "id": "c8bac544",
   "metadata": {},
   "outputs": [],
   "source": [
    "hema_0 = hema_0.drop(hema_0_out.index)\n",
    "hema_1 = hema_1.drop(hema_1_out.index)"
   ]
  },
  {
   "cell_type": "code",
   "execution_count": null,
   "id": "27aaee0e",
   "metadata": {
    "scrolled": true
   },
   "outputs": [],
   "source": [
    "_ = sm.ProbPlot(hema_0, fit=True).qqplot(line='45')"
   ]
  },
  {
   "cell_type": "code",
   "execution_count": null,
   "id": "04edcf6a",
   "metadata": {
    "scrolled": false
   },
   "outputs": [],
   "source": [
    "_ = sm.ProbPlot(hema_1, fit=True).qqplot(line='45')"
   ]
  },
  {
   "cell_type": "markdown",
   "id": "2d21234f",
   "metadata": {},
   "source": [
    "Z QQ-plotu sa javí, že skupiny nepochádzajú z normálneho rozdelenia, a aj ich rozdelenia sa od seba mierne líšia. "
   ]
  },
  {
   "cell_type": "code",
   "execution_count": null,
   "id": "201c10b3",
   "metadata": {},
   "outputs": [],
   "source": [
    "stats.kurtosis(hema_0)"
   ]
  },
  {
   "cell_type": "code",
   "execution_count": null,
   "id": "856033f9",
   "metadata": {},
   "outputs": [],
   "source": [
    "stats.kurtosis(hema_1)"
   ]
  },
  {
   "cell_type": "code",
   "execution_count": null,
   "id": "a8f4fe0e",
   "metadata": {},
   "outputs": [],
   "source": [
    "stats.skew(hema_0)"
   ]
  },
  {
   "cell_type": "code",
   "execution_count": null,
   "id": "53ef81aa",
   "metadata": {
    "scrolled": true
   },
   "outputs": [],
   "source": [
    "stats.skew(hema_1)"
   ]
  },
  {
   "cell_type": "markdown",
   "id": "55210077",
   "metadata": {},
   "source": [
    "Rozdelenia našich skupín majú podobné vlastnosti špičatosti (kurtosis), ale odlišné vlastnosti asymetrie (skew). Skupina s indikátorom 1 má rozdelenie s výraznejším zošikmením smerom doľava."
   ]
  },
  {
   "cell_type": "markdown",
   "id": "392d99ea",
   "metadata": {},
   "source": [
    "Či naozaj nepochádzajú z normálneho rozdelenia môžeme overiť **Shapiro-Wilkovým testom**."
   ]
  },
  {
   "cell_type": "code",
   "execution_count": null,
   "id": "c76b62dc",
   "metadata": {},
   "outputs": [],
   "source": [
    "stats.shapiro(hema_0)"
   ]
  },
  {
   "cell_type": "code",
   "execution_count": null,
   "id": "7b026de5",
   "metadata": {},
   "outputs": [],
   "source": [
    "stats.shapiro(hema_1)"
   ]
  },
  {
   "cell_type": "markdown",
   "id": "07207a59",
   "metadata": {},
   "source": [
    "Testovali sme nulovú hypotézu $H_0$, že dáta pochádzajú z normálneho rozdelenia. Ak je $p < 0,05$, nulovú hypotézu $H_0$ zamietame a dáta pravdepodobne pochádzajú z iného ako normálneho rozdelenia. Ak je $p > 0,05$, nulovú hypotézu $H_0$ nezamietame, teda na základe dát nemôžeme prehlásiť, že by dáta pochádzali z iného, ako normálneho rozdelenia.\n",
    "\n",
    "Pre rozdelenia oboch skupín nám vyšla hodnota $p < 0,05$, nulovú hypotézu teda $H_0$ zamietame a dáta pravdepodobne pochádzajú z iného ako normálneho rozdelenia. Mali by sme teda použiť neparametrickú verziu t-testu, t. j. **Mann-Whitneyho U-test**\n",
    "\n",
    "**Studentov t-test** vyžaduje tiež, aby rozdelenia oboch skupín mali podobnú varianciu. Môžme si ukázať tiež **Levenov test**, ktorý na overenie tejto podmienky slúži, aj keď už z predošlých testov je jasné, že Studentov t-test nemôžeme použiť. Levenov test testuje nulovú hypotézu $H_0$, že všetky vstupné vzorky pochádzajú z rozdelení s rovnakými varianciami. Ak $H_0$ nezamietame ($p > 0,05$), znamená to, že na základe dát nemôžeme prehlásiť, že by vzorky pochádzali z distribúcií s rôznymi varianciami."
   ]
  },
  {
   "cell_type": "code",
   "execution_count": null,
   "id": "cc8b7f99",
   "metadata": {},
   "outputs": [],
   "source": [
    "stats.levene(hema_0, hema_1)"
   ]
  },
  {
   "cell_type": "markdown",
   "id": "0a668717",
   "metadata": {},
   "source": [
    "p-value je blížiaci sa k nule, to znamená, že rozdelenia našich skupín nemajú ani podobné variancie.\n",
    "\n",
    "Nebol teda splnený ani jeden z predpokladov na použitie t-testu, preto spustíme **Mann-Whitneyho U-test**."
   ]
  },
  {
   "cell_type": "code",
   "execution_count": null,
   "id": "f4fb314a",
   "metadata": {
    "scrolled": true
   },
   "outputs": [],
   "source": [
    "stats.mannwhitneyu(hema_0, hema_1)"
   ]
  },
  {
   "cell_type": "markdown",
   "id": "6ba3ea70",
   "metadata": {},
   "source": [
    "Keďže $p < 0,001$, pravdepodobnosť chyby 1. rádu (že $H_0$ je pravdivá a my ju zamietame) je menej ako 1 promile. Našu nulovú hypotézu $H_0$ teda zamietame v prospech alternatívnej hypotézy $H_A$. Rozdiel v priemernej hodnote hematokritu medzi pacientami s indikátorom 0 a indikátorom 1 je štatisticky signifikantný.\n",
    "\n",
    "Môžeme si vizualizovať rozdiel medzi dvoma priemermi spolu s intervalmi spoľahlivosti, ktoré nám hovoria, že s N% pravdepodobnosťou (najčastejšie sa používa 95) sa skutočná hodnota priemeru bude nachádzať niekde v danom intervale."
   ]
  },
  {
   "cell_type": "code",
   "execution_count": null,
   "id": "f2ef3a10",
   "metadata": {},
   "outputs": [],
   "source": [
    "sms.DescrStatsW(hema_0).tconfint_mean()"
   ]
  },
  {
   "cell_type": "code",
   "execution_count": null,
   "id": "d40c6a1f",
   "metadata": {
    "scrolled": true
   },
   "outputs": [],
   "source": [
    "sms.DescrStatsW(hema_1).tconfint_mean()"
   ]
  },
  {
   "cell_type": "code",
   "execution_count": null,
   "id": "a20a811f",
   "metadata": {
    "scrolled": false
   },
   "outputs": [],
   "source": [
    "sns.barplot(x='indicator', y='hematokrit', data=dfl[(dfl.indicator == 0) | (dfl.indicator == 1)].dropna(), \n",
    "            capsize=0.1, errwidth=2, palette=sns.color_palette(\"Blues\"))"
   ]
  },
  {
   "cell_type": "markdown",
   "id": "ee9c49f1",
   "metadata": {},
   "source": [
    "**Záver:** hypotézu $H_0$, že priemerná hodnota hematokritu u pacientov s indikátorom 0 a pacientov s indikátorom 1 je rovnaká, sme zamietli v prospech alternatívnej hypotézy $H_A$. Priemerná hodnota hematokritu u pacientov s indikátorom 0 je vyššia ako u pacientov s indikátorom 1 a tento rozdiel je štatisticky signifikantný."
   ]
  }
 ],
 "metadata": {
  "kernelspec": {
   "display_name": "Python 3",
   "language": "python",
   "name": "python3"
  },
  "language_info": {
   "codemirror_mode": {
    "name": "ipython",
    "version": 3
   },
   "file_extension": ".py",
   "mimetype": "text/x-python",
   "name": "python",
   "nbconvert_exporter": "python",
   "pygments_lexer": "ipython3",
   "version": "3.8.6"
  }
 },
 "nbformat": 4,
 "nbformat_minor": 5
}
