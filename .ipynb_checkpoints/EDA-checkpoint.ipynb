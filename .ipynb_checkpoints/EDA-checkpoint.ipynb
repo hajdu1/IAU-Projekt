{
 "cells": [
  {
   "cell_type": "markdown",
   "id": "459db6ec",
   "metadata": {},
   "source": [
    "**Toto je notebook pre exploratívnu analýzu**"
   ]
  },
  {
   "cell_type": "code",
   "execution_count": 2,
   "id": "a3b8f6d3",
   "metadata": {},
   "outputs": [],
   "source": [
    "import pandas as pd"
   ]
  },
  {
   "cell_type": "markdown",
   "id": "1d053bc7",
   "metadata": {},
   "source": [
    "**Profiles**\n",
    "\n",
    "Najskôr si načítame dáta z \"profiles.csv\" do data frame."
   ]
  },
  {
   "cell_type": "code",
   "execution_count": 73,
   "id": "7ec6cfdb",
   "metadata": {},
   "outputs": [],
   "source": [
    "filename_p = \"data/profiles.csv\"\n",
    "dfp = pd.read_csv(filename_p, sep='\\t')\n",
    "## separátorom dát je znak tabulátora"
   ]
  },
  {
   "cell_type": "markdown",
   "id": "532d5498",
   "metadata": {},
   "source": [
    "Počet záznamov:"
   ]
  },
  {
   "cell_type": "code",
   "execution_count": 74,
   "id": "c3f6c74c",
   "metadata": {},
   "outputs": [
    {
     "data": {
      "text/plain": [
       "3082"
      ]
     },
     "execution_count": 74,
     "metadata": {},
     "output_type": "execute_result"
    }
   ],
   "source": [
    "len(dfp)"
   ]
  },
  {
   "cell_type": "markdown",
   "id": "ee061806",
   "metadata": {},
   "source": [
    "Počet atribútov:"
   ]
  },
  {
   "cell_type": "code",
   "execution_count": 75,
   "id": "d9c3edfe",
   "metadata": {},
   "outputs": [
    {
     "data": {
      "text/plain": [
       "10"
      ]
     },
     "execution_count": 75,
     "metadata": {},
     "output_type": "execute_result"
    }
   ],
   "source": [
    "len(dfp.columns.values)"
   ]
  },
  {
   "cell_type": "markdown",
   "id": "18f4f072",
   "metadata": {},
   "source": [
    "Jednotlivé atribúty a ich typy:"
   ]
  },
  {
   "cell_type": "code",
   "execution_count": 76,
   "id": "cd25982e",
   "metadata": {},
   "outputs": [
    {
     "data": {
      "text/plain": [
       "Unnamed: 0      int64\n",
       "job            object\n",
       "address        object\n",
       "blood_group    object\n",
       "ssn            object\n",
       "birthdate      object\n",
       "residence      object\n",
       "race           object\n",
       "name           object\n",
       "sex            object\n",
       "dtype: object"
      ]
     },
     "execution_count": 76,
     "metadata": {},
     "output_type": "execute_result"
    }
   ],
   "source": [
    "dfp.dtypes"
   ]
  },
  {
   "cell_type": "markdown",
   "id": "b46bda0f",
   "metadata": {},
   "source": [
    "Overíme, či sa v dátach nevyskytujú NaN (chýbajúce hodnoty):"
   ]
  },
  {
   "cell_type": "code",
   "execution_count": 50,
   "id": "a1c20ec5",
   "metadata": {},
   "outputs": [
    {
     "data": {
      "text/plain": [
       "Unnamed: 0     0\n",
       "job            0\n",
       "address        0\n",
       "blood_group    0\n",
       "ssn            0\n",
       "birthdate      0\n",
       "residence      0\n",
       "race           0\n",
       "name           0\n",
       "sex            0\n",
       "dtype: int64"
      ]
     },
     "execution_count": 50,
     "metadata": {},
     "output_type": "execute_result"
    }
   ],
   "source": [
    "dfp.isnull().sum()"
   ]
  },
  {
   "cell_type": "markdown",
   "id": "dd0f49be",
   "metadata": {},
   "source": [
    "Vypíšeme si začiatok dát. Už z výpisu atribútov bolo vidieť zvláštny stĺpec \"Unnamed: 0\"."
   ]
  },
  {
   "cell_type": "code",
   "execution_count": 78,
   "id": "e2e84d25",
   "metadata": {},
   "outputs": [
    {
     "data": {
      "text/html": [
       "<div>\n",
       "<style scoped>\n",
       "    .dataframe tbody tr th:only-of-type {\n",
       "        vertical-align: middle;\n",
       "    }\n",
       "\n",
       "    .dataframe tbody tr th {\n",
       "        vertical-align: top;\n",
       "    }\n",
       "\n",
       "    .dataframe thead th {\n",
       "        text-align: right;\n",
       "    }\n",
       "</style>\n",
       "<table border=\"1\" class=\"dataframe\">\n",
       "  <thead>\n",
       "    <tr style=\"text-align: right;\">\n",
       "      <th></th>\n",
       "      <th>Unnamed: 0</th>\n",
       "      <th>job</th>\n",
       "      <th>address</th>\n",
       "      <th>blood_group</th>\n",
       "      <th>ssn</th>\n",
       "      <th>birthdate</th>\n",
       "      <th>residence</th>\n",
       "      <th>race</th>\n",
       "      <th>name</th>\n",
       "      <th>sex</th>\n",
       "    </tr>\n",
       "  </thead>\n",
       "  <tbody>\n",
       "    <tr>\n",
       "      <th>0</th>\n",
       "      <td>0</td>\n",
       "      <td>Quarry manager</td>\n",
       "      <td>6269 Kelsey Cove\\nJessicahaven, KY 76299</td>\n",
       "      <td>B+</td>\n",
       "      <td>818-49-6074</td>\n",
       "      <td>1925-12-31</td>\n",
       "      <td>30070 Anderson Branch Suite 371\\nHoffmanberg, ...</td>\n",
       "      <td>White</td>\n",
       "      <td>Kimberly Frazier</td>\n",
       "      <td>F</td>\n",
       "    </tr>\n",
       "    <tr>\n",
       "      <th>1</th>\n",
       "      <td>1</td>\n",
       "      <td>Financial risk analyst</td>\n",
       "      <td>72241 Luna Divide Suite 877\\nMelindachester, I...</td>\n",
       "      <td>B+</td>\n",
       "      <td>617-52-9894</td>\n",
       "      <td>03/21/1912, 00:00:00</td>\n",
       "      <td>61551 Williams Shoal Apt. 506\\nLunaborough, VA...</td>\n",
       "      <td>Black</td>\n",
       "      <td>Timothy Gutierrez MD</td>\n",
       "      <td>M</td>\n",
       "    </tr>\n",
       "    <tr>\n",
       "      <th>2</th>\n",
       "      <td>2</td>\n",
       "      <td>Waste management officer</td>\n",
       "      <td>6554 Nicole Lodge\\nNorth Tanner, PA 59584</td>\n",
       "      <td>B+</td>\n",
       "      <td>690-88-6942</td>\n",
       "      <td>1960-11-19</td>\n",
       "      <td>77305 Palmer Valleys Suite 424\\nJennifertown, ...</td>\n",
       "      <td>Black</td>\n",
       "      <td>Elaine Elliott</td>\n",
       "      <td>F</td>\n",
       "    </tr>\n",
       "    <tr>\n",
       "      <th>3</th>\n",
       "      <td>3</td>\n",
       "      <td>Publishing rights manager</td>\n",
       "      <td>847 Taylor Court Apt. 547\\nGutierrezfort, SD 1...</td>\n",
       "      <td>O+</td>\n",
       "      <td>767-13-0171</td>\n",
       "      <td>1978/11/14</td>\n",
       "      <td>62021 Schwartz Roads\\nJaimeville, SD 64413</td>\n",
       "      <td>Black</td>\n",
       "      <td>Richard Anderson</td>\n",
       "      <td>M</td>\n",
       "    </tr>\n",
       "    <tr>\n",
       "      <th>4</th>\n",
       "      <td>4</td>\n",
       "      <td>Medical sales representative</td>\n",
       "      <td>83815 Richard Causeway Suite 275\\nLemouth, WV ...</td>\n",
       "      <td>B+</td>\n",
       "      <td>412-57-1910</td>\n",
       "      <td>03/14/1995, 00:00:00</td>\n",
       "      <td>Unit 4872 Box 1158\\nDPO AA 51410</td>\n",
       "      <td>white</td>\n",
       "      <td>Jennifer Bass</td>\n",
       "      <td>F</td>\n",
       "    </tr>\n",
       "  </tbody>\n",
       "</table>\n",
       "</div>"
      ],
      "text/plain": [
       "   Unnamed: 0                           job  \\\n",
       "0           0                Quarry manager   \n",
       "1           1        Financial risk analyst   \n",
       "2           2      Waste management officer   \n",
       "3           3     Publishing rights manager   \n",
       "4           4  Medical sales representative   \n",
       "\n",
       "                                             address blood_group          ssn  \\\n",
       "0           6269 Kelsey Cove\\nJessicahaven, KY 76299          B+  818-49-6074   \n",
       "1  72241 Luna Divide Suite 877\\nMelindachester, I...          B+  617-52-9894   \n",
       "2          6554 Nicole Lodge\\nNorth Tanner, PA 59584          B+  690-88-6942   \n",
       "3  847 Taylor Court Apt. 547\\nGutierrezfort, SD 1...          O+  767-13-0171   \n",
       "4  83815 Richard Causeway Suite 275\\nLemouth, WV ...          B+  412-57-1910   \n",
       "\n",
       "              birthdate                                          residence  \\\n",
       "0            1925-12-31  30070 Anderson Branch Suite 371\\nHoffmanberg, ...   \n",
       "1  03/21/1912, 00:00:00  61551 Williams Shoal Apt. 506\\nLunaborough, VA...   \n",
       "2            1960-11-19  77305 Palmer Valleys Suite 424\\nJennifertown, ...   \n",
       "3            1978/11/14         62021 Schwartz Roads\\nJaimeville, SD 64413   \n",
       "4  03/14/1995, 00:00:00                   Unit 4872 Box 1158\\nDPO AA 51410   \n",
       "\n",
       "    race                  name sex  \n",
       "0  White      Kimberly Frazier   F  \n",
       "1  Black  Timothy Gutierrez MD   M  \n",
       "2  Black        Elaine Elliott   F  \n",
       "3  Black      Richard Anderson   M  \n",
       "4  white         Jennifer Bass   F  "
      ]
     },
     "execution_count": 78,
     "metadata": {},
     "output_type": "execute_result"
    }
   ],
   "source": [
    "dfp.head()"
   ]
  },
  {
   "cell_type": "markdown",
   "id": "0ad5cbf0",
   "metadata": {},
   "source": [
    "Ako prvý problém vidíme nepotrebný index stĺpec s názvom \"Unnamed: 0\", ktorý môžme odstrániť."
   ]
  },
  {
   "cell_type": "code",
   "execution_count": 79,
   "id": "54f56a67",
   "metadata": {},
   "outputs": [
    {
     "data": {
      "text/html": [
       "<div>\n",
       "<style scoped>\n",
       "    .dataframe tbody tr th:only-of-type {\n",
       "        vertical-align: middle;\n",
       "    }\n",
       "\n",
       "    .dataframe tbody tr th {\n",
       "        vertical-align: top;\n",
       "    }\n",
       "\n",
       "    .dataframe thead th {\n",
       "        text-align: right;\n",
       "    }\n",
       "</style>\n",
       "<table border=\"1\" class=\"dataframe\">\n",
       "  <thead>\n",
       "    <tr style=\"text-align: right;\">\n",
       "      <th></th>\n",
       "      <th>job</th>\n",
       "      <th>address</th>\n",
       "      <th>blood_group</th>\n",
       "      <th>ssn</th>\n",
       "      <th>birthdate</th>\n",
       "      <th>residence</th>\n",
       "      <th>race</th>\n",
       "      <th>name</th>\n",
       "      <th>sex</th>\n",
       "    </tr>\n",
       "  </thead>\n",
       "  <tbody>\n",
       "    <tr>\n",
       "      <th>0</th>\n",
       "      <td>Quarry manager</td>\n",
       "      <td>6269 Kelsey Cove\\nJessicahaven, KY 76299</td>\n",
       "      <td>B+</td>\n",
       "      <td>818-49-6074</td>\n",
       "      <td>1925-12-31</td>\n",
       "      <td>30070 Anderson Branch Suite 371\\nHoffmanberg, ...</td>\n",
       "      <td>White</td>\n",
       "      <td>Kimberly Frazier</td>\n",
       "      <td>F</td>\n",
       "    </tr>\n",
       "    <tr>\n",
       "      <th>1</th>\n",
       "      <td>Financial risk analyst</td>\n",
       "      <td>72241 Luna Divide Suite 877\\nMelindachester, I...</td>\n",
       "      <td>B+</td>\n",
       "      <td>617-52-9894</td>\n",
       "      <td>03/21/1912, 00:00:00</td>\n",
       "      <td>61551 Williams Shoal Apt. 506\\nLunaborough, VA...</td>\n",
       "      <td>Black</td>\n",
       "      <td>Timothy Gutierrez MD</td>\n",
       "      <td>M</td>\n",
       "    </tr>\n",
       "    <tr>\n",
       "      <th>2</th>\n",
       "      <td>Waste management officer</td>\n",
       "      <td>6554 Nicole Lodge\\nNorth Tanner, PA 59584</td>\n",
       "      <td>B+</td>\n",
       "      <td>690-88-6942</td>\n",
       "      <td>1960-11-19</td>\n",
       "      <td>77305 Palmer Valleys Suite 424\\nJennifertown, ...</td>\n",
       "      <td>Black</td>\n",
       "      <td>Elaine Elliott</td>\n",
       "      <td>F</td>\n",
       "    </tr>\n",
       "    <tr>\n",
       "      <th>3</th>\n",
       "      <td>Publishing rights manager</td>\n",
       "      <td>847 Taylor Court Apt. 547\\nGutierrezfort, SD 1...</td>\n",
       "      <td>O+</td>\n",
       "      <td>767-13-0171</td>\n",
       "      <td>1978/11/14</td>\n",
       "      <td>62021 Schwartz Roads\\nJaimeville, SD 64413</td>\n",
       "      <td>Black</td>\n",
       "      <td>Richard Anderson</td>\n",
       "      <td>M</td>\n",
       "    </tr>\n",
       "    <tr>\n",
       "      <th>4</th>\n",
       "      <td>Medical sales representative</td>\n",
       "      <td>83815 Richard Causeway Suite 275\\nLemouth, WV ...</td>\n",
       "      <td>B+</td>\n",
       "      <td>412-57-1910</td>\n",
       "      <td>03/14/1995, 00:00:00</td>\n",
       "      <td>Unit 4872 Box 1158\\nDPO AA 51410</td>\n",
       "      <td>white</td>\n",
       "      <td>Jennifer Bass</td>\n",
       "      <td>F</td>\n",
       "    </tr>\n",
       "  </tbody>\n",
       "</table>\n",
       "</div>"
      ],
      "text/plain": [
       "                            job  \\\n",
       "0                Quarry manager   \n",
       "1        Financial risk analyst   \n",
       "2      Waste management officer   \n",
       "3     Publishing rights manager   \n",
       "4  Medical sales representative   \n",
       "\n",
       "                                             address blood_group          ssn  \\\n",
       "0           6269 Kelsey Cove\\nJessicahaven, KY 76299          B+  818-49-6074   \n",
       "1  72241 Luna Divide Suite 877\\nMelindachester, I...          B+  617-52-9894   \n",
       "2          6554 Nicole Lodge\\nNorth Tanner, PA 59584          B+  690-88-6942   \n",
       "3  847 Taylor Court Apt. 547\\nGutierrezfort, SD 1...          O+  767-13-0171   \n",
       "4  83815 Richard Causeway Suite 275\\nLemouth, WV ...          B+  412-57-1910   \n",
       "\n",
       "              birthdate                                          residence  \\\n",
       "0            1925-12-31  30070 Anderson Branch Suite 371\\nHoffmanberg, ...   \n",
       "1  03/21/1912, 00:00:00  61551 Williams Shoal Apt. 506\\nLunaborough, VA...   \n",
       "2            1960-11-19  77305 Palmer Valleys Suite 424\\nJennifertown, ...   \n",
       "3            1978/11/14         62021 Schwartz Roads\\nJaimeville, SD 64413   \n",
       "4  03/14/1995, 00:00:00                   Unit 4872 Box 1158\\nDPO AA 51410   \n",
       "\n",
       "    race                  name sex  \n",
       "0  White      Kimberly Frazier   F  \n",
       "1  Black  Timothy Gutierrez MD   M  \n",
       "2  Black        Elaine Elliott   F  \n",
       "3  Black      Richard Anderson   M  \n",
       "4  white         Jennifer Bass   F  "
      ]
     },
     "execution_count": 79,
     "metadata": {},
     "output_type": "execute_result"
    }
   ],
   "source": [
    "dfp.drop('Unnamed: 0', axis=1, inplace=True)\n",
    "dfp.head()"
   ]
  },
  {
   "cell_type": "markdown",
   "id": "0d122f35",
   "metadata": {},
   "source": [
    "Ďalší problém dát je nejednotný formát hodnôt v stĺpci \"race\":"
   ]
  },
  {
   "cell_type": "code",
   "execution_count": 80,
   "id": "6ee5dd47",
   "metadata": {},
   "outputs": [
    {
     "data": {
      "text/plain": [
       "array(['White', 'Black', 'white', 'Hawaiian', 'Asian', 'black', 'Indian',\n",
       "       'blsck'], dtype=object)"
      ]
     },
     "execution_count": 80,
     "metadata": {},
     "output_type": "execute_result"
    }
   ],
   "source": [
    "dfp.race.unique()"
   ]
  },
  {
   "cell_type": "markdown",
   "id": "b7565761",
   "metadata": {},
   "source": [
    "Po úprave sú hodnoty v konzistentnom formáte."
   ]
  },
  {
   "cell_type": "code",
   "execution_count": 81,
   "id": "5287270f",
   "metadata": {},
   "outputs": [
    {
     "data": {
      "text/plain": [
       "array(['White', 'Black', 'Hawaiian', 'Asian', 'Indian'], dtype=object)"
      ]
     },
     "execution_count": 81,
     "metadata": {},
     "output_type": "execute_result"
    }
   ],
   "source": [
    "dfp['race'] = dfp['race'].str.replace('white','White')\n",
    "dfp['race'] = dfp['race'].str.replace('black','Black')\n",
    "dfp['race'] = dfp['race'].str.replace('blsck','Black')\n",
    "dfp.race.unique()"
   ]
  },
  {
   "cell_type": "code",
   "execution_count": 82,
   "id": "2047a795",
   "metadata": {},
   "outputs": [
    {
     "data": {
      "text/plain": [
       "blood_group  sex\n",
       "A+           F      200\n",
       "             M      206\n",
       "A-           F      186\n",
       "             M      186\n",
       "AB+          F      209\n",
       "             M      184\n",
       "AB-          F      175\n",
       "             M      206\n",
       "B+           F      203\n",
       "             M      176\n",
       "B-           F      188\n",
       "             M      173\n",
       "O+           F      204\n",
       "             M      208\n",
       "O-           F      198\n",
       "             M      180\n",
       "dtype: int64"
      ]
     },
     "execution_count": 82,
     "metadata": {},
     "output_type": "execute_result"
    }
   ],
   "source": [
    "dfp.groupby(['blood_group', 'sex']).size()        ## snudi pokus"
   ]
  },
  {
   "cell_type": "markdown",
   "id": "9cd309ac",
   "metadata": {},
   "source": [
    "**Labor**"
   ]
  },
  {
   "cell_type": "code",
   "execution_count": 6,
   "id": "24e5254a",
   "metadata": {},
   "outputs": [
    {
     "data": {
      "text/html": [
       "<div>\n",
       "<style scoped>\n",
       "    .dataframe tbody tr th:only-of-type {\n",
       "        vertical-align: middle;\n",
       "    }\n",
       "\n",
       "    .dataframe tbody tr th {\n",
       "        vertical-align: top;\n",
       "    }\n",
       "\n",
       "    .dataframe thead th {\n",
       "        text-align: right;\n",
       "    }\n",
       "</style>\n",
       "<table border=\"1\" class=\"dataframe\">\n",
       "  <thead>\n",
       "    <tr style=\"text-align: right;\">\n",
       "      <th></th>\n",
       "      <th>Unnamed: 0</th>\n",
       "      <th>leukocyty</th>\n",
       "      <th>ssn</th>\n",
       "      <th>name</th>\n",
       "      <th>smoker</th>\n",
       "      <th>hemoglobin</th>\n",
       "      <th>trombocyty</th>\n",
       "      <th>indicator</th>\n",
       "      <th>alt</th>\n",
       "      <th>relationship</th>\n",
       "      <th>weight</th>\n",
       "      <th>ast</th>\n",
       "      <th>alp</th>\n",
       "      <th>hematokrit</th>\n",
       "      <th>hbver</th>\n",
       "      <th>etytr</th>\n",
       "      <th>er-cv</th>\n",
       "      <th>erytrocyty</th>\n",
       "    </tr>\n",
       "  </thead>\n",
       "  <tbody>\n",
       "    <tr>\n",
       "      <th>0</th>\n",
       "      <td>0</td>\n",
       "      <td>5.90289</td>\n",
       "      <td>513-95-7625</td>\n",
       "      <td>Andrew Jacobs</td>\n",
       "      <td>no</td>\n",
       "      <td>7.54279</td>\n",
       "      <td>5.83096</td>\n",
       "      <td>1.0</td>\n",
       "      <td>17.60670</td>\n",
       "      <td>widowed</td>\n",
       "      <td>8.09544</td>\n",
       "      <td>42.92870</td>\n",
       "      <td>60.77098</td>\n",
       "      <td>6.50802</td>\n",
       "      <td>5.54259</td>\n",
       "      <td>6.57020</td>\n",
       "      <td>47.78400</td>\n",
       "      <td>5.46395</td>\n",
       "    </tr>\n",
       "    <tr>\n",
       "      <th>1</th>\n",
       "      <td>1</td>\n",
       "      <td>5.56403</td>\n",
       "      <td>025-71-2115</td>\n",
       "      <td>Ian Harrison</td>\n",
       "      <td>Y</td>\n",
       "      <td>7.87747</td>\n",
       "      <td>NaN</td>\n",
       "      <td>1.0</td>\n",
       "      <td>17.78037</td>\n",
       "      <td>single</td>\n",
       "      <td>73.58725</td>\n",
       "      <td>50.25507</td>\n",
       "      <td>47.14780</td>\n",
       "      <td>3.49169</td>\n",
       "      <td>3.52227</td>\n",
       "      <td>4.82276</td>\n",
       "      <td>55.62479</td>\n",
       "      <td>5.37924</td>\n",
       "    </tr>\n",
       "    <tr>\n",
       "      <th>2</th>\n",
       "      <td>2</td>\n",
       "      <td>6.24057</td>\n",
       "      <td>824-63-0108</td>\n",
       "      <td>Matthew Williams</td>\n",
       "      <td>no</td>\n",
       "      <td>4.72650</td>\n",
       "      <td>7.83234</td>\n",
       "      <td>1.0</td>\n",
       "      <td>25.25152</td>\n",
       "      <td>single</td>\n",
       "      <td>129.45079</td>\n",
       "      <td>25.15943</td>\n",
       "      <td>48.53570</td>\n",
       "      <td>8.65913</td>\n",
       "      <td>8.25976</td>\n",
       "      <td>5.64422</td>\n",
       "      <td>48.44629</td>\n",
       "      <td>6.52365</td>\n",
       "    </tr>\n",
       "    <tr>\n",
       "      <th>3</th>\n",
       "      <td>3</td>\n",
       "      <td>5.48374</td>\n",
       "      <td>157-32-2908</td>\n",
       "      <td>Charles Chavez</td>\n",
       "      <td>no</td>\n",
       "      <td>5.43079</td>\n",
       "      <td>5.36911</td>\n",
       "      <td>1.0</td>\n",
       "      <td>18.32802</td>\n",
       "      <td>divoced</td>\n",
       "      <td>18.61698</td>\n",
       "      <td>45.02094</td>\n",
       "      <td>73.77687</td>\n",
       "      <td>9.30190</td>\n",
       "      <td>6.26535</td>\n",
       "      <td>6.23014</td>\n",
       "      <td>50.48872</td>\n",
       "      <td>4.33766</td>\n",
       "    </tr>\n",
       "    <tr>\n",
       "      <th>4</th>\n",
       "      <td>4</td>\n",
       "      <td>6.04784</td>\n",
       "      <td>545-96-1267</td>\n",
       "      <td>Allen Chung MD</td>\n",
       "      <td>yes</td>\n",
       "      <td>8.85943</td>\n",
       "      <td>6.76682</td>\n",
       "      <td>1.0</td>\n",
       "      <td>11.03841</td>\n",
       "      <td>divoced</td>\n",
       "      <td>78.83355</td>\n",
       "      <td>59.06392</td>\n",
       "      <td>17.65112</td>\n",
       "      <td>4.47835</td>\n",
       "      <td>2.28488</td>\n",
       "      <td>7.83874</td>\n",
       "      <td>38.74892</td>\n",
       "      <td>5.17704</td>\n",
       "    </tr>\n",
       "  </tbody>\n",
       "</table>\n",
       "</div>"
      ],
      "text/plain": [
       "   Unnamed: 0  leukocyty          ssn              name smoker  hemoglobin  \\\n",
       "0           0    5.90289  513-95-7625     Andrew Jacobs     no     7.54279   \n",
       "1           1    5.56403  025-71-2115      Ian Harrison      Y     7.87747   \n",
       "2           2    6.24057  824-63-0108  Matthew Williams     no     4.72650   \n",
       "3           3    5.48374  157-32-2908    Charles Chavez     no     5.43079   \n",
       "4           4    6.04784  545-96-1267    Allen Chung MD    yes     8.85943   \n",
       "\n",
       "   trombocyty  indicator       alt relationship     weight       ast  \\\n",
       "0     5.83096        1.0  17.60670      widowed    8.09544  42.92870   \n",
       "1         NaN        1.0  17.78037       single   73.58725  50.25507   \n",
       "2     7.83234        1.0  25.25152       single  129.45079  25.15943   \n",
       "3     5.36911        1.0  18.32802      divoced   18.61698  45.02094   \n",
       "4     6.76682        1.0  11.03841      divoced   78.83355  59.06392   \n",
       "\n",
       "        alp  hematokrit    hbver    etytr     er-cv  erytrocyty  \n",
       "0  60.77098     6.50802  5.54259  6.57020  47.78400     5.46395  \n",
       "1  47.14780     3.49169  3.52227  4.82276  55.62479     5.37924  \n",
       "2  48.53570     8.65913  8.25976  5.64422  48.44629     6.52365  \n",
       "3  73.77687     9.30190  6.26535  6.23014  50.48872     4.33766  \n",
       "4  17.65112     4.47835  2.28488  7.83874  38.74892     5.17704  "
      ]
     },
     "execution_count": 6,
     "metadata": {},
     "output_type": "execute_result"
    }
   ],
   "source": [
    "filename_l = \"data/labor.csv\"\n",
    "dfl = pd.read_csv(filename_l, sep='\\t')\n",
    "dfl.head()"
   ]
  },
  {
   "cell_type": "code",
   "execution_count": 36,
   "id": "e431e161",
   "metadata": {
    "scrolled": true
   },
   "outputs": [
    {
     "data": {
      "text/plain": [
       "10017"
      ]
     },
     "execution_count": 36,
     "metadata": {},
     "output_type": "execute_result"
    }
   ],
   "source": [
    "len(dfl)"
   ]
  },
  {
   "cell_type": "code",
   "execution_count": 86,
   "id": "593862dd",
   "metadata": {},
   "outputs": [
    {
     "data": {
      "text/plain": [
       "18"
      ]
     },
     "execution_count": 86,
     "metadata": {},
     "output_type": "execute_result"
    }
   ],
   "source": [
    "len(dfl.columns.values)"
   ]
  },
  {
   "cell_type": "code",
   "execution_count": 87,
   "id": "842a7cd2",
   "metadata": {},
   "outputs": [
    {
     "data": {
      "text/plain": [
       "Unnamed: 0        int64\n",
       "leukocyty       float64\n",
       "ssn              object\n",
       "name             object\n",
       "smoker           object\n",
       "hemoglobin      float64\n",
       "trombocyty      float64\n",
       "indicator       float64\n",
       "alt             float64\n",
       "relationship     object\n",
       "weight          float64\n",
       "ast             float64\n",
       "alp             float64\n",
       "hematokrit      float64\n",
       "hbver           float64\n",
       "etytr           float64\n",
       "er-cv           float64\n",
       "erytrocyty      float64\n",
       "dtype: object"
      ]
     },
     "execution_count": 87,
     "metadata": {},
     "output_type": "execute_result"
    }
   ],
   "source": [
    "dfl.dtypes"
   ]
  },
  {
   "cell_type": "code",
   "execution_count": 94,
   "id": "3ba99f62",
   "metadata": {},
   "outputs": [
    {
     "data": {
      "text/plain": [
       "Unnamed: 0       0\n",
       "leukocyty       31\n",
       "ssn              0\n",
       "name             0\n",
       "smoker           0\n",
       "hemoglobin      32\n",
       "trombocyty      30\n",
       "indicator        0\n",
       "alt             30\n",
       "relationship     0\n",
       "weight           0\n",
       "ast             30\n",
       "alp             30\n",
       "hematokrit      30\n",
       "hbver           30\n",
       "etytr           30\n",
       "er-cv           30\n",
       "erytrocyty      30\n",
       "dtype: int64"
      ]
     },
     "execution_count": 94,
     "metadata": {},
     "output_type": "execute_result"
    }
   ],
   "source": [
    "dfl.isnull().sum()"
   ]
  },
  {
   "cell_type": "code",
   "execution_count": 93,
   "id": "4c26cd7c",
   "metadata": {},
   "outputs": [
    {
     "data": {
      "text/plain": [
       "327"
      ]
     },
     "execution_count": 93,
     "metadata": {},
     "output_type": "execute_result"
    }
   ],
   "source": [
    "len(dfl[dfl.isnull().any(axis=1)])"
   ]
  },
  {
   "cell_type": "code",
   "execution_count": 92,
   "id": "574176e8",
   "metadata": {},
   "outputs": [
    {
     "data": {
      "text/plain": [
       "array(['no', 'Y', 'yes', 'N'], dtype=object)"
      ]
     },
     "execution_count": 92,
     "metadata": {},
     "output_type": "execute_result"
    }
   ],
   "source": [
    "dfl.smoker.unique()"
   ]
  },
  {
   "cell_type": "code",
   "execution_count": 104,
   "id": "ea5ea179",
   "metadata": {},
   "outputs": [
    {
     "data": {
      "text/plain": [
       "2598"
      ]
     },
     "execution_count": 104,
     "metadata": {},
     "output_type": "execute_result"
    }
   ],
   "source": [
    "len(dfl.loc[dfl['smoker'].isin(['Y', 'N'])])"
   ]
  },
  {
   "cell_type": "code",
   "execution_count": 105,
   "id": "54184d6c",
   "metadata": {},
   "outputs": [
    {
     "data": {
      "text/plain": [
       "7419"
      ]
     },
     "execution_count": 105,
     "metadata": {},
     "output_type": "execute_result"
    }
   ],
   "source": [
    "len(dfl.loc[dfl['smoker'].isin(['yes', 'no'])])"
   ]
  },
  {
   "cell_type": "code",
   "execution_count": 106,
   "id": "0bfe4165",
   "metadata": {},
   "outputs": [
    {
     "data": {
      "text/plain": [
       "array(['no', 'yes'], dtype=object)"
      ]
     },
     "execution_count": 106,
     "metadata": {},
     "output_type": "execute_result"
    }
   ],
   "source": [
    "dfl['smoker'] = dfl['smoker'].str.replace('N','no')\n",
    "dfl['smoker'] = dfl['smoker'].str.replace('Y','yes')\n",
    "dfl.smoker.unique()"
   ]
  },
  {
   "cell_type": "code",
   "execution_count": null,
   "id": "962b3675",
   "metadata": {},
   "outputs": [],
   "source": []
  }
 ],
 "metadata": {
  "kernelspec": {
   "display_name": "IAU Projekt (iau_env)",
   "language": "python",
   "name": "iau_env"
  },
  "language_info": {
   "codemirror_mode": {
    "name": "ipython",
    "version": 3
   },
   "file_extension": ".py",
   "mimetype": "text/x-python",
   "name": "python",
   "nbconvert_exporter": "python",
   "pygments_lexer": "ipython3",
   "version": "3.8.6"
  }
 },
 "nbformat": 4,
 "nbformat_minor": 5
}
