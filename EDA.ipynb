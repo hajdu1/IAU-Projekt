{
 "cells": [
  {
   "cell_type": "markdown",
   "id": "459db6ec",
   "metadata": {},
   "source": [
    "# Fáza 1 (EDA)"
   ]
  },
  {
   "cell_type": "markdown",
   "id": "53724857",
   "metadata": {},
   "source": [
    "Zdroje informácií o údajoch: https://www.ncbi.nlm.nih.gov/pmc/articles/PMC7219181/"
   ]
  },
  {
   "cell_type": "code",
   "execution_count": 60,
   "id": "a3b8f6d3",
   "metadata": {},
   "outputs": [],
   "source": [
    "import pandas as pd\n",
    "import seaborn as sb\n",
    "import matplotlib.pyplot as plt\n",
    "import statsmodels.api as sm\n",
    "import scipy.stats as stats\n",
    "import statsmodels.stats.api as sms"
   ]
  },
  {
   "cell_type": "markdown",
   "id": "1d053bc7",
   "metadata": {},
   "source": [
    "## Profiles\n",
    "\n",
    "Najskôr si načítame dáta z \"profiles.csv\" do data frame."
   ]
  },
  {
   "cell_type": "code",
   "execution_count": 2,
   "id": "7ec6cfdb",
   "metadata": {},
   "outputs": [],
   "source": [
    "filename_p = \"data/profiles.csv\"\n",
    "dfp = pd.read_csv(filename_p, sep='\\t')\n",
    "## separátorom dát je znak tabulátora"
   ]
  },
  {
   "cell_type": "markdown",
   "id": "532d5498",
   "metadata": {},
   "source": [
    "Počet záznamov:"
   ]
  },
  {
   "cell_type": "code",
   "execution_count": 3,
   "id": "c3f6c74c",
   "metadata": {},
   "outputs": [
    {
     "data": {
      "text/plain": [
       "3082"
      ]
     },
     "execution_count": 3,
     "metadata": {},
     "output_type": "execute_result"
    }
   ],
   "source": [
    "len(dfp)"
   ]
  },
  {
   "cell_type": "markdown",
   "id": "ee061806",
   "metadata": {},
   "source": [
    "Počet atribútov:"
   ]
  },
  {
   "cell_type": "code",
   "execution_count": 4,
   "id": "d9c3edfe",
   "metadata": {},
   "outputs": [
    {
     "data": {
      "text/plain": [
       "10"
      ]
     },
     "execution_count": 4,
     "metadata": {},
     "output_type": "execute_result"
    }
   ],
   "source": [
    "len(dfp.columns.values)"
   ]
  },
  {
   "cell_type": "markdown",
   "id": "18f4f072",
   "metadata": {},
   "source": [
    "Jednotlivé atribúty a ich typy:"
   ]
  },
  {
   "cell_type": "code",
   "execution_count": 5,
   "id": "cd25982e",
   "metadata": {},
   "outputs": [
    {
     "data": {
      "text/plain": [
       "Unnamed: 0      int64\n",
       "job            object\n",
       "address        object\n",
       "blood_group    object\n",
       "ssn            object\n",
       "birthdate      object\n",
       "residence      object\n",
       "race           object\n",
       "name           object\n",
       "sex            object\n",
       "dtype: object"
      ]
     },
     "execution_count": 5,
     "metadata": {},
     "output_type": "execute_result"
    }
   ],
   "source": [
    "dfp.dtypes"
   ]
  },
  {
   "cell_type": "code",
   "execution_count": 6,
   "id": "db7a1366",
   "metadata": {},
   "outputs": [
    {
     "data": {
      "text/html": [
       "<div>\n",
       "<style scoped>\n",
       "    .dataframe tbody tr th:only-of-type {\n",
       "        vertical-align: middle;\n",
       "    }\n",
       "\n",
       "    .dataframe tbody tr th {\n",
       "        vertical-align: top;\n",
       "    }\n",
       "\n",
       "    .dataframe thead th {\n",
       "        text-align: right;\n",
       "    }\n",
       "</style>\n",
       "<table border=\"1\" class=\"dataframe\">\n",
       "  <thead>\n",
       "    <tr style=\"text-align: right;\">\n",
       "      <th></th>\n",
       "      <th>blood_group</th>\n",
       "      <th>race</th>\n",
       "      <th>sex</th>\n",
       "    </tr>\n",
       "  </thead>\n",
       "  <tbody>\n",
       "    <tr>\n",
       "      <th>count</th>\n",
       "      <td>3082</td>\n",
       "      <td>3082</td>\n",
       "      <td>3082</td>\n",
       "    </tr>\n",
       "    <tr>\n",
       "      <th>unique</th>\n",
       "      <td>8</td>\n",
       "      <td>8</td>\n",
       "      <td>2</td>\n",
       "    </tr>\n",
       "    <tr>\n",
       "      <th>top</th>\n",
       "      <td>O+</td>\n",
       "      <td>White</td>\n",
       "      <td>F</td>\n",
       "    </tr>\n",
       "    <tr>\n",
       "      <th>freq</th>\n",
       "      <td>412</td>\n",
       "      <td>1569</td>\n",
       "      <td>1563</td>\n",
       "    </tr>\n",
       "  </tbody>\n",
       "</table>\n",
       "</div>"
      ],
      "text/plain": [
       "       blood_group   race   sex\n",
       "count         3082   3082  3082\n",
       "unique           8      8     2\n",
       "top             O+  White     F\n",
       "freq           412   1569  1563"
      ]
     },
     "execution_count": 6,
     "metadata": {},
     "output_type": "execute_result"
    }
   ],
   "source": [
    "dfp[['blood_group', 'race', 'sex']].describe()"
   ]
  },
  {
   "cell_type": "code",
   "execution_count": 7,
   "id": "b4f25f0e",
   "metadata": {},
   "outputs": [
    {
     "data": {
      "text/plain": [
       "<AxesSubplot:xlabel='blood_group', ylabel='Count'>"
      ]
     },
     "execution_count": 7,
     "metadata": {},
     "output_type": "execute_result"
    },
    {
     "data": {
      "image/png": "[encoded data removed]",
      "text/plain": [
       "<Figure size 432x288 with 1 Axes>"
      ]
     },
     "metadata": {
      "needs_background": "light"
     },
     "output_type": "display_data"
    }
   ],
   "source": [
    "sb.histplot(data=dfp['blood_group'])"
   ]
  },
  {
   "cell_type": "code",
   "execution_count": 8,
   "id": "ed0ee0c1",
   "metadata": {},
   "outputs": [
    {
     "data": {
      "text/plain": [
       "<AxesSubplot:xlabel='race', ylabel='Count'>"
      ]
     },
     "execution_count": 8,
     "metadata": {},
     "output_type": "execute_result"
    },
    {
     "data": {
      "image/png": "[encoded data removed]",
      "text/plain": [
       "<Figure size 432x288 with 1 Axes>"
      ]
     },
     "metadata": {
      "needs_background": "light"
     },
     "output_type": "display_data"
    }
   ],
   "source": [
    "sb.histplot(data=dfp['race'])"
   ]
  },
  {
   "cell_type": "code",
   "execution_count": 9,
   "id": "b655d2ce",
   "metadata": {},
   "outputs": [
    {
     "data": {
      "text/plain": [
       "<AxesSubplot:xlabel='sex', ylabel='Count'>"
      ]
     },
     "execution_count": 9,
     "metadata": {},
     "output_type": "execute_result"
    },
    {
     "data": {
      "image/png": "[encoded data removed]",
      "text/plain": [
       "<Figure size 432x288 with 1 Axes>"
      ]
     },
     "metadata": {
      "needs_background": "light"
     },
     "output_type": "display_data"
    }
   ],
   "source": [
    "sb.histplot(data=dfp['sex'])\n"
   ]
  },
  {
   "cell_type": "markdown",
   "id": "b46bda0f",
   "metadata": {},
   "source": [
    "Overíme, či sa v dátach nevyskytujú NaN (chýbajúce hodnoty):"
   ]
  },
  {
   "cell_type": "code",
   "execution_count": 10,
   "id": "a1c20ec5",
   "metadata": {},
   "outputs": [
    {
     "data": {
      "text/plain": [
       "Unnamed: 0     0\n",
       "job            0\n",
       "address        0\n",
       "blood_group    0\n",
       "ssn            0\n",
       "birthdate      0\n",
       "residence      0\n",
       "race           0\n",
       "name           0\n",
       "sex            0\n",
       "dtype: int64"
      ]
     },
     "execution_count": 10,
     "metadata": {},
     "output_type": "execute_result"
    }
   ],
   "source": [
    "dfp.isnull().sum()"
   ]
  },
  {
   "cell_type": "markdown",
   "id": "dd0f49be",
   "metadata": {},
   "source": [
    "Vypíšeme si začiatok dát. Už z výpisu atribútov bolo vidieť zvláštny stĺpec \"Unnamed: 0\"."
   ]
  },
  {
   "cell_type": "code",
   "execution_count": 11,
   "id": "e2e84d25",
   "metadata": {},
   "outputs": [
    {
     "data": {
      "text/html": [
       "<div>\n",
       "<style scoped>\n",
       "    .dataframe tbody tr th:only-of-type {\n",
       "        vertical-align: middle;\n",
       "    }\n",
       "\n",
       "    .dataframe tbody tr th {\n",
       "        vertical-align: top;\n",
       "    }\n",
       "\n",
       "    .dataframe thead th {\n",
       "        text-align: right;\n",
       "    }\n",
       "</style>\n",
       "<table border=\"1\" class=\"dataframe\">\n",
       "  <thead>\n",
       "    <tr style=\"text-align: right;\">\n",
       "      <th></th>\n",
       "      <th>Unnamed: 0</th>\n",
       "      <th>job</th>\n",
       "      <th>address</th>\n",
       "      <th>blood_group</th>\n",
       "      <th>ssn</th>\n",
       "      <th>birthdate</th>\n",
       "      <th>residence</th>\n",
       "      <th>race</th>\n",
       "      <th>name</th>\n",
       "      <th>sex</th>\n",
       "    </tr>\n",
       "  </thead>\n",
       "  <tbody>\n",
       "    <tr>\n",
       "      <th>0</th>\n",
       "      <td>0</td>\n",
       "      <td>Quarry manager</td>\n",
       "      <td>6269 Kelsey Cove\\nJessicahaven, KY 76299</td>\n",
       "      <td>B+</td>\n",
       "      <td>818-49-6074</td>\n",
       "      <td>1925-12-31</td>\n",
       "      <td>30070 Anderson Branch Suite 371\\nHoffmanberg, ...</td>\n",
       "      <td>White</td>\n",
       "      <td>Kimberly Frazier</td>\n",
       "      <td>F</td>\n",
       "    </tr>\n",
       "    <tr>\n",
       "      <th>1</th>\n",
       "      <td>1</td>\n",
       "      <td>Financial risk analyst</td>\n",
       "      <td>72241 Luna Divide Suite 877\\nMelindachester, I...</td>\n",
       "      <td>B+</td>\n",
       "      <td>617-52-9894</td>\n",
       "      <td>03/21/1912, 00:00:00</td>\n",
       "      <td>61551 Williams Shoal Apt. 506\\nLunaborough, VA...</td>\n",
       "      <td>Black</td>\n",
       "      <td>Timothy Gutierrez MD</td>\n",
       "      <td>M</td>\n",
       "    </tr>\n",
       "    <tr>\n",
       "      <th>2</th>\n",
       "      <td>2</td>\n",
       "      <td>Waste management officer</td>\n",
       "      <td>6554 Nicole Lodge\\nNorth Tanner, PA 59584</td>\n",
       "      <td>B+</td>\n",
       "      <td>690-88-6942</td>\n",
       "      <td>1960-11-19</td>\n",
       "      <td>77305 Palmer Valleys Suite 424\\nJennifertown, ...</td>\n",
       "      <td>Black</td>\n",
       "      <td>Elaine Elliott</td>\n",
       "      <td>F</td>\n",
       "    </tr>\n",
       "    <tr>\n",
       "      <th>3</th>\n",
       "      <td>3</td>\n",
       "      <td>Publishing rights manager</td>\n",
       "      <td>847 Taylor Court Apt. 547\\nGutierrezfort, SD 1...</td>\n",
       "      <td>O+</td>\n",
       "      <td>767-13-0171</td>\n",
       "      <td>1978/11/14</td>\n",
       "      <td>62021 Schwartz Roads\\nJaimeville, SD 64413</td>\n",
       "      <td>Black</td>\n",
       "      <td>Richard Anderson</td>\n",
       "      <td>M</td>\n",
       "    </tr>\n",
       "    <tr>\n",
       "      <th>4</th>\n",
       "      <td>4</td>\n",
       "      <td>Medical sales representative</td>\n",
       "      <td>83815 Richard Causeway Suite 275\\nLemouth, WV ...</td>\n",
       "      <td>B+</td>\n",
       "      <td>412-57-1910</td>\n",
       "      <td>03/14/1995, 00:00:00</td>\n",
       "      <td>Unit 4872 Box 1158\\nDPO AA 51410</td>\n",
       "      <td>white</td>\n",
       "      <td>Jennifer Bass</td>\n",
       "      <td>F</td>\n",
       "    </tr>\n",
       "  </tbody>\n",
       "</table>\n",
       "</div>"
      ],
      "text/plain": [
       "   Unnamed: 0                           job  \\\n",
       "0           0                Quarry manager   \n",
       "1           1        Financial risk analyst   \n",
       "2           2      Waste management officer   \n",
       "3           3     Publishing rights manager   \n",
       "4           4  Medical sales representative   \n",
       "\n",
       "                                             address blood_group          ssn  \\\n",
       "0           6269 Kelsey Cove\\nJessicahaven, KY 76299          B+  818-49-6074   \n",
       "1  72241 Luna Divide Suite 877\\nMelindachester, I...          B+  617-52-9894   \n",
       "2          6554 Nicole Lodge\\nNorth Tanner, PA 59584          B+  690-88-6942   \n",
       "3  847 Taylor Court Apt. 547\\nGutierrezfort, SD 1...          O+  767-13-0171   \n",
       "4  83815 Richard Causeway Suite 275\\nLemouth, WV ...          B+  412-57-1910   \n",
       "\n",
       "              birthdate                                          residence  \\\n",
       "0            1925-12-31  30070 Anderson Branch Suite 371\\nHoffmanberg, ...   \n",
       "1  03/21/1912, 00:00:00  61551 Williams Shoal Apt. 506\\nLunaborough, VA...   \n",
       "2            1960-11-19  77305 Palmer Valleys Suite 424\\nJennifertown, ...   \n",
       "3            1978/11/14         62021 Schwartz Roads\\nJaimeville, SD 64413   \n",
       "4  03/14/1995, 00:00:00                   Unit 4872 Box 1158\\nDPO AA 51410   \n",
       "\n",
       "    race                  name sex  \n",
       "0  White      Kimberly Frazier   F  \n",
       "1  Black  Timothy Gutierrez MD   M  \n",
       "2  Black        Elaine Elliott   F  \n",
       "3  Black      Richard Anderson   M  \n",
       "4  white         Jennifer Bass   F  "
      ]
     },
     "execution_count": 11,
     "metadata": {},
     "output_type": "execute_result"
    }
   ],
   "source": [
    "dfp.head()"
   ]
  },
  {
   "cell_type": "markdown",
   "id": "0ad5cbf0",
   "metadata": {},
   "source": [
    "Ako prvý problém vidíme nepotrebný index stĺpec s názvom \"Unnamed: 0\", ktorý môžme odstrániť."
   ]
  },
  {
   "cell_type": "code",
   "execution_count": 12,
   "id": "54f56a67",
   "metadata": {},
   "outputs": [
    {
     "data": {
      "text/html": [
       "<div>\n",
       "<style scoped>\n",
       "    .dataframe tbody tr th:only-of-type {\n",
       "        vertical-align: middle;\n",
       "    }\n",
       "\n",
       "    .dataframe tbody tr th {\n",
       "        vertical-align: top;\n",
       "    }\n",
       "\n",
       "    .dataframe thead th {\n",
       "        text-align: right;\n",
       "    }\n",
       "</style>\n",
       "<table border=\"1\" class=\"dataframe\">\n",
       "  <thead>\n",
       "    <tr style=\"text-align: right;\">\n",
       "      <th></th>\n",
       "      <th>job</th>\n",
       "      <th>address</th>\n",
       "      <th>blood_group</th>\n",
       "      <th>ssn</th>\n",
       "      <th>birthdate</th>\n",
       "      <th>residence</th>\n",
       "      <th>race</th>\n",
       "      <th>name</th>\n",
       "      <th>sex</th>\n",
       "    </tr>\n",
       "  </thead>\n",
       "  <tbody>\n",
       "    <tr>\n",
       "      <th>0</th>\n",
       "      <td>Quarry manager</td>\n",
       "      <td>6269 Kelsey Cove\\nJessicahaven, KY 76299</td>\n",
       "      <td>B+</td>\n",
       "      <td>818-49-6074</td>\n",
       "      <td>1925-12-31</td>\n",
       "      <td>30070 Anderson Branch Suite 371\\nHoffmanberg, ...</td>\n",
       "      <td>White</td>\n",
       "      <td>Kimberly Frazier</td>\n",
       "      <td>F</td>\n",
       "    </tr>\n",
       "    <tr>\n",
       "      <th>1</th>\n",
       "      <td>Financial risk analyst</td>\n",
       "      <td>72241 Luna Divide Suite 877\\nMelindachester, I...</td>\n",
       "      <td>B+</td>\n",
       "      <td>617-52-9894</td>\n",
       "      <td>03/21/1912, 00:00:00</td>\n",
       "      <td>61551 Williams Shoal Apt. 506\\nLunaborough, VA...</td>\n",
       "      <td>Black</td>\n",
       "      <td>Timothy Gutierrez MD</td>\n",
       "      <td>M</td>\n",
       "    </tr>\n",
       "    <tr>\n",
       "      <th>2</th>\n",
       "      <td>Waste management officer</td>\n",
       "      <td>6554 Nicole Lodge\\nNorth Tanner, PA 59584</td>\n",
       "      <td>B+</td>\n",
       "      <td>690-88-6942</td>\n",
       "      <td>1960-11-19</td>\n",
       "      <td>77305 Palmer Valleys Suite 424\\nJennifertown, ...</td>\n",
       "      <td>Black</td>\n",
       "      <td>Elaine Elliott</td>\n",
       "      <td>F</td>\n",
       "    </tr>\n",
       "    <tr>\n",
       "      <th>3</th>\n",
       "      <td>Publishing rights manager</td>\n",
       "      <td>847 Taylor Court Apt. 547\\nGutierrezfort, SD 1...</td>\n",
       "      <td>O+</td>\n",
       "      <td>767-13-0171</td>\n",
       "      <td>1978/11/14</td>\n",
       "      <td>62021 Schwartz Roads\\nJaimeville, SD 64413</td>\n",
       "      <td>Black</td>\n",
       "      <td>Richard Anderson</td>\n",
       "      <td>M</td>\n",
       "    </tr>\n",
       "    <tr>\n",
       "      <th>4</th>\n",
       "      <td>Medical sales representative</td>\n",
       "      <td>83815 Richard Causeway Suite 275\\nLemouth, WV ...</td>\n",
       "      <td>B+</td>\n",
       "      <td>412-57-1910</td>\n",
       "      <td>03/14/1995, 00:00:00</td>\n",
       "      <td>Unit 4872 Box 1158\\nDPO AA 51410</td>\n",
       "      <td>white</td>\n",
       "      <td>Jennifer Bass</td>\n",
       "      <td>F</td>\n",
       "    </tr>\n",
       "  </tbody>\n",
       "</table>\n",
       "</div>"
      ],
      "text/plain": [
       "                            job  \\\n",
       "0                Quarry manager   \n",
       "1        Financial risk analyst   \n",
       "2      Waste management officer   \n",
       "3     Publishing rights manager   \n",
       "4  Medical sales representative   \n",
       "\n",
       "                                             address blood_group          ssn  \\\n",
       "0           6269 Kelsey Cove\\nJessicahaven, KY 76299          B+  818-49-6074   \n",
       "1  72241 Luna Divide Suite 877\\nMelindachester, I...          B+  617-52-9894   \n",
       "2          6554 Nicole Lodge\\nNorth Tanner, PA 59584          B+  690-88-6942   \n",
       "3  847 Taylor Court Apt. 547\\nGutierrezfort, SD 1...          O+  767-13-0171   \n",
       "4  83815 Richard Causeway Suite 275\\nLemouth, WV ...          B+  412-57-1910   \n",
       "\n",
       "              birthdate                                          residence  \\\n",
       "0            1925-12-31  30070 Anderson Branch Suite 371\\nHoffmanberg, ...   \n",
       "1  03/21/1912, 00:00:00  61551 Williams Shoal Apt. 506\\nLunaborough, VA...   \n",
       "2            1960-11-19  77305 Palmer Valleys Suite 424\\nJennifertown, ...   \n",
       "3            1978/11/14         62021 Schwartz Roads\\nJaimeville, SD 64413   \n",
       "4  03/14/1995, 00:00:00                   Unit 4872 Box 1158\\nDPO AA 51410   \n",
       "\n",
       "    race                  name sex  \n",
       "0  White      Kimberly Frazier   F  \n",
       "1  Black  Timothy Gutierrez MD   M  \n",
       "2  Black        Elaine Elliott   F  \n",
       "3  Black      Richard Anderson   M  \n",
       "4  white         Jennifer Bass   F  "
      ]
     },
     "execution_count": 12,
     "metadata": {},
     "output_type": "execute_result"
    }
   ],
   "source": [
    "dfp.drop('Unnamed: 0', axis=1, inplace=True)\n",
    "dfp.head()"
   ]
  },
  {
   "cell_type": "markdown",
   "id": "0d122f35",
   "metadata": {},
   "source": [
    "Ďalší problém dát je nejednotný formát hodnôt v stĺpci \"race\":"
   ]
  },
  {
   "cell_type": "code",
   "execution_count": 13,
   "id": "6ee5dd47",
   "metadata": {},
   "outputs": [
    {
     "data": {
      "text/plain": [
       "array(['White', 'Black', 'white', 'Hawaiian', 'Asian', 'black', 'Indian',\n",
       "       'blsck'], dtype=object)"
      ]
     },
     "execution_count": 13,
     "metadata": {},
     "output_type": "execute_result"
    }
   ],
   "source": [
    "dfp.race.unique()"
   ]
  },
  {
   "cell_type": "markdown",
   "id": "b7565761",
   "metadata": {},
   "source": [
    "Po úprave sú hodnoty v konzistentnom formáte."
   ]
  },
  {
   "cell_type": "code",
   "execution_count": 14,
   "id": "5287270f",
   "metadata": {},
   "outputs": [
    {
     "data": {
      "text/plain": [
       "array(['White', 'Black', 'Hawaiian', 'Asian', 'Indian'], dtype=object)"
      ]
     },
     "execution_count": 14,
     "metadata": {},
     "output_type": "execute_result"
    }
   ],
   "source": [
    "dfp['race'] = dfp['race'].str.replace('white','White')\n",
    "dfp['race'] = dfp['race'].str.replace('black','Black')\n",
    "dfp['race'] = dfp['race'].str.replace('blsck','Black')\n",
    "dfp.race.unique()"
   ]
  },
  {
   "cell_type": "code",
   "execution_count": 15,
   "id": "2047a795",
   "metadata": {},
   "outputs": [
    {
     "data": {
      "text/plain": [
       "blood_group  sex\n",
       "A+           F      200\n",
       "             M      206\n",
       "A-           F      186\n",
       "             M      186\n",
       "AB+          F      209\n",
       "             M      184\n",
       "AB-          F      175\n",
       "             M      206\n",
       "B+           F      203\n",
       "             M      176\n",
       "B-           F      188\n",
       "             M      173\n",
       "O+           F      204\n",
       "             M      208\n",
       "O-           F      198\n",
       "             M      180\n",
       "dtype: int64"
      ]
     },
     "execution_count": 15,
     "metadata": {},
     "output_type": "execute_result"
    }
   ],
   "source": [
    "dfp.groupby(['blood_group', 'sex']).size()        ## snudi pokus"
   ]
  },
  {
   "cell_type": "markdown",
   "id": "68310f6c",
   "metadata": {},
   "source": [
    "Ako ďalší problém si môžeme všimnúť rôzne formáty dátumov v stĺpci \"birthdate\". Tieto dátumy preto upravíme na jednotný formát yy-mm-dd."
   ]
  },
  {
   "cell_type": "code",
   "execution_count": 16,
   "id": "22baa9c5",
   "metadata": {},
   "outputs": [
    {
     "data": {
      "text/html": [
       "<div>\n",
       "<style scoped>\n",
       "    .dataframe tbody tr th:only-of-type {\n",
       "        vertical-align: middle;\n",
       "    }\n",
       "\n",
       "    .dataframe tbody tr th {\n",
       "        vertical-align: top;\n",
       "    }\n",
       "\n",
       "    .dataframe thead th {\n",
       "        text-align: right;\n",
       "    }\n",
       "</style>\n",
       "<table border=\"1\" class=\"dataframe\">\n",
       "  <thead>\n",
       "    <tr style=\"text-align: right;\">\n",
       "      <th></th>\n",
       "      <th>job</th>\n",
       "      <th>address</th>\n",
       "      <th>blood_group</th>\n",
       "      <th>ssn</th>\n",
       "      <th>birthdate</th>\n",
       "      <th>residence</th>\n",
       "      <th>race</th>\n",
       "      <th>name</th>\n",
       "      <th>sex</th>\n",
       "    </tr>\n",
       "  </thead>\n",
       "  <tbody>\n",
       "    <tr>\n",
       "      <th>0</th>\n",
       "      <td>Quarry manager</td>\n",
       "      <td>6269 Kelsey Cove\\nJessicahaven, KY 76299</td>\n",
       "      <td>B+</td>\n",
       "      <td>818-49-6074</td>\n",
       "      <td>1925-12-31</td>\n",
       "      <td>30070 Anderson Branch Suite 371\\nHoffmanberg, ...</td>\n",
       "      <td>White</td>\n",
       "      <td>Kimberly Frazier</td>\n",
       "      <td>F</td>\n",
       "    </tr>\n",
       "    <tr>\n",
       "      <th>1</th>\n",
       "      <td>Financial risk analyst</td>\n",
       "      <td>72241 Luna Divide Suite 877\\nMelindachester, I...</td>\n",
       "      <td>B+</td>\n",
       "      <td>617-52-9894</td>\n",
       "      <td>1912-03-21</td>\n",
       "      <td>61551 Williams Shoal Apt. 506\\nLunaborough, VA...</td>\n",
       "      <td>Black</td>\n",
       "      <td>Timothy Gutierrez MD</td>\n",
       "      <td>M</td>\n",
       "    </tr>\n",
       "    <tr>\n",
       "      <th>2</th>\n",
       "      <td>Waste management officer</td>\n",
       "      <td>6554 Nicole Lodge\\nNorth Tanner, PA 59584</td>\n",
       "      <td>B+</td>\n",
       "      <td>690-88-6942</td>\n",
       "      <td>1960-11-19</td>\n",
       "      <td>77305 Palmer Valleys Suite 424\\nJennifertown, ...</td>\n",
       "      <td>Black</td>\n",
       "      <td>Elaine Elliott</td>\n",
       "      <td>F</td>\n",
       "    </tr>\n",
       "    <tr>\n",
       "      <th>3</th>\n",
       "      <td>Publishing rights manager</td>\n",
       "      <td>847 Taylor Court Apt. 547\\nGutierrezfort, SD 1...</td>\n",
       "      <td>O+</td>\n",
       "      <td>767-13-0171</td>\n",
       "      <td>1978-11-14</td>\n",
       "      <td>62021 Schwartz Roads\\nJaimeville, SD 64413</td>\n",
       "      <td>Black</td>\n",
       "      <td>Richard Anderson</td>\n",
       "      <td>M</td>\n",
       "    </tr>\n",
       "    <tr>\n",
       "      <th>4</th>\n",
       "      <td>Medical sales representative</td>\n",
       "      <td>83815 Richard Causeway Suite 275\\nLemouth, WV ...</td>\n",
       "      <td>B+</td>\n",
       "      <td>412-57-1910</td>\n",
       "      <td>1995-03-14</td>\n",
       "      <td>Unit 4872 Box 1158\\nDPO AA 51410</td>\n",
       "      <td>White</td>\n",
       "      <td>Jennifer Bass</td>\n",
       "      <td>F</td>\n",
       "    </tr>\n",
       "  </tbody>\n",
       "</table>\n",
       "</div>"
      ],
      "text/plain": [
       "                            job  \\\n",
       "0                Quarry manager   \n",
       "1        Financial risk analyst   \n",
       "2      Waste management officer   \n",
       "3     Publishing rights manager   \n",
       "4  Medical sales representative   \n",
       "\n",
       "                                             address blood_group          ssn  \\\n",
       "0           6269 Kelsey Cove\\nJessicahaven, KY 76299          B+  818-49-6074   \n",
       "1  72241 Luna Divide Suite 877\\nMelindachester, I...          B+  617-52-9894   \n",
       "2          6554 Nicole Lodge\\nNorth Tanner, PA 59584          B+  690-88-6942   \n",
       "3  847 Taylor Court Apt. 547\\nGutierrezfort, SD 1...          O+  767-13-0171   \n",
       "4  83815 Richard Causeway Suite 275\\nLemouth, WV ...          B+  412-57-1910   \n",
       "\n",
       "    birthdate                                          residence   race  \\\n",
       "0  1925-12-31  30070 Anderson Branch Suite 371\\nHoffmanberg, ...  White   \n",
       "1  1912-03-21  61551 Williams Shoal Apt. 506\\nLunaborough, VA...  Black   \n",
       "2  1960-11-19  77305 Palmer Valleys Suite 424\\nJennifertown, ...  Black   \n",
       "3  1978-11-14         62021 Schwartz Roads\\nJaimeville, SD 64413  Black   \n",
       "4  1995-03-14                   Unit 4872 Box 1158\\nDPO AA 51410  White   \n",
       "\n",
       "                   name sex  \n",
       "0      Kimberly Frazier   F  \n",
       "1  Timothy Gutierrez MD   M  \n",
       "2        Elaine Elliott   F  \n",
       "3      Richard Anderson   M  \n",
       "4         Jennifer Bass   F  "
      ]
     },
     "execution_count": 16,
     "metadata": {},
     "output_type": "execute_result"
    }
   ],
   "source": [
    "dfp['birthdate'] = pd.to_datetime(dfp.birthdate)\n",
    "\n",
    "dfp['birthdate'] = dfp['birthdate'].dt.strftime('%Y-%m-%d')\n",
    "dfp.head()"
   ]
  },
  {
   "cell_type": "code",
   "execution_count": 17,
   "id": "fc40bbcb",
   "metadata": {},
   "outputs": [
    {
     "data": {
      "text/html": [
       "<div>\n",
       "<style scoped>\n",
       "    .dataframe tbody tr th:only-of-type {\n",
       "        vertical-align: middle;\n",
       "    }\n",
       "\n",
       "    .dataframe tbody tr th {\n",
       "        vertical-align: top;\n",
       "    }\n",
       "\n",
       "    .dataframe thead th {\n",
       "        text-align: right;\n",
       "    }\n",
       "</style>\n",
       "<table border=\"1\" class=\"dataframe\">\n",
       "  <thead>\n",
       "    <tr style=\"text-align: right;\">\n",
       "      <th></th>\n",
       "      <th>job</th>\n",
       "      <th>address</th>\n",
       "      <th>blood_group</th>\n",
       "      <th>ssn</th>\n",
       "      <th>birthdate</th>\n",
       "      <th>residence</th>\n",
       "      <th>race</th>\n",
       "      <th>name</th>\n",
       "      <th>sex</th>\n",
       "    </tr>\n",
       "  </thead>\n",
       "  <tbody>\n",
       "    <tr>\n",
       "      <th>1264</th>\n",
       "      <td>IT sales professional</td>\n",
       "      <td>551 Amanda Summit\\nPatriciaview, KY 88790</td>\n",
       "      <td>A-</td>\n",
       "      <td>157-32-2908</td>\n",
       "      <td>2014-05-21</td>\n",
       "      <td>21843 Jessica Valleys Suite 909\\nLake Krystal,...</td>\n",
       "      <td>Asian</td>\n",
       "      <td>Charles Chavez</td>\n",
       "      <td>M</td>\n",
       "    </tr>\n",
       "  </tbody>\n",
       "</table>\n",
       "</div>"
      ],
      "text/plain": [
       "                        job                                    address  \\\n",
       "1264  IT sales professional  551 Amanda Summit\\nPatriciaview, KY 88790   \n",
       "\n",
       "     blood_group          ssn   birthdate  \\\n",
       "1264          A-  157-32-2908  2014-05-21   \n",
       "\n",
       "                                              residence   race  \\\n",
       "1264  21843 Jessica Valleys Suite 909\\nLake Krystal,...  Asian   \n",
       "\n",
       "                name sex  \n",
       "1264  Charles Chavez   M  "
      ]
     },
     "execution_count": 17,
     "metadata": {},
     "output_type": "execute_result"
    }
   ],
   "source": [
    "dfp[dfp['ssn'] == '157-32-2908']"
   ]
  },
  {
   "cell_type": "markdown",
   "id": "9cd309ac",
   "metadata": {},
   "source": [
    "## Labor"
   ]
  },
  {
   "cell_type": "code",
   "execution_count": 18,
   "id": "24e5254a",
   "metadata": {},
   "outputs": [
    {
     "data": {
      "text/html": [
       "<div>\n",
       "<style scoped>\n",
       "    .dataframe tbody tr th:only-of-type {\n",
       "        vertical-align: middle;\n",
       "    }\n",
       "\n",
       "    .dataframe tbody tr th {\n",
       "        vertical-align: top;\n",
       "    }\n",
       "\n",
       "    .dataframe thead th {\n",
       "        text-align: right;\n",
       "    }\n",
       "</style>\n",
       "<table border=\"1\" class=\"dataframe\">\n",
       "  <thead>\n",
       "    <tr style=\"text-align: right;\">\n",
       "      <th></th>\n",
       "      <th>Unnamed: 0</th>\n",
       "      <th>leukocyty</th>\n",
       "      <th>ssn</th>\n",
       "      <th>name</th>\n",
       "      <th>smoker</th>\n",
       "      <th>hemoglobin</th>\n",
       "      <th>trombocyty</th>\n",
       "      <th>indicator</th>\n",
       "      <th>alt</th>\n",
       "      <th>relationship</th>\n",
       "      <th>weight</th>\n",
       "      <th>ast</th>\n",
       "      <th>alp</th>\n",
       "      <th>hematokrit</th>\n",
       "      <th>hbver</th>\n",
       "      <th>etytr</th>\n",
       "      <th>er-cv</th>\n",
       "      <th>erytrocyty</th>\n",
       "    </tr>\n",
       "  </thead>\n",
       "  <tbody>\n",
       "    <tr>\n",
       "      <th>0</th>\n",
       "      <td>0</td>\n",
       "      <td>5.90289</td>\n",
       "      <td>513-95-7625</td>\n",
       "      <td>Andrew Jacobs</td>\n",
       "      <td>no</td>\n",
       "      <td>7.54279</td>\n",
       "      <td>5.83096</td>\n",
       "      <td>1.0</td>\n",
       "      <td>17.60670</td>\n",
       "      <td>widowed</td>\n",
       "      <td>8.09544</td>\n",
       "      <td>42.92870</td>\n",
       "      <td>60.77098</td>\n",
       "      <td>6.50802</td>\n",
       "      <td>5.54259</td>\n",
       "      <td>6.57020</td>\n",
       "      <td>47.78400</td>\n",
       "      <td>5.46395</td>\n",
       "    </tr>\n",
       "    <tr>\n",
       "      <th>1</th>\n",
       "      <td>1</td>\n",
       "      <td>5.56403</td>\n",
       "      <td>025-71-2115</td>\n",
       "      <td>Ian Harrison</td>\n",
       "      <td>Y</td>\n",
       "      <td>7.87747</td>\n",
       "      <td>NaN</td>\n",
       "      <td>1.0</td>\n",
       "      <td>17.78037</td>\n",
       "      <td>single</td>\n",
       "      <td>73.58725</td>\n",
       "      <td>50.25507</td>\n",
       "      <td>47.14780</td>\n",
       "      <td>3.49169</td>\n",
       "      <td>3.52227</td>\n",
       "      <td>4.82276</td>\n",
       "      <td>55.62479</td>\n",
       "      <td>5.37924</td>\n",
       "    </tr>\n",
       "    <tr>\n",
       "      <th>2</th>\n",
       "      <td>2</td>\n",
       "      <td>6.24057</td>\n",
       "      <td>824-63-0108</td>\n",
       "      <td>Matthew Williams</td>\n",
       "      <td>no</td>\n",
       "      <td>4.72650</td>\n",
       "      <td>7.83234</td>\n",
       "      <td>1.0</td>\n",
       "      <td>25.25152</td>\n",
       "      <td>single</td>\n",
       "      <td>129.45079</td>\n",
       "      <td>25.15943</td>\n",
       "      <td>48.53570</td>\n",
       "      <td>8.65913</td>\n",
       "      <td>8.25976</td>\n",
       "      <td>5.64422</td>\n",
       "      <td>48.44629</td>\n",
       "      <td>6.52365</td>\n",
       "    </tr>\n",
       "    <tr>\n",
       "      <th>3</th>\n",
       "      <td>3</td>\n",
       "      <td>5.48374</td>\n",
       "      <td>157-32-2908</td>\n",
       "      <td>Charles Chavez</td>\n",
       "      <td>no</td>\n",
       "      <td>5.43079</td>\n",
       "      <td>5.36911</td>\n",
       "      <td>1.0</td>\n",
       "      <td>18.32802</td>\n",
       "      <td>divoced</td>\n",
       "      <td>18.61698</td>\n",
       "      <td>45.02094</td>\n",
       "      <td>73.77687</td>\n",
       "      <td>9.30190</td>\n",
       "      <td>6.26535</td>\n",
       "      <td>6.23014</td>\n",
       "      <td>50.48872</td>\n",
       "      <td>4.33766</td>\n",
       "    </tr>\n",
       "    <tr>\n",
       "      <th>4</th>\n",
       "      <td>4</td>\n",
       "      <td>6.04784</td>\n",
       "      <td>545-96-1267</td>\n",
       "      <td>Allen Chung MD</td>\n",
       "      <td>yes</td>\n",
       "      <td>8.85943</td>\n",
       "      <td>6.76682</td>\n",
       "      <td>1.0</td>\n",
       "      <td>11.03841</td>\n",
       "      <td>divoced</td>\n",
       "      <td>78.83355</td>\n",
       "      <td>59.06392</td>\n",
       "      <td>17.65112</td>\n",
       "      <td>4.47835</td>\n",
       "      <td>2.28488</td>\n",
       "      <td>7.83874</td>\n",
       "      <td>38.74892</td>\n",
       "      <td>5.17704</td>\n",
       "    </tr>\n",
       "  </tbody>\n",
       "</table>\n",
       "</div>"
      ],
      "text/plain": [
       "   Unnamed: 0  leukocyty          ssn              name smoker  hemoglobin  \\\n",
       "0           0    5.90289  513-95-7625     Andrew Jacobs     no     7.54279   \n",
       "1           1    5.56403  025-71-2115      Ian Harrison      Y     7.87747   \n",
       "2           2    6.24057  824-63-0108  Matthew Williams     no     4.72650   \n",
       "3           3    5.48374  157-32-2908    Charles Chavez     no     5.43079   \n",
       "4           4    6.04784  545-96-1267    Allen Chung MD    yes     8.85943   \n",
       "\n",
       "   trombocyty  indicator       alt relationship     weight       ast  \\\n",
       "0     5.83096        1.0  17.60670      widowed    8.09544  42.92870   \n",
       "1         NaN        1.0  17.78037       single   73.58725  50.25507   \n",
       "2     7.83234        1.0  25.25152       single  129.45079  25.15943   \n",
       "3     5.36911        1.0  18.32802      divoced   18.61698  45.02094   \n",
       "4     6.76682        1.0  11.03841      divoced   78.83355  59.06392   \n",
       "\n",
       "        alp  hematokrit    hbver    etytr     er-cv  erytrocyty  \n",
       "0  60.77098     6.50802  5.54259  6.57020  47.78400     5.46395  \n",
       "1  47.14780     3.49169  3.52227  4.82276  55.62479     5.37924  \n",
       "2  48.53570     8.65913  8.25976  5.64422  48.44629     6.52365  \n",
       "3  73.77687     9.30190  6.26535  6.23014  50.48872     4.33766  \n",
       "4  17.65112     4.47835  2.28488  7.83874  38.74892     5.17704  "
      ]
     },
     "execution_count": 18,
     "metadata": {},
     "output_type": "execute_result"
    }
   ],
   "source": [
    "filename_l = \"data/labor.csv\"\n",
    "dfl = pd.read_csv(filename_l, sep='\\t')\n",
    "dfl.head()"
   ]
  },
  {
   "cell_type": "markdown",
   "id": "10b7d077",
   "metadata": {},
   "source": [
    "Počet záznamov:"
   ]
  },
  {
   "cell_type": "code",
   "execution_count": 19,
   "id": "e431e161",
   "metadata": {
    "scrolled": true
   },
   "outputs": [
    {
     "data": {
      "text/plain": [
       "10017"
      ]
     },
     "execution_count": 19,
     "metadata": {},
     "output_type": "execute_result"
    }
   ],
   "source": [
    "len(dfl)"
   ]
  },
  {
   "cell_type": "markdown",
   "id": "d23fa04d",
   "metadata": {},
   "source": [
    "Počet atribútov:"
   ]
  },
  {
   "cell_type": "code",
   "execution_count": 20,
   "id": "593862dd",
   "metadata": {},
   "outputs": [
    {
     "data": {
      "text/plain": [
       "18"
      ]
     },
     "execution_count": 20,
     "metadata": {},
     "output_type": "execute_result"
    }
   ],
   "source": [
    "len(dfl.columns.values)"
   ]
  },
  {
   "cell_type": "markdown",
   "id": "c344c2e1",
   "metadata": {},
   "source": [
    "Jednotlivé atribúty a ich typy:"
   ]
  },
  {
   "cell_type": "code",
   "execution_count": 21,
   "id": "842a7cd2",
   "metadata": {},
   "outputs": [
    {
     "data": {
      "text/plain": [
       "Unnamed: 0        int64\n",
       "leukocyty       float64\n",
       "ssn              object\n",
       "name             object\n",
       "smoker           object\n",
       "hemoglobin      float64\n",
       "trombocyty      float64\n",
       "indicator       float64\n",
       "alt             float64\n",
       "relationship     object\n",
       "weight          float64\n",
       "ast             float64\n",
       "alp             float64\n",
       "hematokrit      float64\n",
       "hbver           float64\n",
       "etytr           float64\n",
       "er-cv           float64\n",
       "erytrocyty      float64\n",
       "dtype: object"
      ]
     },
     "execution_count": 21,
     "metadata": {},
     "output_type": "execute_result"
    }
   ],
   "source": [
    "dfl.dtypes"
   ]
  },
  {
   "cell_type": "code",
   "execution_count": 22,
   "id": "5a7c50c7",
   "metadata": {},
   "outputs": [
    {
     "data": {
      "text/html": [
       "<div>\n",
       "<style scoped>\n",
       "    .dataframe tbody tr th:only-of-type {\n",
       "        vertical-align: middle;\n",
       "    }\n",
       "\n",
       "    .dataframe tbody tr th {\n",
       "        vertical-align: top;\n",
       "    }\n",
       "\n",
       "    .dataframe thead th {\n",
       "        text-align: right;\n",
       "    }\n",
       "</style>\n",
       "<table border=\"1\" class=\"dataframe\">\n",
       "  <thead>\n",
       "    <tr style=\"text-align: right;\">\n",
       "      <th></th>\n",
       "      <th>weight</th>\n",
       "      <th>leukocyty</th>\n",
       "      <th>hemoglobin</th>\n",
       "      <th>trombocyty</th>\n",
       "      <th>alt</th>\n",
       "      <th>ast</th>\n",
       "      <th>alp</th>\n",
       "      <th>hematokrit</th>\n",
       "      <th>hbver</th>\n",
       "      <th>etytr</th>\n",
       "      <th>er-cv</th>\n",
       "      <th>erytrocyty</th>\n",
       "    </tr>\n",
       "  </thead>\n",
       "  <tbody>\n",
       "    <tr>\n",
       "      <th>count</th>\n",
       "      <td>10017.000000</td>\n",
       "      <td>9986.000000</td>\n",
       "      <td>9985.000000</td>\n",
       "      <td>9987.000000</td>\n",
       "      <td>9987.000000</td>\n",
       "      <td>9987.000000</td>\n",
       "      <td>9987.000000</td>\n",
       "      <td>9987.000000</td>\n",
       "      <td>9987.000000</td>\n",
       "      <td>9987.000000</td>\n",
       "      <td>9987.000000</td>\n",
       "      <td>9987.000000</td>\n",
       "    </tr>\n",
       "    <tr>\n",
       "      <th>mean</th>\n",
       "      <td>70.699780</td>\n",
       "      <td>5.963060</td>\n",
       "      <td>6.735597</td>\n",
       "      <td>5.994497</td>\n",
       "      <td>15.191684</td>\n",
       "      <td>47.562467</td>\n",
       "      <td>57.371055</td>\n",
       "      <td>6.379837</td>\n",
       "      <td>5.971022</td>\n",
       "      <td>5.951793</td>\n",
       "      <td>47.399357</td>\n",
       "      <td>4.769255</td>\n",
       "    </tr>\n",
       "    <tr>\n",
       "      <th>std</th>\n",
       "      <td>35.166726</td>\n",
       "      <td>0.997483</td>\n",
       "      <td>1.620583</td>\n",
       "      <td>0.993750</td>\n",
       "      <td>5.190542</td>\n",
       "      <td>13.140353</td>\n",
       "      <td>25.139268</td>\n",
       "      <td>1.593761</td>\n",
       "      <td>1.558637</td>\n",
       "      <td>1.000377</td>\n",
       "      <td>13.259917</td>\n",
       "      <td>1.167590</td>\n",
       "    </tr>\n",
       "    <tr>\n",
       "      <th>min</th>\n",
       "      <td>-50.180020</td>\n",
       "      <td>2.039120</td>\n",
       "      <td>0.000000</td>\n",
       "      <td>2.114710</td>\n",
       "      <td>0.000000</td>\n",
       "      <td>0.000000</td>\n",
       "      <td>0.000000</td>\n",
       "      <td>1.806100</td>\n",
       "      <td>0.856730</td>\n",
       "      <td>2.354060</td>\n",
       "      <td>0.000000</td>\n",
       "      <td>0.328770</td>\n",
       "    </tr>\n",
       "    <tr>\n",
       "      <th>25%</th>\n",
       "      <td>46.826400</td>\n",
       "      <td>5.306335</td>\n",
       "      <td>5.695290</td>\n",
       "      <td>5.319635</td>\n",
       "      <td>12.107925</td>\n",
       "      <td>38.774135</td>\n",
       "      <td>35.528960</td>\n",
       "      <td>5.162530</td>\n",
       "      <td>4.772950</td>\n",
       "      <td>5.292020</td>\n",
       "      <td>38.315135</td>\n",
       "      <td>3.995755</td>\n",
       "    </tr>\n",
       "    <tr>\n",
       "      <th>50%</th>\n",
       "      <td>70.883910</td>\n",
       "      <td>5.963415</td>\n",
       "      <td>6.836120</td>\n",
       "      <td>5.999860</td>\n",
       "      <td>14.830500</td>\n",
       "      <td>47.549220</td>\n",
       "      <td>63.298140</td>\n",
       "      <td>6.447480</td>\n",
       "      <td>6.099970</td>\n",
       "      <td>5.950340</td>\n",
       "      <td>47.364550</td>\n",
       "      <td>4.773670</td>\n",
       "    </tr>\n",
       "    <tr>\n",
       "      <th>75%</th>\n",
       "      <td>94.517900</td>\n",
       "      <td>6.633057</td>\n",
       "      <td>7.864160</td>\n",
       "      <td>6.657495</td>\n",
       "      <td>17.722370</td>\n",
       "      <td>56.475380</td>\n",
       "      <td>80.094585</td>\n",
       "      <td>7.563310</td>\n",
       "      <td>7.198765</td>\n",
       "      <td>6.629740</td>\n",
       "      <td>56.335105</td>\n",
       "      <td>5.545965</td>\n",
       "    </tr>\n",
       "    <tr>\n",
       "      <th>max</th>\n",
       "      <td>204.381010</td>\n",
       "      <td>9.544190</td>\n",
       "      <td>12.483130</td>\n",
       "      <td>9.560170</td>\n",
       "      <td>100.000000</td>\n",
       "      <td>100.000000</td>\n",
       "      <td>100.000000</td>\n",
       "      <td>11.428950</td>\n",
       "      <td>10.601830</td>\n",
       "      <td>9.556660</td>\n",
       "      <td>100.000000</td>\n",
       "      <td>9.363550</td>\n",
       "    </tr>\n",
       "  </tbody>\n",
       "</table>\n",
       "</div>"
      ],
      "text/plain": [
       "             weight    leukocyty   hemoglobin   trombocyty          alt  \\\n",
       "count  10017.000000  9986.000000  9985.000000  9987.000000  9987.000000   \n",
       "mean      70.699780     5.963060     6.735597     5.994497    15.191684   \n",
       "std       35.166726     0.997483     1.620583     0.993750     5.190542   \n",
       "min      -50.180020     2.039120     0.000000     2.114710     0.000000   \n",
       "25%       46.826400     5.306335     5.695290     5.319635    12.107925   \n",
       "50%       70.883910     5.963415     6.836120     5.999860    14.830500   \n",
       "75%       94.517900     6.633057     7.864160     6.657495    17.722370   \n",
       "max      204.381010     9.544190    12.483130     9.560170   100.000000   \n",
       "\n",
       "               ast          alp   hematokrit        hbver        etytr  \\\n",
       "count  9987.000000  9987.000000  9987.000000  9987.000000  9987.000000   \n",
       "mean     47.562467    57.371055     6.379837     5.971022     5.951793   \n",
       "std      13.140353    25.139268     1.593761     1.558637     1.000377   \n",
       "min       0.000000     0.000000     1.806100     0.856730     2.354060   \n",
       "25%      38.774135    35.528960     5.162530     4.772950     5.292020   \n",
       "50%      47.549220    63.298140     6.447480     6.099970     5.950340   \n",
       "75%      56.475380    80.094585     7.563310     7.198765     6.629740   \n",
       "max     100.000000   100.000000    11.428950    10.601830     9.556660   \n",
       "\n",
       "             er-cv   erytrocyty  \n",
       "count  9987.000000  9987.000000  \n",
       "mean     47.399357     4.769255  \n",
       "std      13.259917     1.167590  \n",
       "min       0.000000     0.328770  \n",
       "25%      38.315135     3.995755  \n",
       "50%      47.364550     4.773670  \n",
       "75%      56.335105     5.545965  \n",
       "max     100.000000     9.363550  "
      ]
     },
     "execution_count": 22,
     "metadata": {},
     "output_type": "execute_result"
    }
   ],
   "source": [
    "dfl[['weight', 'leukocyty', 'hemoglobin', 'trombocyty', 'alt', 'ast', 'alp', 'hematokrit', 'hbver', 'etytr', \n",
    "     'er-cv', 'erytrocyty']].describe()"
   ]
  },
  {
   "cell_type": "markdown",
   "id": "3e863ceb",
   "metadata": {},
   "source": [
    "Ako prvý problém znova vidíme nepotrebný index stĺpec s názvom \"Unnamed: 0\", ktorý môžeme odstrániť."
   ]
  },
  {
   "cell_type": "code",
   "execution_count": 23,
   "id": "962b3675",
   "metadata": {},
   "outputs": [
    {
     "data": {
      "text/html": [
       "<div>\n",
       "<style scoped>\n",
       "    .dataframe tbody tr th:only-of-type {\n",
       "        vertical-align: middle;\n",
       "    }\n",
       "\n",
       "    .dataframe tbody tr th {\n",
       "        vertical-align: top;\n",
       "    }\n",
       "\n",
       "    .dataframe thead th {\n",
       "        text-align: right;\n",
       "    }\n",
       "</style>\n",
       "<table border=\"1\" class=\"dataframe\">\n",
       "  <thead>\n",
       "    <tr style=\"text-align: right;\">\n",
       "      <th></th>\n",
       "      <th>leukocyty</th>\n",
       "      <th>ssn</th>\n",
       "      <th>name</th>\n",
       "      <th>smoker</th>\n",
       "      <th>hemoglobin</th>\n",
       "      <th>trombocyty</th>\n",
       "      <th>indicator</th>\n",
       "      <th>alt</th>\n",
       "      <th>relationship</th>\n",
       "      <th>weight</th>\n",
       "      <th>ast</th>\n",
       "      <th>alp</th>\n",
       "      <th>hematokrit</th>\n",
       "      <th>hbver</th>\n",
       "      <th>etytr</th>\n",
       "      <th>er-cv</th>\n",
       "      <th>erytrocyty</th>\n",
       "    </tr>\n",
       "  </thead>\n",
       "  <tbody>\n",
       "    <tr>\n",
       "      <th>0</th>\n",
       "      <td>5.90289</td>\n",
       "      <td>513-95-7625</td>\n",
       "      <td>Andrew Jacobs</td>\n",
       "      <td>no</td>\n",
       "      <td>7.54279</td>\n",
       "      <td>5.83096</td>\n",
       "      <td>1.0</td>\n",
       "      <td>17.60670</td>\n",
       "      <td>widowed</td>\n",
       "      <td>8.09544</td>\n",
       "      <td>42.92870</td>\n",
       "      <td>60.77098</td>\n",
       "      <td>6.50802</td>\n",
       "      <td>5.54259</td>\n",
       "      <td>6.57020</td>\n",
       "      <td>47.78400</td>\n",
       "      <td>5.46395</td>\n",
       "    </tr>\n",
       "    <tr>\n",
       "      <th>1</th>\n",
       "      <td>5.56403</td>\n",
       "      <td>025-71-2115</td>\n",
       "      <td>Ian Harrison</td>\n",
       "      <td>Y</td>\n",
       "      <td>7.87747</td>\n",
       "      <td>NaN</td>\n",
       "      <td>1.0</td>\n",
       "      <td>17.78037</td>\n",
       "      <td>single</td>\n",
       "      <td>73.58725</td>\n",
       "      <td>50.25507</td>\n",
       "      <td>47.14780</td>\n",
       "      <td>3.49169</td>\n",
       "      <td>3.52227</td>\n",
       "      <td>4.82276</td>\n",
       "      <td>55.62479</td>\n",
       "      <td>5.37924</td>\n",
       "    </tr>\n",
       "    <tr>\n",
       "      <th>2</th>\n",
       "      <td>6.24057</td>\n",
       "      <td>824-63-0108</td>\n",
       "      <td>Matthew Williams</td>\n",
       "      <td>no</td>\n",
       "      <td>4.72650</td>\n",
       "      <td>7.83234</td>\n",
       "      <td>1.0</td>\n",
       "      <td>25.25152</td>\n",
       "      <td>single</td>\n",
       "      <td>129.45079</td>\n",
       "      <td>25.15943</td>\n",
       "      <td>48.53570</td>\n",
       "      <td>8.65913</td>\n",
       "      <td>8.25976</td>\n",
       "      <td>5.64422</td>\n",
       "      <td>48.44629</td>\n",
       "      <td>6.52365</td>\n",
       "    </tr>\n",
       "    <tr>\n",
       "      <th>3</th>\n",
       "      <td>5.48374</td>\n",
       "      <td>157-32-2908</td>\n",
       "      <td>Charles Chavez</td>\n",
       "      <td>no</td>\n",
       "      <td>5.43079</td>\n",
       "      <td>5.36911</td>\n",
       "      <td>1.0</td>\n",
       "      <td>18.32802</td>\n",
       "      <td>divoced</td>\n",
       "      <td>18.61698</td>\n",
       "      <td>45.02094</td>\n",
       "      <td>73.77687</td>\n",
       "      <td>9.30190</td>\n",
       "      <td>6.26535</td>\n",
       "      <td>6.23014</td>\n",
       "      <td>50.48872</td>\n",
       "      <td>4.33766</td>\n",
       "    </tr>\n",
       "    <tr>\n",
       "      <th>4</th>\n",
       "      <td>6.04784</td>\n",
       "      <td>545-96-1267</td>\n",
       "      <td>Allen Chung MD</td>\n",
       "      <td>yes</td>\n",
       "      <td>8.85943</td>\n",
       "      <td>6.76682</td>\n",
       "      <td>1.0</td>\n",
       "      <td>11.03841</td>\n",
       "      <td>divoced</td>\n",
       "      <td>78.83355</td>\n",
       "      <td>59.06392</td>\n",
       "      <td>17.65112</td>\n",
       "      <td>4.47835</td>\n",
       "      <td>2.28488</td>\n",
       "      <td>7.83874</td>\n",
       "      <td>38.74892</td>\n",
       "      <td>5.17704</td>\n",
       "    </tr>\n",
       "  </tbody>\n",
       "</table>\n",
       "</div>"
      ],
      "text/plain": [
       "   leukocyty          ssn              name smoker  hemoglobin  trombocyty  \\\n",
       "0    5.90289  513-95-7625     Andrew Jacobs     no     7.54279     5.83096   \n",
       "1    5.56403  025-71-2115      Ian Harrison      Y     7.87747         NaN   \n",
       "2    6.24057  824-63-0108  Matthew Williams     no     4.72650     7.83234   \n",
       "3    5.48374  157-32-2908    Charles Chavez     no     5.43079     5.36911   \n",
       "4    6.04784  545-96-1267    Allen Chung MD    yes     8.85943     6.76682   \n",
       "\n",
       "   indicator       alt relationship     weight       ast       alp  \\\n",
       "0        1.0  17.60670      widowed    8.09544  42.92870  60.77098   \n",
       "1        1.0  17.78037       single   73.58725  50.25507  47.14780   \n",
       "2        1.0  25.25152       single  129.45079  25.15943  48.53570   \n",
       "3        1.0  18.32802      divoced   18.61698  45.02094  73.77687   \n",
       "4        1.0  11.03841      divoced   78.83355  59.06392  17.65112   \n",
       "\n",
       "   hematokrit    hbver    etytr     er-cv  erytrocyty  \n",
       "0     6.50802  5.54259  6.57020  47.78400     5.46395  \n",
       "1     3.49169  3.52227  4.82276  55.62479     5.37924  \n",
       "2     8.65913  8.25976  5.64422  48.44629     6.52365  \n",
       "3     9.30190  6.26535  6.23014  50.48872     4.33766  \n",
       "4     4.47835  2.28488  7.83874  38.74892     5.17704  "
      ]
     },
     "execution_count": 23,
     "metadata": {},
     "output_type": "execute_result"
    }
   ],
   "source": [
    "dfl.drop('Unnamed: 0', axis=1, inplace=True)\n",
    "dfl.head()"
   ]
  },
  {
   "cell_type": "code",
   "execution_count": 24,
   "id": "0ba0e430",
   "metadata": {},
   "outputs": [
    {
     "data": {
      "text/plain": [
       "9918"
      ]
     },
     "execution_count": 24,
     "metadata": {},
     "output_type": "execute_result"
    }
   ],
   "source": [
    "len(dfl.drop_duplicates()) ## 99 duplicitnych zaznamov"
   ]
  },
  {
   "cell_type": "code",
   "execution_count": 25,
   "id": "f05bf9ac",
   "metadata": {},
   "outputs": [
    {
     "data": {
      "text/plain": [
       "9918"
      ]
     },
     "execution_count": 25,
     "metadata": {},
     "output_type": "execute_result"
    }
   ],
   "source": [
    "dfl = dfl.drop_duplicates() ## odstranene duplicitne zaznamy\n",
    "len(dfl)"
   ]
  },
  {
   "cell_type": "code",
   "execution_count": 26,
   "id": "42823588",
   "metadata": {},
   "outputs": [
    {
     "data": {
      "text/plain": [
       "<AxesSubplot:>"
      ]
     },
     "execution_count": 26,
     "metadata": {},
     "output_type": "execute_result"
    },
    {
     "data": {
      "image/png": "[encoded data removed]",
      "text/plain": [
       "<Figure size 432x288 with 1 Axes>"
      ]
     },
     "metadata": {
      "needs_background": "light"
     },
     "output_type": "display_data"
    }
   ],
   "source": [
    "sb.boxplot(data=dfl[['weight', 'alp']])"
   ]
  },
  {
   "cell_type": "code",
   "execution_count": 27,
   "id": "68fb4792",
   "metadata": {},
   "outputs": [
    {
     "data": {
      "text/plain": [
       "<AxesSubplot:xlabel='weight', ylabel='Count'>"
      ]
     },
     "execution_count": 27,
     "metadata": {},
     "output_type": "execute_result"
    },
    {
     "data": {
      "image/png": "[encoded data removed]",
      "text/plain": [
       "<Figure size 432x288 with 1 Axes>"
      ]
     },
     "metadata": {
      "needs_background": "light"
     },
     "output_type": "display_data"
    }
   ],
   "source": [
    "sb.histplot(data=dfl['weight'])  ## co s tymto?"
   ]
  },
  {
   "cell_type": "code",
   "execution_count": 28,
   "id": "3ba99f62",
   "metadata": {},
   "outputs": [
    {
     "data": {
      "text/plain": [
       "leukocyty       30\n",
       "ssn              0\n",
       "name             0\n",
       "smoker           0\n",
       "hemoglobin      30\n",
       "trombocyty      30\n",
       "indicator        0\n",
       "alt             30\n",
       "relationship     0\n",
       "weight           0\n",
       "ast             30\n",
       "alp             30\n",
       "hematokrit      30\n",
       "hbver           30\n",
       "etytr           30\n",
       "er-cv           30\n",
       "erytrocyty      30\n",
       "dtype: int64"
      ]
     },
     "execution_count": 28,
     "metadata": {},
     "output_type": "execute_result"
    }
   ],
   "source": [
    "dfl.isnull().sum()"
   ]
  },
  {
   "cell_type": "code",
   "execution_count": 29,
   "id": "4c26cd7c",
   "metadata": {},
   "outputs": [
    {
     "data": {
      "text/plain": [
       "324"
      ]
     },
     "execution_count": 29,
     "metadata": {},
     "output_type": "execute_result"
    }
   ],
   "source": [
    "len(dfl[dfl.isnull().any(axis=1)])"
   ]
  },
  {
   "cell_type": "code",
   "execution_count": 30,
   "id": "574176e8",
   "metadata": {},
   "outputs": [
    {
     "data": {
      "text/plain": [
       "array(['no', 'Y', 'yes', 'N'], dtype=object)"
      ]
     },
     "execution_count": 30,
     "metadata": {},
     "output_type": "execute_result"
    }
   ],
   "source": [
    "dfl.smoker.unique()"
   ]
  },
  {
   "cell_type": "code",
   "execution_count": 31,
   "id": "ea5ea179",
   "metadata": {},
   "outputs": [
    {
     "data": {
      "text/plain": [
       "2576"
      ]
     },
     "execution_count": 31,
     "metadata": {},
     "output_type": "execute_result"
    }
   ],
   "source": [
    "len(dfl.loc[dfl['smoker'].isin(['Y', 'N'])])"
   ]
  },
  {
   "cell_type": "code",
   "execution_count": 32,
   "id": "54184d6c",
   "metadata": {},
   "outputs": [
    {
     "data": {
      "text/plain": [
       "7342"
      ]
     },
     "execution_count": 32,
     "metadata": {},
     "output_type": "execute_result"
    }
   ],
   "source": [
    "len(dfl.loc[dfl['smoker'].isin(['yes', 'no'])])"
   ]
  },
  {
   "cell_type": "code",
   "execution_count": 33,
   "id": "0bfe4165",
   "metadata": {},
   "outputs": [
    {
     "data": {
      "text/plain": [
       "array(['no', 'yes'], dtype=object)"
      ]
     },
     "execution_count": 33,
     "metadata": {},
     "output_type": "execute_result"
    }
   ],
   "source": [
    "dfl['smoker'] = dfl['smoker'].str.replace('N','no')\n",
    "dfl['smoker'] = dfl['smoker'].str.replace('Y','yes')\n",
    "dfl.smoker.unique()"
   ]
  },
  {
   "cell_type": "code",
   "execution_count": 34,
   "id": "71d62dad",
   "metadata": {
    "scrolled": true
   },
   "outputs": [
    {
     "data": {
      "text/plain": [
       "<AxesSubplot:xlabel='alp', ylabel='Count'>"
      ]
     },
     "execution_count": 34,
     "metadata": {},
     "output_type": "execute_result"
    },
    {
     "data": {
      "image/png": "[encoded data removed]",
      "text/plain": [
       "<Figure size 432x288 with 1 Axes>"
      ]
     },
     "metadata": {
      "needs_background": "light"
     },
     "output_type": "display_data"
    }
   ],
   "source": [
    "sb.histplot(data=dfl['alp']) ## su tieto data zle? co s nimi?"
   ]
  },
  {
   "cell_type": "markdown",
   "id": "671bfe59",
   "metadata": {},
   "source": [
    "## Hypotézy"
   ]
  },
  {
   "cell_type": "markdown",
   "id": "b56eff7d",
   "metadata": {},
   "source": [
    "1. Pacienti potrebujúci ďalšie laboratórne vyšetrenie sú prevažne fajčiari."
   ]
  },
  {
   "cell_type": "code",
   "execution_count": 35,
   "id": "fbdefd57",
   "metadata": {},
   "outputs": [
    {
     "data": {
      "text/plain": [
       "smoker  indicator\n",
       "no      0.0          2125\n",
       "        1.0          3747\n",
       "yes     0.0          1398\n",
       "        1.0          2648\n",
       "dtype: int64"
      ]
     },
     "execution_count": 35,
     "metadata": {},
     "output_type": "execute_result"
    }
   ],
   "source": [
    "dfl.groupby(['smoker', 'indicator']).size()"
   ]
  },
  {
   "cell_type": "code",
   "execution_count": 36,
   "id": "befeb7c2",
   "metadata": {},
   "outputs": [
    {
     "data": {
      "text/plain": [
       "([<matplotlib.patches.Wedge at 0x1f5acd8deb0>,\n",
       "  <matplotlib.patches.Wedge at 0x1f5acd9b430>],\n",
       " [Text(0.31370284974639834, 1.0543199334457207, 'Smokers'),\n",
       "  Text(-0.3137028497463982, -1.0543199334457207, 'Non-smokers')])"
      ]
     },
     "execution_count": 36,
     "metadata": {},
     "output_type": "execute_result"
    },
    {
     "data": {
      "image/png": "[encoded data removed]",
      "text/plain": [
       "<Figure size 432x288 with 1 Axes>"
      ]
     },
     "metadata": {},
     "output_type": "display_data"
    }
   ],
   "source": [
    "labels = ['Smokers', 'Non-smokers']\n",
    "plt.pie([len(dfl[dfl['smoker'] == 'yes']), len(dfl[dfl['smoker'] == 'no'])], labels = labels)"
   ]
  },
  {
   "cell_type": "code",
   "execution_count": 37,
   "id": "32b43a51",
   "metadata": {},
   "outputs": [
    {
     "data": {
      "text/plain": [
       "([<matplotlib.patches.Wedge at 0x1f5acde51c0>,\n",
       "  <matplotlib.patches.Wedge at 0x1f5acde5700>],\n",
       " [Text(-0.513114253894348, 0.9729921697785892, 'Smokers'),\n",
       "  Text(0.5131142538943474, -0.9729921697785895, 'Non-smokers')])"
      ]
     },
     "execution_count": 37,
     "metadata": {},
     "output_type": "execute_result"
    },
    {
     "data": {
      "image/png": "[encoded data removed]",
      "text/plain": [
       "<Figure size 432x288 with 1 Axes>"
      ]
     },
     "metadata": {},
     "output_type": "display_data"
    }
   ],
   "source": [
    "labels = ['Smokers', 'Non-smokers']\n",
    "plt.pie([len(dfl[(dfl['smoker'] == 'yes') & (dfl['indicator'] == 1)]), len(dfl[(dfl['smoker'] == 'yes') & (dfl['indicator'] == 0)])], labels = labels)"
   ]
  },
  {
   "cell_type": "code",
   "execution_count": 38,
   "id": "1327bf8d",
   "metadata": {},
   "outputs": [
    {
     "data": {
      "text/plain": [
       "([<matplotlib.patches.Wedge at 0x1f5ace2c3d0>,\n",
       "  <matplotlib.patches.Wedge at 0x1f5ace2c910>],\n",
       " [Text(-0.4624489001704605, 0.9980686422942721, 'Smokers'),\n",
       "  Text(0.46244890017046036, -0.9980686422942722, 'Non-smokers')])"
      ]
     },
     "execution_count": 38,
     "metadata": {},
     "output_type": "execute_result"
    },
    {
     "data": {
      "image/png": "[encoded data removed]",
      "text/plain": [
       "<Figure size 432x288 with 1 Axes>"
      ]
     },
     "metadata": {},
     "output_type": "display_data"
    }
   ],
   "source": [
    "labels = ['Smokers', 'Non-smokers']\n",
    "plt.pie([len(dfl[(dfl['smoker'] == 'no') & (dfl['indicator'] == 1)]), len(dfl[(dfl['smoker'] == 'no') & (dfl['indicator'] == 0)])], labels = labels)"
   ]
  },
  {
   "cell_type": "markdown",
   "id": "3bb2600b",
   "metadata": {},
   "source": [
    "2. Pacienti nevyžadujúci ďalšie laboratórne vyšetrenie majú vyšší počet trombocytov ako pacienti vyžadujúci ďalšie laboratórne vyšetrenia."
   ]
  },
  {
   "cell_type": "code",
   "execution_count": 39,
   "id": "ce006f4c",
   "metadata": {},
   "outputs": [
    {
     "data": {
      "text/plain": [
       "5.990674474807857"
      ]
     },
     "execution_count": 39,
     "metadata": {},
     "output_type": "execute_result"
    }
   ],
   "source": [
    "dfl[dfl['indicator'] == 0]['hemoglobin'].mean()"
   ]
  },
  {
   "cell_type": "code",
   "execution_count": 40,
   "id": "0bfdb3cf",
   "metadata": {},
   "outputs": [
    {
     "data": {
      "text/plain": [
       "7.147994665098039"
      ]
     },
     "execution_count": 40,
     "metadata": {},
     "output_type": "execute_result"
    }
   ],
   "source": [
    "dfl[dfl['indicator'] == 1]['hemoglobin'].mean()"
   ]
  },
  {
   "cell_type": "code",
   "execution_count": 41,
   "id": "65f62cd3",
   "metadata": {},
   "outputs": [],
   "source": [
    "hemo_0 = dfl[dfl['indicator'] == 0]['hemoglobin'].dropna()\n",
    "hemo_1 = dfl[dfl['indicator'] == 1]['hemoglobin'].dropna()"
   ]
  },
  {
   "cell_type": "code",
   "execution_count": 42,
   "id": "3e467473",
   "metadata": {},
   "outputs": [
    {
     "data": {
      "text/plain": [
       "<AxesSubplot:ylabel='Density'>"
      ]
     },
     "execution_count": 42,
     "metadata": {},
     "output_type": "execute_result"
    },
    {
     "data": {
      "image/png": "[encoded data removed]",
      "text/plain": [
       "<Figure size 432x288 with 1 Axes>"
      ]
     },
     "metadata": {
      "needs_background": "light"
     },
     "output_type": "display_data"
    }
   ],
   "source": [
    "d = {'0': hemo_0, '1': hemo_1}\n",
    "df = pd.DataFrame(data=d)\n",
    "sb.kdeplot(data=df, fill = True, alpha = 0.5)"
   ]
  },
  {
   "cell_type": "markdown",
   "id": "ec43691e",
   "metadata": {},
   "source": [
    "**Záver:** Hypotéza sa približne potvrdila?????"
   ]
  },
  {
   "cell_type": "code",
   "execution_count": 43,
   "id": "a8920125",
   "metadata": {},
   "outputs": [
    {
     "data": {
      "text/plain": [
       "<AxesSubplot:xlabel='hemoglobin', ylabel='Count'>"
      ]
     },
     "execution_count": 43,
     "metadata": {},
     "output_type": "execute_result"
    },
    {
     "data": {
      "image/png": "[encoded data removed]",
      "text/plain": [
       "<Figure size 432x288 with 1 Axes>"
      ]
     },
     "metadata": {
      "needs_background": "light"
     },
     "output_type": "display_data"
    }
   ],
   "source": [
    "sb.histplot(data=hemo_0)"
   ]
  },
  {
   "cell_type": "code",
   "execution_count": 44,
   "id": "3f15c165",
   "metadata": {},
   "outputs": [
    {
     "data": {
      "text/plain": [
       "<AxesSubplot:xlabel='hemoglobin', ylabel='Count'>"
      ]
     },
     "execution_count": 44,
     "metadata": {},
     "output_type": "execute_result"
    },
    {
     "data": {
      "image/png": "[encoded data removed]",
      "text/plain": [
       "<Figure size 432x288 with 1 Axes>"
      ]
     },
     "metadata": {
      "needs_background": "light"
     },
     "output_type": "display_data"
    }
   ],
   "source": [
    "sb.histplot(data=hemo_1)"
   ]
  },
  {
   "cell_type": "code",
   "execution_count": 45,
   "id": "76030da1",
   "metadata": {},
   "outputs": [],
   "source": [
    "def identify_outliers(a):\n",
    "    lower = a.quantile(0.25) - 1.5 * stats.iqr(a)\n",
    "    upper = a.quantile(0.75) + 1.5 * stats.iqr(a)\n",
    "    \n",
    "    return a[(a > upper) | (a < lower)]"
   ]
  },
  {
   "cell_type": "code",
   "execution_count": 49,
   "id": "a0dc622b",
   "metadata": {},
   "outputs": [
    {
     "name": "stdout",
     "output_type": "stream",
     "text": [
      "Series([], Name: hemoglobin, dtype: float64)\n",
      "420      3.42843\n",
      "1127     3.44635\n",
      "2711    10.85522\n",
      "5624     3.44051\n",
      "Name: hemoglobin, dtype: float64\n"
     ]
    }
   ],
   "source": [
    "hemo_0_out = identify_outliers(hemo_0)\n",
    "hemo_1_out = identify_outliers(hemo_1)\n",
    "print(len(hemo_0_out))\n",
    "print(len(hemo_1_out))"
   ]
  },
  {
   "cell_type": "code",
   "execution_count": 47,
   "id": "8a758e5e",
   "metadata": {},
   "outputs": [],
   "source": [
    "hemo_0 = hemo_0.drop(hemo_0_out.index)\n",
    "hemo_1 = hemo_1.drop(hemo_1_out.index)"
   ]
  },
  {
   "cell_type": "code",
   "execution_count": 50,
   "id": "9a116585",
   "metadata": {},
   "outputs": [
    {
     "data": {
      "image/png": "[encoded data removed]",
      "text/plain": [
       "<Figure size 432x288 with 1 Axes>"
      ]
     },
     "metadata": {
      "needs_background": "light"
     },
     "output_type": "display_data"
    }
   ],
   "source": [
    "_ = sm.ProbPlot(hemo_0, fit=True).qqplot(line='45')"
   ]
  },
  {
   "cell_type": "code",
   "execution_count": 51,
   "id": "509f25d4",
   "metadata": {},
   "outputs": [
    {
     "data": {
      "image/png": "[encoded data removed]",
      "text/plain": [
       "<Figure size 432x288 with 1 Axes>"
      ]
     },
     "metadata": {
      "needs_background": "light"
     },
     "output_type": "display_data"
    }
   ],
   "source": [
    "_ = sm.ProbPlot(hemo_1.dropna(), fit=True).qqplot(line='45')"
   ]
  },
  {
   "cell_type": "code",
   "execution_count": 53,
   "id": "2ce363a8",
   "metadata": {},
   "outputs": [
    {
     "data": {
      "text/plain": [
       "-0.4852596592842815"
      ]
     },
     "execution_count": 53,
     "metadata": {},
     "output_type": "execute_result"
    }
   ],
   "source": [
    "stats.kurtosis(hemo_0)"
   ]
  },
  {
   "cell_type": "code",
   "execution_count": 54,
   "id": "7786b3a6",
   "metadata": {},
   "outputs": [
    {
     "data": {
      "text/plain": [
       "ShapiroResult(statistic=0.9959529042243958, pvalue=3.599223319383782e-08)"
      ]
     },
     "execution_count": 54,
     "metadata": {},
     "output_type": "execute_result"
    }
   ],
   "source": [
    "stats.shapiro(hemo_0)"
   ]
  },
  {
   "cell_type": "code",
   "execution_count": 56,
   "id": "1bbf7480",
   "metadata": {},
   "outputs": [
    {
     "data": {
      "text/plain": [
       "ShapiroResult(statistic=0.998154878616333, pvalue=7.563602366644773e-07)"
      ]
     },
     "execution_count": 56,
     "metadata": {},
     "output_type": "execute_result"
    }
   ],
   "source": [
    "stats.shapiro(hemo_1)"
   ]
  },
  {
   "cell_type": "code",
   "execution_count": 57,
   "id": "4ecc5161",
   "metadata": {},
   "outputs": [
    {
     "data": {
      "text/plain": [
       "LeveneResult(statistic=438.1176485022613, pvalue=3.237783967301522e-95)"
      ]
     },
     "execution_count": 57,
     "metadata": {},
     "output_type": "execute_result"
    }
   ],
   "source": [
    "stats.levene(hemo_0, hemo_1)"
   ]
  },
  {
   "cell_type": "code",
   "execution_count": 58,
   "id": "f1518c04",
   "metadata": {},
   "outputs": [
    {
     "data": {
      "text/plain": [
       "MannwhitneyuResult(statistic=6737046.0, pvalue=6.312924688938223e-230)"
      ]
     },
     "execution_count": 58,
     "metadata": {},
     "output_type": "execute_result"
    }
   ],
   "source": [
    "stats.mannwhitneyu(hemo_0, hemo_1)"
   ]
  },
  {
   "cell_type": "code",
   "execution_count": 61,
   "id": "c33ce10a",
   "metadata": {},
   "outputs": [
    {
     "data": {
      "text/plain": [
       "(5.921212637445691, 6.038326141093122)"
      ]
     },
     "execution_count": 61,
     "metadata": {},
     "output_type": "execute_result"
    }
   ],
   "source": [
    "sms.DescrStatsW(hemo_0).tconfint_mean()"
   ]
  },
  {
   "cell_type": "code",
   "execution_count": 62,
   "id": "3f5dabdc",
   "metadata": {},
   "outputs": [
    {
     "data": {
      "text/plain": [
       "(7.11533480518697, 7.1805706900811686)"
      ]
     },
     "execution_count": 62,
     "metadata": {},
     "output_type": "execute_result"
    }
   ],
   "source": [
    "sms.DescrStatsW(hemo_1).tconfint_mean()"
   ]
  },
  {
   "cell_type": "code",
   "execution_count": 66,
   "id": "89c92703",
   "metadata": {},
   "outputs": [
    {
     "ename": "AttributeError",
     "evalue": "'list' object has no attribute 'get'",
     "output_type": "error",
     "traceback": [
      "\u001b[1;31m---------------------------------------------------------------------------\u001b[0m",
      "\u001b[1;31mAttributeError\u001b[0m                            Traceback (most recent call last)",
      "\u001b[1;32m<ipython-input-66-c6b75abc9f37>\u001b[0m in \u001b[0;36m<module>\u001b[1;34m\u001b[0m\n\u001b[1;32m----> 1\u001b[1;33m sb.barplot(x='indicator', y='hemoglobin', data=[hemo_0, hemo_1], \n\u001b[0m\u001b[0;32m      2\u001b[0m             capsize=0.1, errwidth=2, palette=sb.color_palette(\"Greens\"))\n",
      "\u001b[1;32mc:\\users\\jakub\\appdata\\local\\programs\\python\\python38\\lib\\site-packages\\seaborn\\_decorators.py\u001b[0m in \u001b[0;36minner_f\u001b[1;34m(*args, **kwargs)\u001b[0m\n\u001b[0;32m     44\u001b[0m             )\n\u001b[0;32m     45\u001b[0m         \u001b[0mkwargs\u001b[0m\u001b[1;33m.\u001b[0m\u001b[0mupdate\u001b[0m\u001b[1;33m(\u001b[0m\u001b[1;33m{\u001b[0m\u001b[0mk\u001b[0m\u001b[1;33m:\u001b[0m \u001b[0marg\u001b[0m \u001b[1;32mfor\u001b[0m \u001b[0mk\u001b[0m\u001b[1;33m,\u001b[0m \u001b[0marg\u001b[0m \u001b[1;32min\u001b[0m \u001b[0mzip\u001b[0m\u001b[1;33m(\u001b[0m\u001b[0msig\u001b[0m\u001b[1;33m.\u001b[0m\u001b[0mparameters\u001b[0m\u001b[1;33m,\u001b[0m \u001b[0margs\u001b[0m\u001b[1;33m)\u001b[0m\u001b[1;33m}\u001b[0m\u001b[1;33m)\u001b[0m\u001b[1;33m\u001b[0m\u001b[1;33m\u001b[0m\u001b[0m\n\u001b[1;32m---> 46\u001b[1;33m         \u001b[1;32mreturn\u001b[0m \u001b[0mf\u001b[0m\u001b[1;33m(\u001b[0m\u001b[1;33m**\u001b[0m\u001b[0mkwargs\u001b[0m\u001b[1;33m)\u001b[0m\u001b[1;33m\u001b[0m\u001b[1;33m\u001b[0m\u001b[0m\n\u001b[0m\u001b[0;32m     47\u001b[0m     \u001b[1;32mreturn\u001b[0m \u001b[0minner_f\u001b[0m\u001b[1;33m\u001b[0m\u001b[1;33m\u001b[0m\u001b[0m\n\u001b[0;32m     48\u001b[0m \u001b[1;33m\u001b[0m\u001b[0m\n",
      "\u001b[1;32mc:\\users\\jakub\\appdata\\local\\programs\\python\\python38\\lib\\site-packages\\seaborn\\categorical.py\u001b[0m in \u001b[0;36mbarplot\u001b[1;34m(x, y, hue, data, order, hue_order, estimator, ci, n_boot, units, seed, orient, color, palette, saturation, errcolor, errwidth, capsize, dodge, ax, **kwargs)\u001b[0m\n\u001b[0;32m   3180\u001b[0m ):\n\u001b[0;32m   3181\u001b[0m \u001b[1;33m\u001b[0m\u001b[0m\n\u001b[1;32m-> 3182\u001b[1;33m     plotter = _BarPlotter(x, y, hue, data, order, hue_order,\n\u001b[0m\u001b[0;32m   3183\u001b[0m                           \u001b[0mestimator\u001b[0m\u001b[1;33m,\u001b[0m \u001b[0mci\u001b[0m\u001b[1;33m,\u001b[0m \u001b[0mn_boot\u001b[0m\u001b[1;33m,\u001b[0m \u001b[0munits\u001b[0m\u001b[1;33m,\u001b[0m \u001b[0mseed\u001b[0m\u001b[1;33m,\u001b[0m\u001b[1;33m\u001b[0m\u001b[1;33m\u001b[0m\u001b[0m\n\u001b[0;32m   3184\u001b[0m                           \u001b[0morient\u001b[0m\u001b[1;33m,\u001b[0m \u001b[0mcolor\u001b[0m\u001b[1;33m,\u001b[0m \u001b[0mpalette\u001b[0m\u001b[1;33m,\u001b[0m \u001b[0msaturation\u001b[0m\u001b[1;33m,\u001b[0m\u001b[1;33m\u001b[0m\u001b[1;33m\u001b[0m\u001b[0m\n",
      "\u001b[1;32mc:\\users\\jakub\\appdata\\local\\programs\\python\\python38\\lib\\site-packages\\seaborn\\categorical.py\u001b[0m in \u001b[0;36m__init__\u001b[1;34m(self, x, y, hue, data, order, hue_order, estimator, ci, n_boot, units, seed, orient, color, palette, saturation, errcolor, errwidth, capsize, dodge)\u001b[0m\n\u001b[0;32m   1582\u001b[0m                  errwidth, capsize, dodge):\n\u001b[0;32m   1583\u001b[0m         \u001b[1;34m\"\"\"Initialize the plotter.\"\"\"\u001b[0m\u001b[1;33m\u001b[0m\u001b[1;33m\u001b[0m\u001b[0m\n\u001b[1;32m-> 1584\u001b[1;33m         self.establish_variables(x, y, hue, data, orient,\n\u001b[0m\u001b[0;32m   1585\u001b[0m                                  order, hue_order, units)\n\u001b[0;32m   1586\u001b[0m         \u001b[0mself\u001b[0m\u001b[1;33m.\u001b[0m\u001b[0mestablish_colors\u001b[0m\u001b[1;33m(\u001b[0m\u001b[0mcolor\u001b[0m\u001b[1;33m,\u001b[0m \u001b[0mpalette\u001b[0m\u001b[1;33m,\u001b[0m \u001b[0msaturation\u001b[0m\u001b[1;33m)\u001b[0m\u001b[1;33m\u001b[0m\u001b[1;33m\u001b[0m\u001b[0m\n",
      "\u001b[1;32mc:\\users\\jakub\\appdata\\local\\programs\\python\\python38\\lib\\site-packages\\seaborn\\categorical.py\u001b[0m in \u001b[0;36mestablish_variables\u001b[1;34m(self, x, y, hue, data, orient, order, hue_order, units)\u001b[0m\n\u001b[0;32m    142\u001b[0m             \u001b[1;31m# See if we need to get variables from `data`\u001b[0m\u001b[1;33m\u001b[0m\u001b[1;33m\u001b[0m\u001b[1;33m\u001b[0m\u001b[0m\n\u001b[0;32m    143\u001b[0m             \u001b[1;32mif\u001b[0m \u001b[0mdata\u001b[0m \u001b[1;32mis\u001b[0m \u001b[1;32mnot\u001b[0m \u001b[1;32mNone\u001b[0m\u001b[1;33m:\u001b[0m\u001b[1;33m\u001b[0m\u001b[1;33m\u001b[0m\u001b[0m\n\u001b[1;32m--> 144\u001b[1;33m                 \u001b[0mx\u001b[0m \u001b[1;33m=\u001b[0m \u001b[0mdata\u001b[0m\u001b[1;33m.\u001b[0m\u001b[0mget\u001b[0m\u001b[1;33m(\u001b[0m\u001b[0mx\u001b[0m\u001b[1;33m,\u001b[0m \u001b[0mx\u001b[0m\u001b[1;33m)\u001b[0m\u001b[1;33m\u001b[0m\u001b[1;33m\u001b[0m\u001b[0m\n\u001b[0m\u001b[0;32m    145\u001b[0m                 \u001b[0my\u001b[0m \u001b[1;33m=\u001b[0m \u001b[0mdata\u001b[0m\u001b[1;33m.\u001b[0m\u001b[0mget\u001b[0m\u001b[1;33m(\u001b[0m\u001b[0my\u001b[0m\u001b[1;33m,\u001b[0m \u001b[0my\u001b[0m\u001b[1;33m)\u001b[0m\u001b[1;33m\u001b[0m\u001b[1;33m\u001b[0m\u001b[0m\n\u001b[0;32m    146\u001b[0m                 \u001b[0mhue\u001b[0m \u001b[1;33m=\u001b[0m \u001b[0mdata\u001b[0m\u001b[1;33m.\u001b[0m\u001b[0mget\u001b[0m\u001b[1;33m(\u001b[0m\u001b[0mhue\u001b[0m\u001b[1;33m,\u001b[0m \u001b[0mhue\u001b[0m\u001b[1;33m)\u001b[0m\u001b[1;33m\u001b[0m\u001b[1;33m\u001b[0m\u001b[0m\n",
      "\u001b[1;31mAttributeError\u001b[0m: 'list' object has no attribute 'get'"
     ]
    }
   ],
   "source": [
    "sb.barplot(x='indicator', y='hemoglobin', data=[hemo_0, hemo_1], \n",
    "            capsize=0.1, errwidth=2, palette=sb.color_palette(\"Greens\"))"
   ]
  },
  {
   "cell_type": "code",
   "execution_count": null,
   "id": "ebe02c67",
   "metadata": {},
   "outputs": [],
   "source": []
  }
 ],
 "metadata": {
  "kernelspec": {
   "display_name": "Python 3",
   "language": "python",
   "name": "python3"
  },
  "language_info": {
   "codemirror_mode": {
    "name": "ipython",
    "version": 3
   },
   "file_extension": ".py",
   "mimetype": "text/x-python",
   "name": "python",
   "nbconvert_exporter": "python",
   "pygments_lexer": "ipython3",
   "version": "3.8.6"
  }
 },
 "nbformat": 4,
 "nbformat_minor": 5
}
