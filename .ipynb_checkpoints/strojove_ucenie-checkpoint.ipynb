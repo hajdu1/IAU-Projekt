{
 "cells": [
  {
   "cell_type": "markdown",
   "id": "42d889b4",
   "metadata": {},
   "source": [
    "# Fáza 2"
   ]
  },
  {
   "cell_type": "markdown",
   "id": "9b0613f8",
   "metadata": {},
   "source": [
    "**Michaela Gubovská, Jakub Hajdu**"
   ]
  },
  {
   "cell_type": "markdown",
   "id": "b8dd3b2b",
   "metadata": {},
   "source": [
    "V tejto fáze ja ňevjem uš"
   ]
  },
  {
   "cell_type": "code",
   "execution_count": 1,
   "id": "4d6627eb",
   "metadata": {},
   "outputs": [],
   "source": [
    "import pandas as pd\n",
    "import matplotlib.pyplot as plt\n",
    "import seaborn as sns\n",
    "import scipy.stats as stats\n",
    "import numpy as np\n",
    "import category_encoders as ce\n",
    "from datetime import datetime\n",
    "from sklearn.impute import SimpleImputer, KNNImputer\n",
    "from copy import deepcopy\n",
    "from scipy import mean\n",
    "\n",
    "xtrain = pd.read_csv(\"data/X_train.csv\", sep=',')\n",
    "xtest = pd.read_csv(\"data/X_test.csv\", sep=',')\n",
    "ytrain = pd.read_csv(\"data/y_train.csv\", sep=',')\n",
    "ytest = pd.read_csv(\"data/y_test.csv\", sep=',')"
   ]
  },
  {
   "cell_type": "markdown",
   "id": "751b4867",
   "metadata": {},
   "source": [
    "Načítali sme si trénovacie a testovacie dáta."
   ]
  },
  {
   "cell_type": "code",
   "execution_count": 2,
   "id": "c0019f77",
   "metadata": {},
   "outputs": [
    {
     "data": {
      "text/html": [
       "<div>\n",
       "<style scoped>\n",
       "    .dataframe tbody tr th:only-of-type {\n",
       "        vertical-align: middle;\n",
       "    }\n",
       "\n",
       "    .dataframe tbody tr th {\n",
       "        vertical-align: top;\n",
       "    }\n",
       "\n",
       "    .dataframe thead th {\n",
       "        text-align: right;\n",
       "    }\n",
       "</style>\n",
       "<table border=\"1\" class=\"dataframe\">\n",
       "  <thead>\n",
       "    <tr style=\"text-align: right;\">\n",
       "      <th></th>\n",
       "      <th>hematokrit</th>\n",
       "      <th>hemoglobin</th>\n",
       "      <th>er-cv</th>\n",
       "      <th>erytrocyty</th>\n",
       "      <th>hbver</th>\n",
       "    </tr>\n",
       "  </thead>\n",
       "  <tbody>\n",
       "    <tr>\n",
       "      <th>0</th>\n",
       "      <td>0.489452</td>\n",
       "      <td>0.781517</td>\n",
       "      <td>0.365514</td>\n",
       "      <td>0.493230</td>\n",
       "      <td>0.458152</td>\n",
       "    </tr>\n",
       "    <tr>\n",
       "      <th>1</th>\n",
       "      <td>0.632758</td>\n",
       "      <td>0.324983</td>\n",
       "      <td>0.464994</td>\n",
       "      <td>0.562196</td>\n",
       "      <td>0.680407</td>\n",
       "    </tr>\n",
       "    <tr>\n",
       "      <th>2</th>\n",
       "      <td>0.509218</td>\n",
       "      <td>0.604928</td>\n",
       "      <td>0.540910</td>\n",
       "      <td>0.470804</td>\n",
       "      <td>0.371400</td>\n",
       "    </tr>\n",
       "    <tr>\n",
       "      <th>3</th>\n",
       "      <td>0.613710</td>\n",
       "      <td>0.483566</td>\n",
       "      <td>0.588659</td>\n",
       "      <td>0.497569</td>\n",
       "      <td>0.347080</td>\n",
       "    </tr>\n",
       "    <tr>\n",
       "      <th>4</th>\n",
       "      <td>0.456906</td>\n",
       "      <td>0.723530</td>\n",
       "      <td>0.321346</td>\n",
       "      <td>0.477563</td>\n",
       "      <td>0.261482</td>\n",
       "    </tr>\n",
       "  </tbody>\n",
       "</table>\n",
       "</div>"
      ],
      "text/plain": [
       "   hematokrit  hemoglobin     er-cv  erytrocyty     hbver\n",
       "0    0.489452    0.781517  0.365514    0.493230  0.458152\n",
       "1    0.632758    0.324983  0.464994    0.562196  0.680407\n",
       "2    0.509218    0.604928  0.540910    0.470804  0.371400\n",
       "3    0.613710    0.483566  0.588659    0.497569  0.347080\n",
       "4    0.456906    0.723530  0.321346    0.477563  0.261482"
      ]
     },
     "execution_count": 2,
     "metadata": {},
     "output_type": "execute_result"
    }
   ],
   "source": [
    "xtrain.head()"
   ]
  },
  {
   "cell_type": "code",
   "execution_count": 3,
   "id": "8dfb55d6",
   "metadata": {},
   "outputs": [
    {
     "data": {
      "text/html": [
       "<div>\n",
       "<style scoped>\n",
       "    .dataframe tbody tr th:only-of-type {\n",
       "        vertical-align: middle;\n",
       "    }\n",
       "\n",
       "    .dataframe tbody tr th {\n",
       "        vertical-align: top;\n",
       "    }\n",
       "\n",
       "    .dataframe thead th {\n",
       "        text-align: right;\n",
       "    }\n",
       "</style>\n",
       "<table border=\"1\" class=\"dataframe\">\n",
       "  <thead>\n",
       "    <tr style=\"text-align: right;\">\n",
       "      <th></th>\n",
       "      <th>indicator</th>\n",
       "    </tr>\n",
       "  </thead>\n",
       "  <tbody>\n",
       "    <tr>\n",
       "      <th>0</th>\n",
       "      <td>1.0</td>\n",
       "    </tr>\n",
       "    <tr>\n",
       "      <th>1</th>\n",
       "      <td>0.0</td>\n",
       "    </tr>\n",
       "    <tr>\n",
       "      <th>2</th>\n",
       "      <td>0.0</td>\n",
       "    </tr>\n",
       "    <tr>\n",
       "      <th>3</th>\n",
       "      <td>0.0</td>\n",
       "    </tr>\n",
       "    <tr>\n",
       "      <th>4</th>\n",
       "      <td>0.0</td>\n",
       "    </tr>\n",
       "  </tbody>\n",
       "</table>\n",
       "</div>"
      ],
      "text/plain": [
       "   indicator\n",
       "0        1.0\n",
       "1        0.0\n",
       "2        0.0\n",
       "3        0.0\n",
       "4        0.0"
      ]
     },
     "execution_count": 3,
     "metadata": {},
     "output_type": "execute_result"
    }
   ],
   "source": [
    "ytrain.head()"
   ]
  },
  {
   "cell_type": "markdown",
   "id": "6143fa6f",
   "metadata": {},
   "source": [
    "Vytvoríme si zlúčený trénovací dataframe pre jednoduhšiu prácu pri OneR klasifikácii."
   ]
  },
  {
   "cell_type": "code",
   "execution_count": 4,
   "id": "ad958e86",
   "metadata": {},
   "outputs": [
    {
     "data": {
      "text/html": [
       "<div>\n",
       "<style scoped>\n",
       "    .dataframe tbody tr th:only-of-type {\n",
       "        vertical-align: middle;\n",
       "    }\n",
       "\n",
       "    .dataframe tbody tr th {\n",
       "        vertical-align: top;\n",
       "    }\n",
       "\n",
       "    .dataframe thead th {\n",
       "        text-align: right;\n",
       "    }\n",
       "</style>\n",
       "<table border=\"1\" class=\"dataframe\">\n",
       "  <thead>\n",
       "    <tr style=\"text-align: right;\">\n",
       "      <th></th>\n",
       "      <th>hematokrit</th>\n",
       "      <th>hemoglobin</th>\n",
       "      <th>er-cv</th>\n",
       "      <th>erytrocyty</th>\n",
       "      <th>hbver</th>\n",
       "      <th>indicator</th>\n",
       "    </tr>\n",
       "  </thead>\n",
       "  <tbody>\n",
       "    <tr>\n",
       "      <th>0</th>\n",
       "      <td>0.489452</td>\n",
       "      <td>0.781517</td>\n",
       "      <td>0.365514</td>\n",
       "      <td>0.493230</td>\n",
       "      <td>0.458152</td>\n",
       "      <td>1.0</td>\n",
       "    </tr>\n",
       "    <tr>\n",
       "      <th>1</th>\n",
       "      <td>0.632758</td>\n",
       "      <td>0.324983</td>\n",
       "      <td>0.464994</td>\n",
       "      <td>0.562196</td>\n",
       "      <td>0.680407</td>\n",
       "      <td>0.0</td>\n",
       "    </tr>\n",
       "    <tr>\n",
       "      <th>2</th>\n",
       "      <td>0.509218</td>\n",
       "      <td>0.604928</td>\n",
       "      <td>0.540910</td>\n",
       "      <td>0.470804</td>\n",
       "      <td>0.371400</td>\n",
       "      <td>0.0</td>\n",
       "    </tr>\n",
       "    <tr>\n",
       "      <th>3</th>\n",
       "      <td>0.613710</td>\n",
       "      <td>0.483566</td>\n",
       "      <td>0.588659</td>\n",
       "      <td>0.497569</td>\n",
       "      <td>0.347080</td>\n",
       "      <td>0.0</td>\n",
       "    </tr>\n",
       "    <tr>\n",
       "      <th>4</th>\n",
       "      <td>0.456906</td>\n",
       "      <td>0.723530</td>\n",
       "      <td>0.321346</td>\n",
       "      <td>0.477563</td>\n",
       "      <td>0.261482</td>\n",
       "      <td>0.0</td>\n",
       "    </tr>\n",
       "    <tr>\n",
       "      <th>...</th>\n",
       "      <td>...</td>\n",
       "      <td>...</td>\n",
       "      <td>...</td>\n",
       "      <td>...</td>\n",
       "      <td>...</td>\n",
       "      <td>...</td>\n",
       "    </tr>\n",
       "    <tr>\n",
       "      <th>7433</th>\n",
       "      <td>0.599123</td>\n",
       "      <td>0.666367</td>\n",
       "      <td>0.750780</td>\n",
       "      <td>0.116027</td>\n",
       "      <td>0.515945</td>\n",
       "      <td>1.0</td>\n",
       "    </tr>\n",
       "    <tr>\n",
       "      <th>7434</th>\n",
       "      <td>0.795075</td>\n",
       "      <td>0.003092</td>\n",
       "      <td>0.494317</td>\n",
       "      <td>0.229950</td>\n",
       "      <td>0.512240</td>\n",
       "      <td>0.0</td>\n",
       "    </tr>\n",
       "    <tr>\n",
       "      <th>7435</th>\n",
       "      <td>0.481418</td>\n",
       "      <td>0.620453</td>\n",
       "      <td>0.577534</td>\n",
       "      <td>0.300379</td>\n",
       "      <td>0.594770</td>\n",
       "      <td>1.0</td>\n",
       "    </tr>\n",
       "    <tr>\n",
       "      <th>7436</th>\n",
       "      <td>0.344020</td>\n",
       "      <td>0.363165</td>\n",
       "      <td>0.536503</td>\n",
       "      <td>0.393597</td>\n",
       "      <td>0.535648</td>\n",
       "      <td>1.0</td>\n",
       "    </tr>\n",
       "    <tr>\n",
       "      <th>7437</th>\n",
       "      <td>0.375136</td>\n",
       "      <td>0.442578</td>\n",
       "      <td>0.408227</td>\n",
       "      <td>0.519224</td>\n",
       "      <td>0.546454</td>\n",
       "      <td>1.0</td>\n",
       "    </tr>\n",
       "  </tbody>\n",
       "</table>\n",
       "<p>7438 rows × 6 columns</p>\n",
       "</div>"
      ],
      "text/plain": [
       "      hematokrit  hemoglobin     er-cv  erytrocyty     hbver  indicator\n",
       "0       0.489452    0.781517  0.365514    0.493230  0.458152        1.0\n",
       "1       0.632758    0.324983  0.464994    0.562196  0.680407        0.0\n",
       "2       0.509218    0.604928  0.540910    0.470804  0.371400        0.0\n",
       "3       0.613710    0.483566  0.588659    0.497569  0.347080        0.0\n",
       "4       0.456906    0.723530  0.321346    0.477563  0.261482        0.0\n",
       "...          ...         ...       ...         ...       ...        ...\n",
       "7433    0.599123    0.666367  0.750780    0.116027  0.515945        1.0\n",
       "7434    0.795075    0.003092  0.494317    0.229950  0.512240        0.0\n",
       "7435    0.481418    0.620453  0.577534    0.300379  0.594770        1.0\n",
       "7436    0.344020    0.363165  0.536503    0.393597  0.535648        1.0\n",
       "7437    0.375136    0.442578  0.408227    0.519224  0.546454        1.0\n",
       "\n",
       "[7438 rows x 6 columns]"
      ]
     },
     "execution_count": 4,
     "metadata": {},
     "output_type": "execute_result"
    }
   ],
   "source": [
    "train_join = xtrain.join(ytrain)\n",
    "train_join"
   ]
  },
  {
   "cell_type": "markdown",
   "id": "ef4946ea",
   "metadata": {},
   "source": [
    "Už vo fáze EDA sme videli výraznejšiu závislosť indikátora a hemoglobínu, taktiež indikátora a hematokritu. Tieto dva atribúty po predspracovaní rovnako skončili medzi najdôležitejšími ohľadom vplyvu na indikátor. Úplne manuálne by sa dali pravidlá pre OneR algoritmus stanoviť napríklad tak, že sa pozrieme na rozdielne priemery atribútu skupiny s indikátorom 0 v porovnaní s indikátorom 1. "
   ]
  },
  {
   "cell_type": "code",
   "execution_count": 5,
   "id": "6dfc45be",
   "metadata": {},
   "outputs": [
    {
     "data": {
      "text/plain": [
       "[Text(0.5, 0, 'indicator'), Text(0, 0.5, 'hemoglobin')]"
      ]
     },
     "execution_count": 5,
     "metadata": {},
     "output_type": "execute_result"
    },
    {
     "data": {
      "image/png": "[encoded data removed]",
      "text/plain": [
       "<Figure size 432x288 with 1 Axes>"
      ]
     },
     "metadata": {
      "needs_background": "light"
     },
     "output_type": "display_data"
    }
   ],
   "source": [
    "xtrain0 = train_join[train_join['indicator']==0]\n",
    "xtrain1 = train_join[train_join['indicator']==1]\n",
    "sns.boxplot(data=[xtrain0['hemoglobin'], xtrain1['hemoglobin']]).set(xlabel='indicator', ylabel='hemoglobin')"
   ]
  },
  {
   "cell_type": "markdown",
   "id": "6045d10c",
   "metadata": {},
   "source": [
    "Napríklad pri hemoglobíne by sme mohli povedať, že by rozhodla hodnota v strede medzi priemermi skupín s indikátorom 0 a 1.\n",
    "Menšie hodnoty ako táto hranica by klasifikovali indikátor 0, naopak vyššie by znamenali indikátor 1. Táto hodnota je:"
   ]
  },
  {
   "cell_type": "code",
   "execution_count": 6,
   "id": "ec7df7d0",
   "metadata": {},
   "outputs": [
    {
     "data": {
      "text/plain": [
       "0.44151760432413656"
      ]
     },
     "execution_count": 6,
     "metadata": {},
     "output_type": "execute_result"
    }
   ],
   "source": [
    "manual_value = np.mean([xtrain0['hemoglobin'].mean(), xtrain1['hemoglobin'].mean()])\n",
    "manual_value"
   ]
  },
  {
   "cell_type": "markdown",
   "id": "bd323cf3",
   "metadata": {},
   "source": [
    "Spočítame si úspešnosť na trénovacom sete."
   ]
  },
  {
   "cell_type": "code",
   "execution_count": 7,
   "id": "3e23e2b8",
   "metadata": {},
   "outputs": [
    {
     "data": {
      "text/plain": [
       "0.6411669803710675"
      ]
     },
     "execution_count": 7,
     "metadata": {},
     "output_type": "execute_result"
    }
   ],
   "source": [
    "correct = 0\n",
    "for i in range(len(train_join)):\n",
    "    value = train_join.iloc[i]['hemoglobin']\n",
    "    if train_join.iloc[i]['hemoglobin'] < manual_value:\n",
    "        if ytrain.iloc[i]['indicator']==0:\n",
    "            correct += 1\n",
    "    else:\n",
    "        if ytrain.iloc[i]['indicator']==1:\n",
    "            correct += 1\n",
    "correct/len(train_join)"
   ]
  },
  {
   "cell_type": "markdown",
   "id": "2d5e0858",
   "metadata": {},
   "source": [
    "Vidíme, že úspešnosť takto zvoleného pravidla sa blíži k dvom tretinám. Dá sa však zlepšiť."
   ]
  },
  {
   "cell_type": "markdown",
   "id": "baaaa814",
   "metadata": {},
   "source": [
    "Definujeme si funkciu, ktorá vytvorí pravidlá pre OneR algoritmus.\n",
    "\n",
    "- na vstupe očakáva dataframe s atribútmi a indikátorom, stĺpce, pre ktoré chceme vytvárať pravidlá a počet skupín\n",
    "- podľa buckets sa dataframe rozdelí na skupiny, ktoré slúžia na diskretizáciu hodnôt\n",
    "- body na hranici týchto buckets sú potenciálne body binárneho delenia na indikátor 0 a 1\n",
    "- každý z týchto bodov sa skúma na úspešnosť klasifikácie záznamov menších a väčších ako daná hodnota\n",
    "- najlepší bod rozdelenia so svojou úspešnosťou je vybratý ako pravidlo\n",
    "- pravidlá sa ukladajú do svojho dataframe a nakoniec sú zoradené od najúspešnejšieho"
   ]
  },
  {
   "cell_type": "code",
   "execution_count": 8,
   "id": "30715344",
   "metadata": {},
   "outputs": [],
   "source": [
    "def one_r_make_rules(data, cols, buckets):\n",
    "    \n",
    "    rules = pd.DataFrame(columns=['attribute', 'value', 'smaller', 'importance'])\n",
    "    \n",
    "    for attribute in cols:\n",
    "        scores = pd.DataFrame(columns=['value', 'smaller', 'success'])\n",
    "        data_sort = data[[attribute, 'indicator']].sort_values(by=attribute)\n",
    "        \n",
    "        for i, point in enumerate(np.arange(len(data_sort)//buckets, len(data_sort), len(data_sort)//buckets)):\n",
    "            data_left = data_sort[:point]\n",
    "            data_right = data_sort[point:]\n",
    "            success = (len(data_left[data_left['indicator']==0]) + len(data_right[data_right['indicator']==1])) / len(data_sort)\n",
    "            if success < 0.5:\n",
    "                scores = scores.append({'value':data_sort.iloc[point][attribute], 'smaller':1, 'success':1-success}, ignore_index=True)\n",
    "            else:\n",
    "                scores = scores.append({'value':data_sort.iloc[point][attribute], 'smaller':0, 'success':success}, ignore_index=True)\n",
    "        #print(scores)\n",
    "        best = scores.sort_values(by='success', ascending=False).reset_index().loc[0]\n",
    "        rules = rules.append({'attribute':attribute, 'value':best['value'], 'smaller':best['smaller'], 'importance':best['success']}, ignore_index=True)\n",
    "    \n",
    "    rules = rules.sort_values(by='importance', ascending=False).reset_index()\n",
    "    return rules"
   ]
  },
  {
   "cell_type": "markdown",
   "id": "890b2dd9",
   "metadata": {},
   "source": [
    "Funkcia na čitateľný výpis vytvorených pravidiel\n",
    "\n",
    "- best = True vypíše len najlepšie pravidlo, False vypíše všetky"
   ]
  },
  {
   "cell_type": "code",
   "execution_count": 9,
   "id": "b853b783",
   "metadata": {},
   "outputs": [],
   "source": [
    "def one_r_print_rules(rules, best):\n",
    "    if best:\n",
    "        print('If', rules.iloc[0]['attribute'], 'is smaller than', rules.iloc[0]['value'], ': indicator =', int(rules.iloc[0]['smaller']), 'importance:', rules.iloc[0]['importance'], '\\n')\n",
    "    else:\n",
    "        for i in range(len(rules)):\n",
    "            print('If', rules.iloc[i]['attribute'], 'is smaller than', rules.iloc[i]['value'], ': indicator =', int(rules.iloc[i]['smaller']), 'importance:', rules.iloc[i]['importance'], '\\n')"
   ]
  },
  {
   "cell_type": "markdown",
   "id": "8d312ab8",
   "metadata": {},
   "source": [
    "Ďalej si definujeme funkciu, ktorá vykoná samotnú klasifikáciu, vracia dataframe s klasifikovanými hodnotami indikátora"
   ]
  },
  {
   "cell_type": "code",
   "execution_count": 10,
   "id": "3b29710e",
   "metadata": {},
   "outputs": [],
   "source": [
    "def one_r_classify(data, rule):\n",
    "    lo = rule['smaller']\n",
    "    hi = 1.0 if lo == 0 else 0.0\n",
    "    \n",
    "    result = pd.DataFrame(columns=['indicator'])\n",
    "    \n",
    "    for i in range(len(data)):\n",
    "        value = data.iloc[i][rule['attribute']]\n",
    "        if value < rule['value']:\n",
    "            result = result.append({'indicator':lo}, ignore_index=True)\n",
    "        else:\n",
    "            result = result.append({'indicator':hi}, ignore_index=True)\n",
    "    return result"
   ]
  },
  {
   "cell_type": "code",
   "execution_count": 11,
   "id": "bd62c56c",
   "metadata": {},
   "outputs": [],
   "source": [
    "# toto pojde asi potom prec\n",
    "def correct_y(classified, train):\n",
    "    correct = 0\n",
    "    for i in range(len(train)):\n",
    "        if train.iloc[i]['indicator'] == classified.iloc[i]['indicator']:\n",
    "            correct += 1\n",
    "    print(correct/len(train))"
   ]
  },
  {
   "cell_type": "code",
   "execution_count": 12,
   "id": "a0c0ee39",
   "metadata": {
    "scrolled": true
   },
   "outputs": [
    {
     "name": "stdout",
     "output_type": "stream",
     "text": [
      "If hemoglobin is smaller than 0.2838841865790894 : indicator = 0 importance: 0.7225060500134445 \n",
      "\n",
      "If hematokrit is smaller than 0.5895401015348607 : indicator = 1 importance: 0.6628125840279645 \n",
      "\n",
      "If erytrocyty is smaller than 0.8498849070929964 : indicator = 1 importance: 0.6472169938155419 \n",
      "\n",
      "If hbver is smaller than 0.8278276577878817 : indicator = 1 importance: 0.64425920946491 \n",
      "\n",
      "If er-cv is smaller than 0.9406695269801008 : indicator = 1 importance: 0.6437214304920678 \n",
      "\n"
     ]
    }
   ],
   "source": [
    "rules = one_r_make_rules(train_join, xtrain.columns, 50)\n",
    "one_r_print_rules(rules, False)"
   ]
  },
  {
   "cell_type": "markdown",
   "id": "dff7405d",
   "metadata": {},
   "source": [
    "Po skúšaní rôzneho počtu bucketov sme prišli na to, že 50 poskytuje dostatočne detailné \"rozlíšenie\" hraničnej hodnoty, možno by stačilo aj 10 alebo 15. Naopak 500 bucketov nemalo prakticky takmer žiadny efekt na úspešnosť pravidla (nárast o 0,1%)."
   ]
  },
  {
   "cell_type": "markdown",
   "id": "9dc7507e",
   "metadata": {},
   "source": [
    "Overíme si, či sa výsledok hodnotenia klasifikácie na základe pravidla o hemoglobíne zhoduje s vypísanou úspešnosťou tohto pravidla."
   ]
  },
  {
   "cell_type": "code",
   "execution_count": 13,
   "id": "1ac1ac79",
   "metadata": {},
   "outputs": [
    {
     "name": "stdout",
     "output_type": "stream",
     "text": [
      "0.7225060500134445\n"
     ]
    }
   ],
   "source": [
    "ytrain_classified = one_r_classify(xtrain, rules.loc[0])\n",
    "correct_y(ytrain_classified, ytrain)"
   ]
  },
  {
   "cell_type": "markdown",
   "id": "76a19eda",
   "metadata": {},
   "source": [
    "Môžeme sa pozrieť na úspešnosť takéhoto klasifikátora na testovacom sete. Vidíme, že má veľmi podobnú úspešnosť:"
   ]
  },
  {
   "cell_type": "code",
   "execution_count": 14,
   "id": "d72bf869",
   "metadata": {},
   "outputs": [
    {
     "name": "stdout",
     "output_type": "stream",
     "text": [
      "0.7116935483870968\n"
     ]
    }
   ],
   "source": [
    "ytest_classified = one_r_classify(xtest, rules.loc[0])\n",
    "correct_y(ytest_classified, ytest)"
   ]
  },
  {
   "cell_type": "markdown",
   "id": "252bcea7",
   "metadata": {},
   "source": [
    "**vyhodnotiť pomocou metrík accuracy, precision a recall**"
   ]
  },
  {
   "cell_type": "code",
   "execution_count": null,
   "id": "4625c26a",
   "metadata": {},
   "outputs": [],
   "source": []
  }
 ],
 "metadata": {
  "kernelspec": {
   "display_name": "Python 3",
   "language": "python",
   "name": "python3"
  },
  "language_info": {
   "codemirror_mode": {
    "name": "ipython",
    "version": 3
   },
   "file_extension": ".py",
   "mimetype": "text/x-python",
   "name": "python",
   "nbconvert_exporter": "python",
   "pygments_lexer": "ipython3",
   "version": "3.8.6"
  }
 },
 "nbformat": 4,
 "nbformat_minor": 5
}
